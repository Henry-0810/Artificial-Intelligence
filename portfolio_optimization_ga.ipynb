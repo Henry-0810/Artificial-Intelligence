{
  "nbformat": 4,
  "nbformat_minor": 0,
  "metadata": {
    "colab": {
      "provenance": [],
      "toc_visible": true,
      "include_colab_link": true
    },
    "kernelspec": {
      "name": "python3",
      "display_name": "Python 3"
    },
    "language_info": {
      "name": "python"
    }
  },
  "cells": [
    {
      "cell_type": "markdown",
      "metadata": {
        "id": "view-in-github",
        "colab_type": "text"
      },
      "source": [
        "<a href=\"https://colab.research.google.com/github/Henry-0810/Artificial-Intelligence/blob/main/portfolio_optimization_ga.ipynb\" target=\"_parent\"><img src=\"https://colab.research.google.com/assets/colab-badge.svg\" alt=\"Open In Colab\"/></a>"
      ]
    },
    {
      "cell_type": "markdown",
      "source": [
        "# **Genetic Algorithm**\n",
        "## **Portfolio Optimization**\n",
        "I will only use 5 stocks for this project. Stock data are all real-time, retrived from the Yahoo Finance API, https://pypi.org/project/yfinance/"
      ],
      "metadata": {
        "id": "nH8O89crwBDo"
      }
    },
    {
      "cell_type": "markdown",
      "source": [
        "## Problem Statement (~30%)"
      ],
      "metadata": {
        "id": "HsDO1OXBTB1r"
      }
    },
    {
      "cell_type": "markdown",
      "source": [
        "### Description of the Problem  \n",
        "Portfolio optimization is the process of selecting the best combination of assets to maximize returns while minimizing risk. A common approach is **Markowitz’s Mean-Variance Optimization (MVO)**, which constructs an efficient portfolio using expected returns, variances, and covariances of assets.  \n",
        "\n",
        "However, MVO has several limitations:  \n",
        "1. **Complexity**: Solving quadratic optimization problems becomes expensive as the number of assets grows.  \n",
        "2. **Strict Assumptions**: MVO assumes asset returns follow a normal distribution and that investors have quadratic utility functions, which is not always realistic.  \n",
        "3. **Handling Constraints**: Incorporating real-world constraints (e.g., restricting allocations to certain stocks) increases the complexity.  \n",
        "\n",
        "To overcome these challenges, this project applies a **Genetic Algorithm (GA)** to optimize portfolio allocation. Unlike MVO, GA is a heuristic approach that efficiently searches for near-optimal solutions without relying on strict mathematical assumptions.  \n",
        "\n",
        "The goal is to maximize the **Sharpe Ratio**, a key financial metric that balances return and risk, making GA a suitable technique for solving this problem.\n",
        "\n",
        "---\n",
        "\n",
        "### Discussion of the Suitability of Genetic Algorithms\n",
        "Genetic Algorithms (GAs) are well-suited for portfolio optimization due to their ability to handle large search spaces and complex constraints. Key advantages include:  \n",
        "\n",
        "- **Scalability** – GAs can handle large datasets efficiently without exponential growth in computational cost.  \n",
        "- **No Assumption of Normality** – Unlike MVO, GA does not require asset returns to be normally distributed.  \n",
        "- **Flexibility** – GA can incorporate additional constraints, such as limiting investment in specific stocks or ensuring minimum allocation to certain sectors.  \n",
        "\n",
        "Through **evolutionary selection**, GA gradually improves the portfolio allocation, leading to **higher Sharpe Ratios** compared to naive allocation strategies.\n",
        "\n",
        "---\n",
        "\n",
        "### Complexity of the Problem (Project Plan)\n",
        "Portfolio optimization presents a **high-dimensional, non-linear problem** where:  \n",
        "- Each chromosome represents a possible portfolio allocation (weights og assets).  \n",
        "- The solution space grows exponentially with the number of stocks considered.  \n",
        "- Evaluating a portfolio requires calculating historical **returns, variances, and covariances** over a defined period.  \n",
        "- The GA must balance exploration (mutation) and exploitation (crossover) to meet an optimal solution efficiently.  \n",
        "\n",
        "The complexity of the Genetic Algorithm increases with:  \n",
        "- The **number of assets** included in the portfolio (will be using only 5 in this case for a proof of concept).  \n",
        "- The **historical data period** used for return calculations (longer periods increase computational load).  \n",
        "- The **GA parameters** (population size, mutation rate, number of generations), which impact convergence speed.  \n",
        "\n",
        "Despite this complexity, GA provides a robust and adaptable approach to solving portfolio optimization problems where traditional methods struggle.\n",
        "\n",
        "---\n",
        "\n",
        "**Reference**  \n",
        "- [Markowitz Portfolio Theory](https://sites.math.washington.edu/~burke/crs/408/fin-proj/mark1.pdf)\n"
      ],
      "metadata": {
        "id": "KOfOnjYU8_Ya"
      }
    },
    {
      "cell_type": "markdown",
      "source": [
        "## The Problem and Fitness Function (~20%)"
      ],
      "metadata": {
        "id": "LjeQYJ_JStKP"
      }
    },
    {
      "cell_type": "code",
      "execution_count": 165,
      "metadata": {
        "id": "7LbdkZaqvxk6"
      },
      "outputs": [],
      "source": [
        "import pandas as pd\n",
        "import numpy as np\n",
        "import yfinance as yf\n",
        "from google.colab import drive"
      ]
    },
    {
      "cell_type": "markdown",
      "source": [
        "#### 1. Fetch Historical Data\n",
        "I will fetch 10 years of historical data starting from February 11th 2014 to February 11th 2025.\n",
        "I will investigate on 5 Stocks:\n",
        "1. Apple Inc. (AAPL)\n",
        "2. Tesla Inc. (TSLA)\n",
        "3. Microsoft Corp. (MSFT)\n",
        "4. Amazon.com Inc. (AMZN)\n",
        "5. NVIDIA Corporation (NVDA)"
      ],
      "metadata": {
        "id": "CHwoXKYlxSAo"
      }
    },
    {
      "cell_type": "code",
      "source": [
        "# start_date = \"2020-02-11\"\n",
        "start_date = \"2014-02-11\"\n",
        "end_date = \"2025-02-11\"\n",
        "\n",
        "# Added 5 more stocks that are not tech related to increase diversity\n",
        "# stocks = [\"AAPL\",\"TSLA\",\"MSFT\",\"AMZN\",\"NVDA\"]\n",
        "stocks = [\"AAPL\", \"TSLA\", \"MSFT\", \"AMZN\", \"NVDA\", \"JNJ\", \"XOM\", \"KO\", \"WMT\", \"V\"]\n",
        "\n",
        "data = yf.download(stocks, start=start_date, end=end_date, interval=\"1d\")\n",
        "print(data.columns)\n"
      ],
      "metadata": {
        "colab": {
          "base_uri": "https://localhost:8080/"
        },
        "id": "oqzCyOTPxRW3",
        "outputId": "49c68d56-1b66-4bba-cec9-22bbd7008184"
      },
      "execution_count": 164,
      "outputs": [
        {
          "output_type": "stream",
          "name": "stderr",
          "text": [
            "[*********************100%***********************]  10 of 10 completed"
          ]
        },
        {
          "output_type": "stream",
          "name": "stdout",
          "text": [
            "MultiIndex([( 'Close', 'AAPL'),\n",
            "            ( 'Close', 'AMZN'),\n",
            "            ( 'Close',  'JNJ'),\n",
            "            ( 'Close',   'KO'),\n",
            "            ( 'Close', 'MSFT'),\n",
            "            ( 'Close', 'NVDA'),\n",
            "            ( 'Close', 'TSLA'),\n",
            "            ( 'Close',    'V'),\n",
            "            ( 'Close',  'WMT'),\n",
            "            ( 'Close',  'XOM'),\n",
            "            (  'High', 'AAPL'),\n",
            "            (  'High', 'AMZN'),\n",
            "            (  'High',  'JNJ'),\n",
            "            (  'High',   'KO'),\n",
            "            (  'High', 'MSFT'),\n",
            "            (  'High', 'NVDA'),\n",
            "            (  'High', 'TSLA'),\n",
            "            (  'High',    'V'),\n",
            "            (  'High',  'WMT'),\n",
            "            (  'High',  'XOM'),\n",
            "            (   'Low', 'AAPL'),\n",
            "            (   'Low', 'AMZN'),\n",
            "            (   'Low',  'JNJ'),\n",
            "            (   'Low',   'KO'),\n",
            "            (   'Low', 'MSFT'),\n",
            "            (   'Low', 'NVDA'),\n",
            "            (   'Low', 'TSLA'),\n",
            "            (   'Low',    'V'),\n",
            "            (   'Low',  'WMT'),\n",
            "            (   'Low',  'XOM'),\n",
            "            (  'Open', 'AAPL'),\n",
            "            (  'Open', 'AMZN'),\n",
            "            (  'Open',  'JNJ'),\n",
            "            (  'Open',   'KO'),\n",
            "            (  'Open', 'MSFT'),\n",
            "            (  'Open', 'NVDA'),\n",
            "            (  'Open', 'TSLA'),\n",
            "            (  'Open',    'V'),\n",
            "            (  'Open',  'WMT'),\n",
            "            (  'Open',  'XOM'),\n",
            "            ('Volume', 'AAPL'),\n",
            "            ('Volume', 'AMZN'),\n",
            "            ('Volume',  'JNJ'),\n",
            "            ('Volume',   'KO'),\n",
            "            ('Volume', 'MSFT'),\n",
            "            ('Volume', 'NVDA'),\n",
            "            ('Volume', 'TSLA'),\n",
            "            ('Volume',    'V'),\n",
            "            ('Volume',  'WMT'),\n",
            "            ('Volume',  'XOM')],\n",
            "           names=['Price', 'Ticker'])\n"
          ]
        },
        {
          "output_type": "stream",
          "name": "stderr",
          "text": [
            "\n"
          ]
        }
      ]
    },
    {
      "cell_type": "markdown",
      "source": [
        "There are 5 types of Prices: Close, High, Low, Open, Volume. Close prices are often used for analysis because it reflects the final consensus on the stock price for the trading day. It is often most consistent for portfolio optimization."
      ],
      "metadata": {
        "id": "-1JG51N96BYp"
      }
    },
    {
      "cell_type": "code",
      "source": [
        "close_data = data[\"Close\"]\n",
        "drive.mount('/content/drive')\n",
        "\n",
        "close_data.to_csv('/content/drive/My Drive/stock_data.csv')"
      ],
      "metadata": {
        "colab": {
          "base_uri": "https://localhost:8080/"
        },
        "id": "G5dS-10o6Xzg",
        "outputId": "3e150c4e-c200-4df4-83e1-fe1dc42fd975"
      },
      "execution_count": 166,
      "outputs": [
        {
          "output_type": "stream",
          "name": "stdout",
          "text": [
            "Drive already mounted at /content/drive; to attempt to forcibly remount, call drive.mount(\"/content/drive\", force_remount=True).\n"
          ]
        }
      ]
    },
    {
      "cell_type": "code",
      "source": [
        "stock_data = pd.read_csv('/content/drive/My Drive/stock_data.csv', index_col=0, parse_dates=True)\n",
        "stock_data.head(10)"
      ],
      "metadata": {
        "colab": {
          "base_uri": "https://localhost:8080/",
          "height": 394
        },
        "id": "eRFRJ0OXi6Gg",
        "outputId": "001b3ed4-9ce0-42fc-9348-568a192cb688"
      },
      "execution_count": 167,
      "outputs": [
        {
          "output_type": "execute_result",
          "data": {
            "text/plain": [
              "                 AAPL       AMZN        JNJ         KO       MSFT      NVDA  \\\n",
              "Date                                                                          \n",
              "2014-02-11  16.780828  18.089500  68.098656  27.097301  31.004765  0.383127   \n",
              "2014-02-12  16.779572  17.462500  67.695786  27.006140  31.254995  0.396802   \n",
              "2014-02-13  17.046024  17.860001  67.798340  27.104319  31.371778  0.409297   \n",
              "2014-02-14  17.032248  17.867500  67.944817  27.300671  31.380112  0.422265   \n",
              "2014-02-18  17.094870  17.682501  67.512642  26.276814  31.447346  0.422029   \n",
              "2014-02-19  16.824970  17.368999  67.124428  26.017345  31.522982  0.427688   \n",
              "2014-02-20  16.630222  17.490000  67.666473  26.157593  31.724670  0.442777   \n",
              "2014-02-21  16.445496  17.337999  67.518929  26.073450  31.917961  0.439476   \n",
              "2014-02-24  16.517506  17.589001  67.216461  26.297852  31.674255  0.445842   \n",
              "2014-02-25  16.345617  17.916000  67.216461  26.487196  31.548199  0.443829   \n",
              "\n",
              "                 TSLA          V        WMT        XOM  \n",
              "Date                                                    \n",
              "2014-02-11  13.108000  51.351044  19.913563  57.029892  \n",
              "2014-02-12  13.021333  51.869354  19.956158  57.180569  \n",
              "2014-02-13  13.308667  51.841576  20.062653  57.400322  \n",
              "2014-02-14  13.215333  52.292782  20.177126  59.082806  \n",
              "2014-02-18  13.580000  52.306652  20.054672  59.057716  \n",
              "2014-02-19  12.909333  51.802242  19.926884  58.982395  \n",
              "2014-02-20  13.998000  51.705063  19.572798  59.873867  \n",
              "2014-02-21  13.973333  51.681919  19.466312  59.660408  \n",
              "2014-02-24  14.510000  52.336735  19.527542  60.545605  \n",
              "2014-02-25  16.533333  52.549610  19.527542  60.464005  "
            ],
            "text/html": [
              "\n",
              "  <div id=\"df-0f1395ba-d9d4-4135-84f3-ab9edec3975d\" class=\"colab-df-container\">\n",
              "    <div>\n",
              "<style scoped>\n",
              "    .dataframe tbody tr th:only-of-type {\n",
              "        vertical-align: middle;\n",
              "    }\n",
              "\n",
              "    .dataframe tbody tr th {\n",
              "        vertical-align: top;\n",
              "    }\n",
              "\n",
              "    .dataframe thead th {\n",
              "        text-align: right;\n",
              "    }\n",
              "</style>\n",
              "<table border=\"1\" class=\"dataframe\">\n",
              "  <thead>\n",
              "    <tr style=\"text-align: right;\">\n",
              "      <th></th>\n",
              "      <th>AAPL</th>\n",
              "      <th>AMZN</th>\n",
              "      <th>JNJ</th>\n",
              "      <th>KO</th>\n",
              "      <th>MSFT</th>\n",
              "      <th>NVDA</th>\n",
              "      <th>TSLA</th>\n",
              "      <th>V</th>\n",
              "      <th>WMT</th>\n",
              "      <th>XOM</th>\n",
              "    </tr>\n",
              "    <tr>\n",
              "      <th>Date</th>\n",
              "      <th></th>\n",
              "      <th></th>\n",
              "      <th></th>\n",
              "      <th></th>\n",
              "      <th></th>\n",
              "      <th></th>\n",
              "      <th></th>\n",
              "      <th></th>\n",
              "      <th></th>\n",
              "      <th></th>\n",
              "    </tr>\n",
              "  </thead>\n",
              "  <tbody>\n",
              "    <tr>\n",
              "      <th>2014-02-11</th>\n",
              "      <td>16.780828</td>\n",
              "      <td>18.089500</td>\n",
              "      <td>68.098656</td>\n",
              "      <td>27.097301</td>\n",
              "      <td>31.004765</td>\n",
              "      <td>0.383127</td>\n",
              "      <td>13.108000</td>\n",
              "      <td>51.351044</td>\n",
              "      <td>19.913563</td>\n",
              "      <td>57.029892</td>\n",
              "    </tr>\n",
              "    <tr>\n",
              "      <th>2014-02-12</th>\n",
              "      <td>16.779572</td>\n",
              "      <td>17.462500</td>\n",
              "      <td>67.695786</td>\n",
              "      <td>27.006140</td>\n",
              "      <td>31.254995</td>\n",
              "      <td>0.396802</td>\n",
              "      <td>13.021333</td>\n",
              "      <td>51.869354</td>\n",
              "      <td>19.956158</td>\n",
              "      <td>57.180569</td>\n",
              "    </tr>\n",
              "    <tr>\n",
              "      <th>2014-02-13</th>\n",
              "      <td>17.046024</td>\n",
              "      <td>17.860001</td>\n",
              "      <td>67.798340</td>\n",
              "      <td>27.104319</td>\n",
              "      <td>31.371778</td>\n",
              "      <td>0.409297</td>\n",
              "      <td>13.308667</td>\n",
              "      <td>51.841576</td>\n",
              "      <td>20.062653</td>\n",
              "      <td>57.400322</td>\n",
              "    </tr>\n",
              "    <tr>\n",
              "      <th>2014-02-14</th>\n",
              "      <td>17.032248</td>\n",
              "      <td>17.867500</td>\n",
              "      <td>67.944817</td>\n",
              "      <td>27.300671</td>\n",
              "      <td>31.380112</td>\n",
              "      <td>0.422265</td>\n",
              "      <td>13.215333</td>\n",
              "      <td>52.292782</td>\n",
              "      <td>20.177126</td>\n",
              "      <td>59.082806</td>\n",
              "    </tr>\n",
              "    <tr>\n",
              "      <th>2014-02-18</th>\n",
              "      <td>17.094870</td>\n",
              "      <td>17.682501</td>\n",
              "      <td>67.512642</td>\n",
              "      <td>26.276814</td>\n",
              "      <td>31.447346</td>\n",
              "      <td>0.422029</td>\n",
              "      <td>13.580000</td>\n",
              "      <td>52.306652</td>\n",
              "      <td>20.054672</td>\n",
              "      <td>59.057716</td>\n",
              "    </tr>\n",
              "    <tr>\n",
              "      <th>2014-02-19</th>\n",
              "      <td>16.824970</td>\n",
              "      <td>17.368999</td>\n",
              "      <td>67.124428</td>\n",
              "      <td>26.017345</td>\n",
              "      <td>31.522982</td>\n",
              "      <td>0.427688</td>\n",
              "      <td>12.909333</td>\n",
              "      <td>51.802242</td>\n",
              "      <td>19.926884</td>\n",
              "      <td>58.982395</td>\n",
              "    </tr>\n",
              "    <tr>\n",
              "      <th>2014-02-20</th>\n",
              "      <td>16.630222</td>\n",
              "      <td>17.490000</td>\n",
              "      <td>67.666473</td>\n",
              "      <td>26.157593</td>\n",
              "      <td>31.724670</td>\n",
              "      <td>0.442777</td>\n",
              "      <td>13.998000</td>\n",
              "      <td>51.705063</td>\n",
              "      <td>19.572798</td>\n",
              "      <td>59.873867</td>\n",
              "    </tr>\n",
              "    <tr>\n",
              "      <th>2014-02-21</th>\n",
              "      <td>16.445496</td>\n",
              "      <td>17.337999</td>\n",
              "      <td>67.518929</td>\n",
              "      <td>26.073450</td>\n",
              "      <td>31.917961</td>\n",
              "      <td>0.439476</td>\n",
              "      <td>13.973333</td>\n",
              "      <td>51.681919</td>\n",
              "      <td>19.466312</td>\n",
              "      <td>59.660408</td>\n",
              "    </tr>\n",
              "    <tr>\n",
              "      <th>2014-02-24</th>\n",
              "      <td>16.517506</td>\n",
              "      <td>17.589001</td>\n",
              "      <td>67.216461</td>\n",
              "      <td>26.297852</td>\n",
              "      <td>31.674255</td>\n",
              "      <td>0.445842</td>\n",
              "      <td>14.510000</td>\n",
              "      <td>52.336735</td>\n",
              "      <td>19.527542</td>\n",
              "      <td>60.545605</td>\n",
              "    </tr>\n",
              "    <tr>\n",
              "      <th>2014-02-25</th>\n",
              "      <td>16.345617</td>\n",
              "      <td>17.916000</td>\n",
              "      <td>67.216461</td>\n",
              "      <td>26.487196</td>\n",
              "      <td>31.548199</td>\n",
              "      <td>0.443829</td>\n",
              "      <td>16.533333</td>\n",
              "      <td>52.549610</td>\n",
              "      <td>19.527542</td>\n",
              "      <td>60.464005</td>\n",
              "    </tr>\n",
              "  </tbody>\n",
              "</table>\n",
              "</div>\n",
              "    <div class=\"colab-df-buttons\">\n",
              "\n",
              "  <div class=\"colab-df-container\">\n",
              "    <button class=\"colab-df-convert\" onclick=\"convertToInteractive('df-0f1395ba-d9d4-4135-84f3-ab9edec3975d')\"\n",
              "            title=\"Convert this dataframe to an interactive table.\"\n",
              "            style=\"display:none;\">\n",
              "\n",
              "  <svg xmlns=\"http://www.w3.org/2000/svg\" height=\"24px\" viewBox=\"0 -960 960 960\">\n",
              "    <path d=\"M120-120v-720h720v720H120Zm60-500h600v-160H180v160Zm220 220h160v-160H400v160Zm0 220h160v-160H400v160ZM180-400h160v-160H180v160Zm440 0h160v-160H620v160ZM180-180h160v-160H180v160Zm440 0h160v-160H620v160Z\"/>\n",
              "  </svg>\n",
              "    </button>\n",
              "\n",
              "  <style>\n",
              "    .colab-df-container {\n",
              "      display:flex;\n",
              "      gap: 12px;\n",
              "    }\n",
              "\n",
              "    .colab-df-convert {\n",
              "      background-color: #E8F0FE;\n",
              "      border: none;\n",
              "      border-radius: 50%;\n",
              "      cursor: pointer;\n",
              "      display: none;\n",
              "      fill: #1967D2;\n",
              "      height: 32px;\n",
              "      padding: 0 0 0 0;\n",
              "      width: 32px;\n",
              "    }\n",
              "\n",
              "    .colab-df-convert:hover {\n",
              "      background-color: #E2EBFA;\n",
              "      box-shadow: 0px 1px 2px rgba(60, 64, 67, 0.3), 0px 1px 3px 1px rgba(60, 64, 67, 0.15);\n",
              "      fill: #174EA6;\n",
              "    }\n",
              "\n",
              "    .colab-df-buttons div {\n",
              "      margin-bottom: 4px;\n",
              "    }\n",
              "\n",
              "    [theme=dark] .colab-df-convert {\n",
              "      background-color: #3B4455;\n",
              "      fill: #D2E3FC;\n",
              "    }\n",
              "\n",
              "    [theme=dark] .colab-df-convert:hover {\n",
              "      background-color: #434B5C;\n",
              "      box-shadow: 0px 1px 3px 1px rgba(0, 0, 0, 0.15);\n",
              "      filter: drop-shadow(0px 1px 2px rgba(0, 0, 0, 0.3));\n",
              "      fill: #FFFFFF;\n",
              "    }\n",
              "  </style>\n",
              "\n",
              "    <script>\n",
              "      const buttonEl =\n",
              "        document.querySelector('#df-0f1395ba-d9d4-4135-84f3-ab9edec3975d button.colab-df-convert');\n",
              "      buttonEl.style.display =\n",
              "        google.colab.kernel.accessAllowed ? 'block' : 'none';\n",
              "\n",
              "      async function convertToInteractive(key) {\n",
              "        const element = document.querySelector('#df-0f1395ba-d9d4-4135-84f3-ab9edec3975d');\n",
              "        const dataTable =\n",
              "          await google.colab.kernel.invokeFunction('convertToInteractive',\n",
              "                                                    [key], {});\n",
              "        if (!dataTable) return;\n",
              "\n",
              "        const docLinkHtml = 'Like what you see? Visit the ' +\n",
              "          '<a target=\"_blank\" href=https://colab.research.google.com/notebooks/data_table.ipynb>data table notebook</a>'\n",
              "          + ' to learn more about interactive tables.';\n",
              "        element.innerHTML = '';\n",
              "        dataTable['output_type'] = 'display_data';\n",
              "        await google.colab.output.renderOutput(dataTable, element);\n",
              "        const docLink = document.createElement('div');\n",
              "        docLink.innerHTML = docLinkHtml;\n",
              "        element.appendChild(docLink);\n",
              "      }\n",
              "    </script>\n",
              "  </div>\n",
              "\n",
              "\n",
              "<div id=\"df-2aae89fb-61f9-4a6c-b006-0a03d3bd6f09\">\n",
              "  <button class=\"colab-df-quickchart\" onclick=\"quickchart('df-2aae89fb-61f9-4a6c-b006-0a03d3bd6f09')\"\n",
              "            title=\"Suggest charts\"\n",
              "            style=\"display:none;\">\n",
              "\n",
              "<svg xmlns=\"http://www.w3.org/2000/svg\" height=\"24px\"viewBox=\"0 0 24 24\"\n",
              "     width=\"24px\">\n",
              "    <g>\n",
              "        <path d=\"M19 3H5c-1.1 0-2 .9-2 2v14c0 1.1.9 2 2 2h14c1.1 0 2-.9 2-2V5c0-1.1-.9-2-2-2zM9 17H7v-7h2v7zm4 0h-2V7h2v10zm4 0h-2v-4h2v4z\"/>\n",
              "    </g>\n",
              "</svg>\n",
              "  </button>\n",
              "\n",
              "<style>\n",
              "  .colab-df-quickchart {\n",
              "      --bg-color: #E8F0FE;\n",
              "      --fill-color: #1967D2;\n",
              "      --hover-bg-color: #E2EBFA;\n",
              "      --hover-fill-color: #174EA6;\n",
              "      --disabled-fill-color: #AAA;\n",
              "      --disabled-bg-color: #DDD;\n",
              "  }\n",
              "\n",
              "  [theme=dark] .colab-df-quickchart {\n",
              "      --bg-color: #3B4455;\n",
              "      --fill-color: #D2E3FC;\n",
              "      --hover-bg-color: #434B5C;\n",
              "      --hover-fill-color: #FFFFFF;\n",
              "      --disabled-bg-color: #3B4455;\n",
              "      --disabled-fill-color: #666;\n",
              "  }\n",
              "\n",
              "  .colab-df-quickchart {\n",
              "    background-color: var(--bg-color);\n",
              "    border: none;\n",
              "    border-radius: 50%;\n",
              "    cursor: pointer;\n",
              "    display: none;\n",
              "    fill: var(--fill-color);\n",
              "    height: 32px;\n",
              "    padding: 0;\n",
              "    width: 32px;\n",
              "  }\n",
              "\n",
              "  .colab-df-quickchart:hover {\n",
              "    background-color: var(--hover-bg-color);\n",
              "    box-shadow: 0 1px 2px rgba(60, 64, 67, 0.3), 0 1px 3px 1px rgba(60, 64, 67, 0.15);\n",
              "    fill: var(--button-hover-fill-color);\n",
              "  }\n",
              "\n",
              "  .colab-df-quickchart-complete:disabled,\n",
              "  .colab-df-quickchart-complete:disabled:hover {\n",
              "    background-color: var(--disabled-bg-color);\n",
              "    fill: var(--disabled-fill-color);\n",
              "    box-shadow: none;\n",
              "  }\n",
              "\n",
              "  .colab-df-spinner {\n",
              "    border: 2px solid var(--fill-color);\n",
              "    border-color: transparent;\n",
              "    border-bottom-color: var(--fill-color);\n",
              "    animation:\n",
              "      spin 1s steps(1) infinite;\n",
              "  }\n",
              "\n",
              "  @keyframes spin {\n",
              "    0% {\n",
              "      border-color: transparent;\n",
              "      border-bottom-color: var(--fill-color);\n",
              "      border-left-color: var(--fill-color);\n",
              "    }\n",
              "    20% {\n",
              "      border-color: transparent;\n",
              "      border-left-color: var(--fill-color);\n",
              "      border-top-color: var(--fill-color);\n",
              "    }\n",
              "    30% {\n",
              "      border-color: transparent;\n",
              "      border-left-color: var(--fill-color);\n",
              "      border-top-color: var(--fill-color);\n",
              "      border-right-color: var(--fill-color);\n",
              "    }\n",
              "    40% {\n",
              "      border-color: transparent;\n",
              "      border-right-color: var(--fill-color);\n",
              "      border-top-color: var(--fill-color);\n",
              "    }\n",
              "    60% {\n",
              "      border-color: transparent;\n",
              "      border-right-color: var(--fill-color);\n",
              "    }\n",
              "    80% {\n",
              "      border-color: transparent;\n",
              "      border-right-color: var(--fill-color);\n",
              "      border-bottom-color: var(--fill-color);\n",
              "    }\n",
              "    90% {\n",
              "      border-color: transparent;\n",
              "      border-bottom-color: var(--fill-color);\n",
              "    }\n",
              "  }\n",
              "</style>\n",
              "\n",
              "  <script>\n",
              "    async function quickchart(key) {\n",
              "      const quickchartButtonEl =\n",
              "        document.querySelector('#' + key + ' button');\n",
              "      quickchartButtonEl.disabled = true;  // To prevent multiple clicks.\n",
              "      quickchartButtonEl.classList.add('colab-df-spinner');\n",
              "      try {\n",
              "        const charts = await google.colab.kernel.invokeFunction(\n",
              "            'suggestCharts', [key], {});\n",
              "      } catch (error) {\n",
              "        console.error('Error during call to suggestCharts:', error);\n",
              "      }\n",
              "      quickchartButtonEl.classList.remove('colab-df-spinner');\n",
              "      quickchartButtonEl.classList.add('colab-df-quickchart-complete');\n",
              "    }\n",
              "    (() => {\n",
              "      let quickchartButtonEl =\n",
              "        document.querySelector('#df-2aae89fb-61f9-4a6c-b006-0a03d3bd6f09 button');\n",
              "      quickchartButtonEl.style.display =\n",
              "        google.colab.kernel.accessAllowed ? 'block' : 'none';\n",
              "    })();\n",
              "  </script>\n",
              "</div>\n",
              "\n",
              "    </div>\n",
              "  </div>\n"
            ],
            "application/vnd.google.colaboratory.intrinsic+json": {
              "type": "dataframe",
              "variable_name": "stock_data",
              "summary": "{\n  \"name\": \"stock_data\",\n  \"rows\": 2767,\n  \"fields\": [\n    {\n      \"column\": \"Date\",\n      \"properties\": {\n        \"dtype\": \"date\",\n        \"min\": \"2014-02-11 00:00:00\",\n        \"max\": \"2025-02-10 00:00:00\",\n        \"num_unique_values\": 2767,\n        \"samples\": [\n          \"2019-08-02 00:00:00\",\n          \"2017-06-12 00:00:00\",\n          \"2022-09-14 00:00:00\"\n        ],\n        \"semantic_type\": \"\",\n        \"description\": \"\"\n      }\n    },\n    {\n      \"column\": \"AAPL\",\n      \"properties\": {\n        \"dtype\": \"number\",\n        \"std\": 67.23087007878583,\n        \"min\": 16.198156356811523,\n        \"max\": 258.7355041503906,\n        \"num_unique_values\": 2725,\n        \"samples\": [\n          150.17393493652344,\n          50.17805862426758,\n          62.09252166748047\n        ],\n        \"semantic_type\": \"\",\n        \"description\": \"\"\n      }\n    },\n    {\n      \"column\": \"AMZN\",\n      \"properties\": {\n        \"dtype\": \"number\",\n        \"std\": 58.12815422878575,\n        \"min\": 14.34749984741211,\n        \"max\": 242.05999755859372,\n        \"num_unique_values\": 2718,\n        \"samples\": [\n          120.20950317382812,\n          32.165000915527344,\n          90.8730010986328\n        ],\n        \"semantic_type\": \"\",\n        \"description\": \"\"\n      }\n    },\n    {\n      \"column\": \"JNJ\",\n      \"properties\": {\n        \"dtype\": \"number\",\n        \"std\": 29.837115575509088,\n        \"min\": 67.12442779541016,\n        \"max\": 170.24349975585938,\n        \"num_unique_values\": 2688,\n        \"samples\": [\n          111.7433853149414,\n          142.16665649414062,\n          71.41819763183594\n        ],\n        \"semantic_type\": \"\",\n        \"description\": \"\"\n      }\n    },\n    {\n      \"column\": \"KO\",\n      \"properties\": {\n        \"dtype\": \"number\",\n        \"std\": 11.397550713343808,\n        \"min\": 26.0173454284668,\n        \"max\": 71.4398422241211,\n        \"num_unique_values\": 2533,\n        \"samples\": [\n          57.8145751953125,\n          56.89610290527344,\n          30.618066787719727\n        ],\n        \"semantic_type\": \"\",\n        \"description\": \"\"\n      }\n    },\n    {\n      \"column\": \"MSFT\",\n      \"properties\": {\n        \"dtype\": \"number\",\n        \"std\": 126.76140234909111,\n        \"min\": 31.00476455688477,\n        \"max\": 464.8543395996094,\n        \"num_unique_values\": 2682,\n        \"samples\": [\n          79.09506225585938,\n          204.7541046142578,\n          174.1157989501953\n        ],\n        \"semantic_type\": \"\",\n        \"description\": \"\"\n      }\n    },\n    {\n      \"column\": \"NVDA\",\n      \"properties\": {\n        \"dtype\": \"number\",\n        \"std\": 33.20750755151753,\n        \"min\": 0.3831269145011902,\n        \"max\": 149.41624450683594,\n        \"num_unique_values\": 2687,\n        \"samples\": [\n          2.431379795074463,\n          4.88226842880249,\n          0.6360546350479126\n        ],\n        \"semantic_type\": \"\",\n        \"description\": \"\"\n      }\n    },\n    {\n      \"column\": \"TSLA\",\n      \"properties\": {\n        \"dtype\": \"number\",\n        \"std\": 115.77403453162458,\n        \"min\": 9.57800006866455,\n        \"max\": 479.8599853515625,\n        \"num_unique_values\": 2692,\n        \"samples\": [\n          199.5933380126953,\n          187.7100067138672,\n          16.076000213623047\n        ],\n        \"semantic_type\": \"\",\n        \"description\": \"\"\n      }\n    },\n    {\n      \"column\": \"V\",\n      \"properties\": {\n        \"dtype\": \"number\",\n        \"std\": 74.85447434770934,\n        \"min\": 45.49702835083008,\n        \"max\": 350.6400146484375,\n        \"num_unique_values\": 2700,\n        \"samples\": [\n          173.2578887939453,\n          142.076904296875,\n          136.365966796875\n        ],\n        \"semantic_type\": \"\",\n        \"description\": \"\"\n      }\n    },\n    {\n      \"column\": \"WMT\",\n      \"properties\": {\n        \"dtype\": \"number\",\n        \"std\": 16.68036170489395,\n        \"min\": 15.693276405334473,\n        \"max\": 102.91999816894533,\n        \"num_unique_values\": 2671,\n        \"samples\": [\n          46.15233612060547,\n          29.808263778686523,\n          35.387847900390625\n        ],\n        \"semantic_type\": \"\",\n        \"description\": \"\"\n      }\n    },\n    {\n      \"column\": \"XOM\",\n      \"properties\": {\n        \"dtype\": \"number\",\n        \"std\": 22.86039185874896,\n        \"min\": 24.809375762939453,\n        \"max\": 123.24581909179688,\n        \"num_unique_values\": 2665,\n        \"samples\": [\n          51.57617568969727,\n          119.05799102783205,\n          52.03679275512695\n        ],\n        \"semantic_type\": \"\",\n        \"description\": \"\"\n      }\n    }\n  ]\n}"
            }
          },
          "metadata": {},
          "execution_count": 167
        }
      ]
    },
    {
      "cell_type": "markdown",
      "source": [
        "#### 2. Preprocess Data (Compute Returns and Risk)\n",
        "\n",
        "Before defining the fitness function **(Sharpe Ratio)**, I need to compute some key financial metrics from the historical stock data.\n",
        "\n",
        "Portfolio optimization requires **2** fundamental components:\n",
        "1. Returns → Measures how an asset appreciates over time\n",
        "2. Risk (Standard Deviation & Covariance) → Measures relationship between assets\n",
        "\n",
        "To Calculate returns and risk, **3** statistical methods are used:\n",
        "- Daily Returns: estimate expected return of portfolio\n",
        "- Covariance Matrix: measure risk relationship between different stocks\n",
        "- Standard Deviation: quantify portfolio risk\n",
        "\n",
        "Without calculating these, Sharpe Ratio cannot be correctly evaluated."
      ],
      "metadata": {
        "id": "XEmU3SLMH0Q7"
      }
    },
    {
      "cell_type": "markdown",
      "source": [],
      "metadata": {
        "id": "fMCxddtWdhQ6"
      }
    },
    {
      "cell_type": "code",
      "source": [
        "daily_returns = stock_data.pct_change().dropna()\n",
        "\n",
        "expected_returns = daily_returns.mean() * 252\n",
        "\n",
        "covariance_matrix = daily_returns.cov() * 252\n",
        "\n",
        "print(\"Daily Return:\\n\",daily_returns)\n",
        "print(\"\\nExpected Return:\\n\", expected_returns)\n",
        "print(\"\\nCovariance Matrix:\\n\", covariance_matrix)"
      ],
      "metadata": {
        "id": "oHPwikbT6-Ro",
        "colab": {
          "base_uri": "https://localhost:8080/"
        },
        "outputId": "658a79d5-2426-4030-c1b9-ef02426f60c4"
      },
      "execution_count": 168,
      "outputs": [
        {
          "output_type": "stream",
          "name": "stdout",
          "text": [
            "Daily Return:\n",
            "                 AAPL      AMZN       JNJ        KO      MSFT      NVDA  \\\n",
            "Date                                                                     \n",
            "2014-02-12 -0.000075 -0.034661 -0.005916 -0.003364  0.008071  0.035692   \n",
            "2014-02-13  0.015880  0.022763  0.001515  0.003635  0.003736  0.031491   \n",
            "2014-02-14 -0.000808  0.000420  0.002160  0.007244  0.000266  0.031682   \n",
            "2014-02-18  0.003677 -0.010354 -0.006361 -0.037503  0.002143 -0.000558   \n",
            "2014-02-19 -0.015788 -0.017729 -0.005750 -0.009874  0.002405  0.013408   \n",
            "...              ...       ...       ...       ...       ...       ...   \n",
            "2025-02-04  0.021008  0.019543  0.010667 -0.010734  0.003529  0.017058   \n",
            "2025-02-05 -0.001418 -0.024333  0.007818  0.007180  0.002231  0.052086   \n",
            "2025-02-06  0.003226  0.011263 -0.007628  0.003802  0.006122  0.030842   \n",
            "2025-02-07 -0.023969 -0.040531 -0.002541  0.007576 -0.014598  0.009015   \n",
            "2025-02-10  0.001187  0.017412  0.007315  0.011122  0.006028  0.028728   \n",
            "\n",
            "                TSLA         V       WMT       XOM  \n",
            "Date                                                \n",
            "2014-02-12 -0.006612  0.010093  0.002139  0.002642  \n",
            "2014-02-13  0.022066 -0.000536  0.005336  0.003843  \n",
            "2014-02-14 -0.007013  0.008704  0.005706  0.029311  \n",
            "2014-02-18  0.027594  0.000265 -0.006069 -0.000425  \n",
            "2014-02-19 -0.049386 -0.009643 -0.006372 -0.001275  \n",
            "...              ...       ...       ...       ...  \n",
            "2025-02-04  0.022232 -0.001937  0.012357  0.026800  \n",
            "2025-02-05 -0.035797  0.012429  0.016771 -0.000728  \n",
            "2025-02-06 -0.010181 -0.005609  0.003806 -0.013196  \n",
            "2025-02-07 -0.033928  0.001554 -0.016529  0.004242  \n",
            "2025-02-10 -0.030114  0.009224  0.017499  0.019102  \n",
            "\n",
            "[2766 rows x 10 columns]\n",
            "\n",
            "Expected Return:\n",
            " AAPL    0.276566\n",
            "AMZN    0.285809\n",
            "JNJ     0.089622\n",
            "KO      0.093926\n",
            "MSFT    0.270833\n",
            "NVDA    0.645632\n",
            "TSLA    0.457405\n",
            "V       0.203984\n",
            "WMT     0.170824\n",
            "XOM     0.096233\n",
            "dtype: float64\n",
            "\n",
            "Covariance Matrix:\n",
            "           AAPL      AMZN       JNJ        KO      MSFT      NVDA      TSLA  \\\n",
            "AAPL  0.077812  0.048686  0.016836  0.017160  0.049144  0.068946  0.064567   \n",
            "AMZN  0.048686  0.105983  0.012461  0.011691  0.054674  0.076444  0.071345   \n",
            "JNJ   0.016836  0.012461  0.031671  0.015741  0.017564  0.013308  0.010931   \n",
            "KO    0.017160  0.011691  0.015741  0.030835  0.017812  0.014690  0.014662   \n",
            "MSFT  0.049144  0.054674  0.017564  0.017812  0.070402  0.074438  0.058578   \n",
            "NVDA  0.068946  0.076444  0.013308  0.014690  0.074438  0.225623  0.104964   \n",
            "TSLA  0.064567  0.071345  0.010931  0.014662  0.058578  0.104964  0.317046   \n",
            "V     0.036720  0.035848  0.018249  0.019866  0.038909  0.051597  0.045111   \n",
            "WMT   0.017691  0.016744  0.013242  0.013125  0.018224  0.019841  0.017571   \n",
            "XOM   0.022431  0.015588  0.015739  0.018262  0.020090  0.025558  0.025385   \n",
            "\n",
            "             V       WMT       XOM  \n",
            "AAPL  0.036720  0.017691  0.022431  \n",
            "AMZN  0.035848  0.016744  0.015588  \n",
            "JNJ   0.018249  0.013242  0.015739  \n",
            "KO    0.019866  0.013125  0.018262  \n",
            "MSFT  0.038909  0.018224  0.020090  \n",
            "NVDA  0.051597  0.019841  0.025558  \n",
            "TSLA  0.045111  0.017571  0.025385  \n",
            "V     0.057938  0.014198  0.027760  \n",
            "WMT   0.014198  0.042301  0.010997  \n",
            "XOM   0.027760  0.010997  0.072793  \n"
          ]
        }
      ]
    },
    {
      "cell_type": "markdown",
      "source": [
        "#### **Observation**\n",
        "\n",
        "Expected Returns:\n",
        "- TSLA (0.005521) has the highest expected return, indicating strong growth potential but also higher risk.\n",
        "- AMZN (0.002860) and NVDA (0.002209) follow, suggesting moderate expected returns.\n",
        "- AAPL (0.000475) and MSFT (0.000236) have the lowest expected returns, implying more stability.\n",
        "\n",
        "Covariance Matrix:\n",
        "- TSLA and NVDA show the highest variances, indicating greater price fluctuations.\n",
        "- AMZN is moderately correlated with NVDA and TSLA, potentially indicating similar market influences.\n",
        "- AAPL and MSFT have lower variances, reinforcing their status as more stable assets.\n",
        "---\n",
        "**Reference**:\n",
        "- Markowitz, H. (1952). *Portfolio Selection.* The Journal of Finance, 7(1), 77-91. DOI: [10.2307/2975974](https://doi.org/10.2307/2975974)"
      ],
      "metadata": {
        "id": "zITYDzZumlgL"
      }
    },
    {
      "cell_type": "markdown",
      "source": [
        "#### 3. Sharpe Ratio - Fitness Function\n",
        "**Introduction of Sharpe Ratio** <br>\n",
        "The fitness function in my Genetic Algorithm is the **Sharpe Ratio**, a key financial metric that measures risk-adjusted return. <br>\n",
        "Formulas below:\n",
        "\\begin{aligned}\n",
        "S &= \\frac{E(R_p) - R_f}{\\sigma_p}\n",
        "\\end{aligned}\n",
        "\n",
        "where:  \n",
        "- $S$ = Sharpe Ratio  \n",
        "- $E(R_p)$ = Expected portfolio return  \n",
        "- $R_f$ = Risk-free rate (Since the portfolio consists only 5 stocks and does not include a risk-free asset like government bonds, assuming 0 simplifies calculations without affecting the optimization objective.)  \n",
        "- $\\sigma_p$ = Portfolio standard deviation (risk)  \n",
        "\n",
        "\\begin{aligned}\n",
        "E(R_p) = \\sum_{i=1}^{N} w_i E(R_i)\n",
        "\\end{aligned}\n",
        "\n",
        "where:\n",
        "- $w_i$ = weight of stock $i$\n",
        "- $R_i$ = return of stock $i$\n",
        "\n",
        "\n",
        "The Sharpe Ratio is widely used in finance because it provides a balanced measure of risk vs. return. Unlike simple return-based metrics, it penalizes high volatility, ensuring that we optimize portfolios that offer steady and reliable returns.\n",
        "\n",
        "---\n",
        "\n",
        "**Why use Sharpe Ratio as a Fitness Function?**\n",
        "1. Risk-Adjusted Performance: Ensures GA selects portfolios that maximize return while controlling risk.  \n",
        "2. Industry Standard Metric: Used by hedge funds and investment firms for portfolio evaluation.  \n",
        "3. Handles Different Market Conditions: Works well in both volatile and stable markets.  \n",
        "\n",
        "By using Genetic Algorithms, we evolve portfolios that maximize the Sharpe Ratio, leading to an optimal allocation of assets that achieves the best trade-off between *profitability and risk*.\n",
        "\n",
        "---\n",
        "\n",
        "**Reference:**  \n",
        "- Sharpe, W. F. (1966). \"Mutual Fund Performance\". *Journal of Business*, 39(1), 119-138. ([JSTOR](https://www.jstor.org/stable/2351741))  "
      ],
      "metadata": {
        "id": "8p1HozLXfTrg"
      }
    },
    {
      "cell_type": "code",
      "source": [
        "def sharpe_ratio(weights, expected_returns, covariance_matrix, risk_free_rate=0.0):\n",
        "  \"\"\"\n",
        "  Parameters:\n",
        "  - weights: Array of portfolio allocation (sum to 1)\n",
        "  - expected_returns: Expected return of each stocks\n",
        "  - covariance_matrix: Covariance matrix of stock returns\n",
        "  - risk_free_rates: default = 0\n",
        "\n",
        "  Returns:\n",
        "  - Sharpe Ratio (higher = better/optimized)\n",
        "  \"\"\"\n",
        "\n",
        "  # Reference to Sharpe Ratio formulas above\n",
        "  portfolio_return = np.dot(weights, expected_returns)\n",
        "\n",
        "  # Transpose weights to get a single variance value\n",
        "  portfolio_variance = np.dot(weights.T, np.dot(covariance_matrix * 252, weights))\n",
        "  portfolio_stddev = np.sqrt(portfolio_variance)\n",
        "\n",
        "  return (portfolio_return - risk_free_rate) / portfolio_stddev"
      ],
      "metadata": {
        "id": "Ca3vOcDPoRT4"
      },
      "execution_count": 169,
      "outputs": []
    },
    {
      "cell_type": "markdown",
      "source": [
        "Testing Fitness Function"
      ],
      "metadata": {
        "id": "1S-ONrd6vGB4"
      }
    },
    {
      "cell_type": "code",
      "source": [
        "test_expected_return = np.array([0.12, 0.08, 0.10])\n",
        "test_covariance_matrix = np.array([\n",
        "    [0.04, 0.01, 0.02],\n",
        "    [0.01, 0.03, 0.015],\n",
        "    [0.02, 0.015, 0.05]\n",
        "])\n",
        "\n",
        "test_weights = np.array([0.4, 0.3, 0.4])\n",
        "\n",
        "sharpe_value = sharpe_ratio(test_weights, test_expected_return, test_covariance_matrix)\n",
        "\n",
        "print(\"Sharpe Ratio\", sharpe_value)"
      ],
      "metadata": {
        "colab": {
          "base_uri": "https://localhost:8080/"
        },
        "id": "yclZ_5O4vFm0",
        "outputId": "5816ee1c-a7ac-4e1c-c799-520ba165caad"
      },
      "execution_count": 170,
      "outputs": [
        {
          "output_type": "stream",
          "name": "stdout",
          "text": [
            "Sharpe Ratio 0.04107775915932841\n"
          ]
        }
      ]
    },
    {
      "cell_type": "markdown",
      "source": [
        "### Problem Class"
      ],
      "metadata": {
        "id": "LJj4z15be7B3"
      }
    },
    {
      "cell_type": "code",
      "source": [
        "class Problem:\n",
        "  def __init__(self) -> None:\n",
        "    self.number_of_genes = 5 #10 for GA Loop 3\n",
        "    self.min_value = 0\n",
        "    self.max_value = 1\n",
        "    self.fitness_function = sharpe_ratio\n",
        "    self.acceptable_fitness = 1 # < 1 = weak (but show stability), 1 - 1.5 = performing alright, > 1.5 = strong (at the same time risky)"
      ],
      "metadata": {
        "id": "5v5o2y36e6il"
      },
      "execution_count": 177,
      "outputs": []
    },
    {
      "cell_type": "markdown",
      "source": [
        "## The Individual (~30%) - Defining the Genetic Algorithm Components"
      ],
      "metadata": {
        "id": "Ub1b7KbcxC-5"
      }
    },
    {
      "cell_type": "markdown",
      "source": [
        "### Individual Components\n",
        "#### Chromosome Representation\n",
        "In this project, each chromosome represents a portfolio allocation, where genes are the weights of individual stocks in the portfolio. Each chromosome is an array of floating-point numbers summing up to 1.\n",
        "\n",
        "For example: a chromosome might look like:\n",
        "*\\[0.25, 0.15, 0.30, 0.10, 0.20\\]*\n",
        "\n",
        "Why this representation? <br>\n",
        "- Ensures a valid portfolio allocation without needing extra constraints.  \n",
        "- Allows easy evaluation using the Sharpe Ratio as the fitness function.  \n",
        "- Works naturally with crossover and mutation without breaking feasibility.  \n",
        "\n",
        "\n",
        "These weights involve over generations to maximize the Sharpe Ratio.\n",
        "\n",
        "---\n",
        "\n",
        "#### Crossover (Recombination of Portfolios)\n",
        "Crossover allows 2 parent portfolios to combine, creating a new portfolio that inherits some traits from both.\n",
        "\n",
        "**Approach**\n",
        "- Linear Interpolation Crossover: This method ensures that the child portfolios always sum to 1, maintaining valid asset allocation without perfoming normalization.\n",
        "\n",
        "Justification of crossover approach: <br>\n",
        "- Always maintains valid weights (sum = 1) without extra renormalization.  \n",
        "- Encourages genetic diversity by allowing more flexible exploration.  \n",
        "- Works better for constrained problems like portfolio allocation compared to traditional crossover (e.g., BLX crossover, which requires post-normalization).  \n",
        "\n",
        "---\n",
        "\n",
        "#### Mutation\n",
        "Mutation helps prevent the GA from converging too quickly to a local optimum. We apply small random adjustments to portfolio weights.\n",
        "\n",
        "**Approach**: Small Weight Perturbation with Renormalization\n",
        "1. A small noise is added to randomly selected weights.  \n",
        "2. Weights are clipped to prevent negative values (ensuring no short-selling).  \n",
        "3. The portfolio is renormalized to maintain a total weight sum of 1.\n",
        "\n",
        "Justification of mutation method: <br>\n",
        "- Ensures that the weights always sum to 1 after mutation.  \n",
        "- Prevents negative weights, ensuring all assets have a valid allocation.  \n",
        "- Controlled noise to adjust weights without drastic changes.\n",
        "\n",
        "This ensures mutation improves the solution without breaking constraints."
      ],
      "metadata": {
        "id": "suH4qNNGxTvh"
      }
    },
    {
      "cell_type": "code",
      "source": [
        "from copy import deepcopy\n",
        "\n",
        "class PortfolioIndividual:\n",
        "  def __init__(self, prob):\n",
        "    \"\"\"\n",
        "    Initializes an individual portfolio (chromosomes)\n",
        "\n",
        "    Parameters:\n",
        "    - prob: An Instance of the Problem class\n",
        "    \"\"\"\n",
        "    self.chromosomes = np.random.dirichlet(np.ones(prob.number_of_genes), size=1)[0]\n",
        "    self.fitness_function = prob.fitness_function\n",
        "    self.fitness = self.fitness_function(self.chromosomes, expected_returns, covariance_matrix)\n",
        "\n",
        "  def crossover(self, parent2, explore_crossover=0.1):\n",
        "    \"\"\"\n",
        "    Linear Interpolation Crossover, more details above\n",
        "\n",
        "    Parameters:\n",
        "    - parent2: Another PortfolioIndividual to crossover with\n",
        "    - explore_crossover: Exploration factor (default 0.1)\n",
        "\n",
        "    Returns:\n",
        "    - 2 children PortfolioIndividuals\n",
        "    \"\"\"\n",
        "    alpha = np.random.uniform(-explore_crossover, 1 + explore_crossover)\n",
        "\n",
        "    child1 = deepcopy(self)\n",
        "    child2 = deepcopy(parent2)\n",
        "\n",
        "    child1.chromosomes = alpha * self.chromosomes + (1 - alpha) * parent2.chromosomes\n",
        "    child2.chromosomes = alpha * parent2.chromosomes + (1 - alpha) * self.chromosomes\n",
        "\n",
        "    return child1, child2\n",
        "\n",
        "  def mutate(self, mutation_rate=0.1, mutation_strength=0.05):\n",
        "    \"\"\"\n",
        "    Applies mutation by slightly adding noise to random portfolio weights\n",
        "\n",
        "    Parameters:\n",
        "    - mutation_rate: Probability of mutation to happen for each weight\n",
        "    - mutation_strength: Standard deviation of noise added\n",
        "\n",
        "    Returns:\n",
        "    - Mutated PortfolioIndividual\n",
        "    \"\"\"\n",
        "    mutated_portfolio = deepcopy(self)\n",
        "\n",
        "    for i in range(len(mutated_portfolio.chromosomes)):\n",
        "      if np.random.rand() < mutation_rate:\n",
        "        mutated_portfolio.chromosomes[i] += np.random.normal(0, mutation_strength)\n",
        "\n",
        "    mutated_portfolio.chromosomes = np.clip(mutated_portfolio.chromosomes, 0, 1)\n",
        "\n",
        "    mutated_portfolio.chromosomes /= np.sum(mutated_portfolio.chromosomes)\n",
        "\n",
        "    return mutated_portfolio\n",
        "\n"
      ],
      "metadata": {
        "id": "07cipGFIxJ6N"
      },
      "execution_count": 172,
      "outputs": []
    },
    {
      "cell_type": "markdown",
      "source": [
        "## Running the GA algorithm (~10%)\n"
      ],
      "metadata": {
        "id": "iRTFVcbcY7yP"
      }
    },
    {
      "cell_type": "markdown",
      "source": [
        "## Selection, Parameters and GA\n",
        "### Parameter Choices\n",
        "To optimize portfolio allocation, we define the following Genetic Algorithm parameters:  \n",
        "\n",
        "- Population Size: 50 portfolios per generation balance between diversity & efficiency.  \n",
        "- Number of Generations: 100 iterations to ensures sufficient evolution.  \n",
        "- Mutation Rate: 10% introduces variation without excessive randomness.  \n",
        "- Mutation Strength: 5% so noise is controlled.  \n",
        "- Crossover Rate: 80% to ensure effective recombination.  \n",
        "\n",
        "These parameters were chosen based on standard GA heuristics and financial constraints.\n",
        "\n",
        "---\n",
        "\n",
        "### Selection Method: Tournament Selection\n",
        "To ensure only the best-performing portfolios move to the next generation, I plan to use **Tournament Selection**:  \n",
        "\n",
        "How it Works?\n",
        "- Randomly pick 3 portfolios from the population.  \n",
        "- The portfolio with the **highest Sharpe Ratio** wins.  \n",
        "- Repeat until enough parents are selected.\n",
        "\n",
        "Tournament Selection vs. Roulette Wheel:\n",
        "- More stable because it avoids overly favoring extreme values.  \n",
        "- Better suited for small population sizes like this project.\n",
        "\n",
        "Reference below...\n",
        "\n",
        "---\n",
        "\n",
        "### Modifications to `run_genetic`\n",
        "1. Implemented Tournament Selection for better stability.  \n",
        "2. Dynamically adjusted mutation rate to avoid premature convergence.  \n",
        "3. Tracked convergence metrics to assess solution quality.\n",
        "\n",
        "---\n",
        "\n",
        "#### **Reference**\n",
        "- [Tournament Selection](https://www.baeldung.com/cs/ga-tournament-selection)\n",
        "- [Comparison between tournament and roulette wheel](https://www.researchgate.net/publication/221216912_Comparison_of_Performance_between_Different_Selection_Strategies_on_Simple_Genetic_Algorithms)"
      ],
      "metadata": {
        "id": "rRyIKDmTeisi"
      }
    },
    {
      "cell_type": "code",
      "source": [
        "class Parameters:\n",
        "  def __init__(self):\n",
        "    self.population_size = 50\n",
        "    self.number_of_generations = 100\n",
        "    self.mutation_rate = 0.1\n",
        "    self.mutation_strength = 0.05\n",
        "    self.explore_crossover_range = 0.2\n",
        "    self.birth_rate_per_generation = 1\n",
        "    self.tournament_size = 3"
      ],
      "metadata": {
        "id": "J0ILy-Y9a4Ta"
      },
      "execution_count": 173,
      "outputs": []
    },
    {
      "cell_type": "code",
      "source": [
        "def choose_parents(population, tournament_size=3):\n",
        "  \"\"\"\n",
        "  Tournament Selection: choose 3 random parents, calculate their sharpe ratio and return the highest.\n",
        "\n",
        "  Parameters:\n",
        "  - tournament_size: number of contestents (i.e. number of parents chosen to compete in this case)\n",
        "\n",
        "  Returns:\n",
        "  - 2 parents from 2 tournaments with highest fitness function (Sharpe Ratio)\n",
        "  \"\"\"\n",
        "  tournament1 = np.random.choice(population, tournament_size)\n",
        "  tournament2 = np.random.choice(population, tournament_size)\n",
        "\n",
        "  parent1 = max(tournament1, key=lambda x: x.fitness)\n",
        "  parent2 = max(tournament2, key=lambda x: x.fitness)\n",
        "\n",
        "  return parent1, parent2\n"
      ],
      "metadata": {
        "id": "d7jqwuNke59k"
      },
      "execution_count": 174,
      "outputs": []
    },
    {
      "cell_type": "code",
      "source": [
        "def run_genetic(prob, params, experiment_name=\"Experiment 1\"):\n",
        "  # 1. Read variables\n",
        "  num_of_population = params.population_size\n",
        "  rate_of_gene_mutation = params.mutation_rate\n",
        "  mutation_strength = params.mutation_strength\n",
        "  explore_crossover = params.explore_crossover_range\n",
        "  max_num_of_generations = params.number_of_generations\n",
        "\n",
        "  fitness_function = prob.fitness_function\n",
        "  acceptable_fitness = prob.acceptable_fitness\n",
        "  num_of_child_per_generation = num_of_population * params.birth_rate_per_generation\n",
        "\n",
        "  # 2. Create population\n",
        "  population = []\n",
        "  best_solution = PortfolioIndividual(prob)\n",
        "  best_solution.fitness = -np.inf\n",
        "\n",
        "  for i in range(num_of_population):\n",
        "    new_individual = PortfolioIndividual(prob)\n",
        "    new_individual.fitness = fitness_function(new_individual.chromosomes, expected_returns, covariance_matrix)\n",
        "\n",
        "    if new_individual.fitness > best_solution.fitness:\n",
        "      best_solution = deepcopy(new_individual)\n",
        "\n",
        "    population.append(new_individual)\n",
        "\n",
        "  print(f\"Initial Population Size: {len(population)}\")\n",
        "\n",
        "  # 3. Start GA Evolution Loop\n",
        "  for gen in range(max_num_of_generations):\n",
        "    children = []\n",
        "\n",
        "    # Generate children through crossover and mutation\n",
        "    while(len(children) < num_of_child_per_generation):\n",
        "      parent1, parent2 = choose_parents(population=population, tournament_size=params.tournament_size)\n",
        "\n",
        "      child1, child2 = parent1.crossover(parent2, explore_crossover)\n",
        "\n",
        "      child1 = child1.mutate(rate_of_gene_mutation, mutation_strength)\n",
        "      child2 = child2.mutate(rate_of_gene_mutation, mutation_strength)\n",
        "\n",
        "      child1.fitness = fitness_function(child1.chromosomes, expected_returns, covariance_matrix)\n",
        "      child2.fitness = fitness_function(child2.chromosomes, expected_returns, covariance_matrix)\n",
        "\n",
        "      children.append(child1)\n",
        "      children.append(child2)\n",
        "\n",
        "    # 4. Add children to new population\n",
        "    population += children\n",
        "\n",
        "    # 5. Sort\n",
        "    population = sorted(population, key=lambda x: x.fitness, reverse=True)\n",
        "\n",
        "    # 6. Cull population to fixed size\n",
        "    population = population[:num_of_population]\n",
        "\n",
        "    if population[0].fitness > best_solution.fitness:\n",
        "      best_solution = deepcopy(population[0])\n",
        "      print(f\"Generation {gen + 1}: New Best Sharpe Ratio = {best_solution.fitness}\")\n",
        "\n",
        "    if best_solution.fitness > acceptable_fitness:\n",
        "      print(\"Optimal portfolio found, stopping early.\")\n",
        "      break\n",
        "\n",
        "  return population, best_solution"
      ],
      "metadata": {
        "id": "7GZUmm4gRdVp"
      },
      "execution_count": 175,
      "outputs": []
    },
    {
      "cell_type": "markdown",
      "source": [
        "### Testing on GA (Loop 1) with default parameters\n",
        "Stock Data: 5 years, February 11th 2020 - Febraury 11th 2025"
      ],
      "metadata": {
        "id": "F7W8YpPSdT7Y"
      }
    },
    {
      "cell_type": "code",
      "source": [
        "p = Problem()"
      ],
      "metadata": {
        "id": "DQ9aTxuYdTgS"
      },
      "execution_count": 149,
      "outputs": []
    },
    {
      "cell_type": "code",
      "source": [
        "assets = PortfolioIndividual(p)\n",
        "print(assets.chromosomes)\n",
        "print(sum(assets.chromosomes))"
      ],
      "metadata": {
        "colab": {
          "base_uri": "https://localhost:8080/"
        },
        "id": "4EKK94utdik1",
        "outputId": "601dd61a-b6b2-4d1c-85c9-0f6ab725878a"
      },
      "execution_count": 150,
      "outputs": [
        {
          "output_type": "stream",
          "name": "stdout",
          "text": [
            "[0.12177393 0.14807533 0.3063172  0.39087189 0.03296165]\n",
            "1.0\n"
          ]
        }
      ]
    },
    {
      "cell_type": "code",
      "source": [
        "params = Parameters()"
      ],
      "metadata": {
        "id": "uIR7s50UeBdT"
      },
      "execution_count": 151,
      "outputs": []
    },
    {
      "cell_type": "code",
      "source": [
        "population, best_solution = run_genetic(p, params=params)\n",
        "best_solution.fitness, best_solution.chromosomes"
      ],
      "metadata": {
        "colab": {
          "base_uri": "https://localhost:8080/"
        },
        "id": "xX2ykaLYdv0O",
        "outputId": "1448e640-3f5c-4bcd-9cfa-de8fe634a424"
      },
      "execution_count": 152,
      "outputs": [
        {
          "output_type": "stream",
          "name": "stdout",
          "text": [
            "Initial Population Size: 50\n",
            "Generation 1: New Best Sharpe Ratio = 0.08556326936892793\n",
            "Generation 2: New Best Sharpe Ratio = 0.08581056030878677\n",
            "Generation 3: New Best Sharpe Ratio = 0.08634099135483217\n",
            "Generation 4: New Best Sharpe Ratio = 0.08678878817626591\n",
            "Generation 5: New Best Sharpe Ratio = 0.08722029910737514\n",
            "Generation 6: New Best Sharpe Ratio = 0.08729792096031766\n",
            "Generation 7: New Best Sharpe Ratio = 0.08765846035260899\n",
            "Generation 9: New Best Sharpe Ratio = 0.08795966094206573\n",
            "Generation 11: New Best Sharpe Ratio = 0.08823621829367792\n",
            "Generation 13: New Best Sharpe Ratio = 0.08827540992517525\n",
            "Generation 14: New Best Sharpe Ratio = 0.08828128632753428\n",
            "Generation 15: New Best Sharpe Ratio = 0.08831154813063838\n",
            "Generation 16: New Best Sharpe Ratio = 0.08836131516791373\n",
            "Generation 17: New Best Sharpe Ratio = 0.08840368041239786\n",
            "Generation 19: New Best Sharpe Ratio = 0.08840423828334529\n",
            "Generation 20: New Best Sharpe Ratio = 0.08840446162073448\n",
            "Generation 22: New Best Sharpe Ratio = 0.08840478086216869\n",
            "Generation 23: New Best Sharpe Ratio = 0.08840478428614863\n",
            "Generation 24: New Best Sharpe Ratio = 0.08840478734571257\n",
            "Generation 27: New Best Sharpe Ratio = 0.08840478734947907\n",
            "Generation 28: New Best Sharpe Ratio = 0.08840478735380114\n",
            "Generation 31: New Best Sharpe Ratio = 0.08840478735397214\n",
            "Generation 33: New Best Sharpe Ratio = 0.08840478735397338\n",
            "Generation 34: New Best Sharpe Ratio = 0.08840478735397948\n",
            "Generation 35: New Best Sharpe Ratio = 0.08840478735397955\n",
            "Generation 38: New Best Sharpe Ratio = 0.08840478735397957\n"
          ]
        },
        {
          "output_type": "execute_result",
          "data": {
            "text/plain": [
              "(0.08840478735397957,\n",
              " array([0.        , 0.        , 0.        , 0.80836533, 0.19163467]))"
            ]
          },
          "metadata": {},
          "execution_count": 152
        }
      ]
    },
    {
      "cell_type": "markdown",
      "source": [
        "### Observation for First GA Loop (Default Parameters)\n",
        "- Premature convergence occurred, stopping improvement early (~Generation 100-110).  \n",
        "- **Final Sharpe Ratio = 0.089**, which is too low (a good portfolio should have **Sharpe Ratio > 1**). In a real life scenario, a Sharpe Ratio of less than 1 indicates a weak portfolio because returns are not high enough relative to risk.\n",
        "- Highly concentrated portfolio (81% in one asset, 19% in another, 0% elsewhere).  \n",
        "- Needs better parameter tuning (mutation, crossover, population size) to improve diversification and avoid local optima.\n"
      ],
      "metadata": {
        "id": "Pw6KPFgs34R0"
      }
    },
    {
      "cell_type": "markdown",
      "source": [
        "### Testing on GA (Loop 2) with Tuned parameters\n",
        "Stock Data: 10 years, February 11th 2014 - February 11th 2025"
      ],
      "metadata": {
        "id": "9NWo3DGHAucP"
      }
    },
    {
      "cell_type": "code",
      "source": [
        "params_tuned_1 = Parameters()\n",
        "params_tuned_1.population = 200\n",
        "params_tuned_1.explore_crossover_range = 0.1\n",
        "params_tuned_1.mutation_rate = 0.4\n",
        "params_tuned_1.mutation_strength = 0.5\n",
        "params_tuned_1.number_of_generations = 200\n",
        "params_tuned_1.birth_rate_per_generation = 1\n",
        "params_tuned_1.tournament_size = 7"
      ],
      "metadata": {
        "id": "cqoaCgyw5i-R"
      },
      "execution_count": 162,
      "outputs": []
    },
    {
      "cell_type": "code",
      "source": [
        "population2, best_solution_tuned_1 = run_genetic(p, params_tuned_1, experiment_name=\"Experiment 2 - Tuned Params\")\n",
        "best_solution_tuned_1.fitness, best_solution_tuned_1.chromosomes"
      ],
      "metadata": {
        "id": "4ms0cfCE6mOv",
        "outputId": "11fbf2c7-a1ab-434d-e17c-4433c2b60672",
        "colab": {
          "base_uri": "https://localhost:8080/"
        }
      },
      "execution_count": 163,
      "outputs": [
        {
          "output_type": "stream",
          "name": "stdout",
          "text": [
            "Initial Population Size: 50\n",
            "Generation 3: New Best Sharpe Ratio = 0.08938320143480036\n",
            "Generation 4: New Best Sharpe Ratio = 0.0894031378224605\n",
            "Generation 5: New Best Sharpe Ratio = 0.08947996557165429\n",
            "Generation 6: New Best Sharpe Ratio = 0.08949977381365937\n",
            "Generation 7: New Best Sharpe Ratio = 0.08949977600469085\n",
            "Generation 8: New Best Sharpe Ratio = 0.08951971869953725\n",
            "Generation 10: New Best Sharpe Ratio = 0.08952103333414385\n",
            "Generation 12: New Best Sharpe Ratio = 0.08952423853627027\n",
            "Generation 14: New Best Sharpe Ratio = 0.08952434723047689\n",
            "Generation 18: New Best Sharpe Ratio = 0.0895252579595518\n",
            "Generation 20: New Best Sharpe Ratio = 0.08952592350686939\n",
            "Generation 23: New Best Sharpe Ratio = 0.0895283165045995\n",
            "Generation 24: New Best Sharpe Ratio = 0.08952834531567659\n",
            "Generation 31: New Best Sharpe Ratio = 0.08952834532206244\n",
            "Generation 42: New Best Sharpe Ratio = 0.08952834532219851\n",
            "Generation 44: New Best Sharpe Ratio = 0.08952878370561085\n",
            "Generation 50: New Best Sharpe Ratio = 0.08952878478168624\n",
            "Generation 52: New Best Sharpe Ratio = 0.08952878482578347\n",
            "Generation 53: New Best Sharpe Ratio = 0.08952893116793563\n",
            "Generation 55: New Best Sharpe Ratio = 0.08952921265326214\n",
            "Generation 58: New Best Sharpe Ratio = 0.08952921310363275\n",
            "Generation 62: New Best Sharpe Ratio = 0.08952972804802578\n",
            "Generation 68: New Best Sharpe Ratio = 0.08952972884353298\n",
            "Generation 69: New Best Sharpe Ratio = 0.08952987278120024\n",
            "Generation 72: New Best Sharpe Ratio = 0.08952988002991118\n",
            "Generation 84: New Best Sharpe Ratio = 0.08952988003882287\n",
            "Generation 88: New Best Sharpe Ratio = 0.08952988006129384\n",
            "Generation 89: New Best Sharpe Ratio = 0.08952988006135944\n",
            "Generation 93: New Best Sharpe Ratio = 0.08953002068078027\n",
            "Generation 94: New Best Sharpe Ratio = 0.08953002420672777\n"
          ]
        },
        {
          "output_type": "stream",
          "name": "stderr",
          "text": [
            "<ipython-input-145-a590760cd583>:55: RuntimeWarning: invalid value encountered in divide\n",
            "  mutated_portfolio.chromosomes /= np.sum(mutated_portfolio.chromosomes)\n"
          ]
        },
        {
          "output_type": "stream",
          "name": "stdout",
          "text": [
            "Generation 102: New Best Sharpe Ratio = 0.08953002553023402\n",
            "Generation 104: New Best Sharpe Ratio = 0.08953002553410282\n",
            "Generation 107: New Best Sharpe Ratio = 0.08953002553666922\n",
            "Generation 109: New Best Sharpe Ratio = 0.08953002553708131\n",
            "Generation 111: New Best Sharpe Ratio = 0.08953002553710793\n",
            "Generation 112: New Best Sharpe Ratio = 0.08953002553713937\n",
            "Generation 114: New Best Sharpe Ratio = 0.08953002553713948\n",
            "Generation 136: New Best Sharpe Ratio = 0.0895300255371395\n",
            "Generation 138: New Best Sharpe Ratio = 0.08953063881985865\n",
            "Generation 151: New Best Sharpe Ratio = 0.08953064159146515\n",
            "Generation 153: New Best Sharpe Ratio = 0.08953064204426102\n",
            "Generation 156: New Best Sharpe Ratio = 0.08953064204426105\n",
            "Generation 157: New Best Sharpe Ratio = 0.08953064232468781\n",
            "Generation 171: New Best Sharpe Ratio = 0.08953066562637617\n",
            "Generation 178: New Best Sharpe Ratio = 0.0895306657432642\n",
            "Generation 179: New Best Sharpe Ratio = 0.08953066650820592\n",
            "Generation 182: New Best Sharpe Ratio = 0.08953066730786473\n",
            "Generation 188: New Best Sharpe Ratio = 0.08953066732622227\n",
            "Generation 191: New Best Sharpe Ratio = 0.08953104353279714\n"
          ]
        },
        {
          "output_type": "execute_result",
          "data": {
            "text/plain": [
              "(0.08953104353279714,\n",
              " array([0.21404173, 0.06157388, 0.09031474, 0.533845  , 0.10022465]))"
            ]
          },
          "metadata": {},
          "execution_count": 163
        }
      ]
    },
    {
      "cell_type": "markdown",
      "source": [
        "### Observation for 2nd GA Loop (Tuned Parameters & 10 years historical data)\n",
        "- Slight improvement in Sharpe Ratio (0.089 → 0.0895), but still far from an ideal portfolio (Sharpe Ratio > 1).\n",
        "- Premature convergence still occurs, with minimal improvements after ~Generation 190-200.\n",
        "- More diversified asset allocation compared to the 5-year GA loop, but still concentrated (53% in one asset).\n",
        "\n",
        "Parameter tuning had some impact, but the dataset itself likely limits further optimization. The issue is no longer GA tuning but rather stock selection and market conditions."
      ],
      "metadata": {
        "id": "H5fJubheVLXu"
      }
    },
    {
      "cell_type": "markdown",
      "source": [
        "### Testing on GA Loop 3: Adding More Diversified Stocks\n",
        "In the previous GA runs, the selected stocks were **tech-heavy**, which may have limited portfolio optimization.  \n",
        "\n",
        "For this loop, I added 5 new stocks from different sectors to increase diversification:  \n",
        "- **\"JNJ\"** (Healthcare) - Johnson & Johnson\n",
        "- **\"XOM\"** (Energy) - Exxon Mobil Corp\n",
        "- **\"KO\"** (Consumer Staples) - Coca-Cola Co\n",
        "- **\"WMT\"** (Retail) - Walmart\n",
        "- **\"V\"** (Financial) - Visa\n",
        "\n",
        "The goal is to see if adding diverse sectors helps the GA find a better portfolio allocation with a higher Sharpe Ratio.  \n",
        "\n",
        "The GA parameters and 10-year historical data remain the same as the previous run for consistency.\n"
      ],
      "metadata": {
        "id": "aufyTPcQXxSu"
      }
    },
    {
      "cell_type": "code",
      "source": [
        "p10 = Problem()"
      ],
      "metadata": {
        "id": "v3mIKH4KY2kQ"
      },
      "execution_count": 179,
      "outputs": []
    },
    {
      "cell_type": "code",
      "source": [
        "p10.number_of_genes"
      ],
      "metadata": {
        "id": "_PsiC4nsY5-l",
        "outputId": "faaa25f7-0d6b-43d4-d5a8-712c8fd6aed3",
        "colab": {
          "base_uri": "https://localhost:8080/"
        }
      },
      "execution_count": 180,
      "outputs": [
        {
          "output_type": "execute_result",
          "data": {
            "text/plain": [
              "10"
            ]
          },
          "metadata": {},
          "execution_count": 180
        }
      ]
    },
    {
      "cell_type": "code",
      "source": [
        "population3, best_solution_tuned_2 = run_genetic(p10, params_tuned_1, experiment_name=\"Experiment 3 - Added new Stocks for diversity\")\n",
        "best_solution_tuned_2.fitness, best_solution_tuned_2.chromosomes"
      ],
      "metadata": {
        "id": "V-8-tFJHYOfP",
        "outputId": "0ebc41eb-ad77-478d-c4d7-6c2677220f31",
        "colab": {
          "base_uri": "https://localhost:8080/"
        }
      },
      "execution_count": 181,
      "outputs": [
        {
          "output_type": "stream",
          "name": "stdout",
          "text": [
            "Initial Population Size: 50\n",
            "Generation 1: New Best Sharpe Ratio = 0.09284897079362421\n",
            "Generation 3: New Best Sharpe Ratio = 0.09418677879856872\n",
            "Generation 4: New Best Sharpe Ratio = 0.09429990364355283\n",
            "Generation 6: New Best Sharpe Ratio = 0.09440512541662383\n",
            "Generation 8: New Best Sharpe Ratio = 0.09448087799713753\n",
            "Generation 12: New Best Sharpe Ratio = 0.0945718424451327\n",
            "Generation 20: New Best Sharpe Ratio = 0.09457823970714575\n",
            "Generation 21: New Best Sharpe Ratio = 0.09458043081544423\n",
            "Generation 23: New Best Sharpe Ratio = 0.09462087767886711\n",
            "Generation 24: New Best Sharpe Ratio = 0.09464039487480969\n",
            "Generation 28: New Best Sharpe Ratio = 0.09465387983595573\n",
            "Generation 29: New Best Sharpe Ratio = 0.09468102358226574\n",
            "Generation 34: New Best Sharpe Ratio = 0.09468742877753542\n",
            "Generation 36: New Best Sharpe Ratio = 0.09470485613075556\n",
            "Generation 43: New Best Sharpe Ratio = 0.09471330625433642\n",
            "Generation 53: New Best Sharpe Ratio = 0.09472039965661219\n",
            "Generation 57: New Best Sharpe Ratio = 0.094725117229305\n",
            "Generation 62: New Best Sharpe Ratio = 0.09472615549066868\n",
            "Generation 67: New Best Sharpe Ratio = 0.09473931117188045\n",
            "Generation 88: New Best Sharpe Ratio = 0.09474149470539521\n",
            "Generation 111: New Best Sharpe Ratio = 0.09474165047018002\n",
            "Generation 112: New Best Sharpe Ratio = 0.09474884316806913\n",
            "Generation 167: New Best Sharpe Ratio = 0.09474922202187604\n",
            "Generation 171: New Best Sharpe Ratio = 0.09475480950863234\n",
            "Generation 193: New Best Sharpe Ratio = 0.09475789609480947\n",
            "Generation 196: New Best Sharpe Ratio = 0.09476288897119968\n"
          ]
        },
        {
          "output_type": "execute_result",
          "data": {
            "text/plain": [
              "(0.09476288897119968,\n",
              " array([7.34524856e-02, 2.35523020e-02, 4.61632276e-02, 4.89156263e-02,\n",
              "        7.25549685e-06, 3.52715872e-01, 6.64948736e-02, 4.51955637e-03,\n",
              "        3.84178801e-01, 0.00000000e+00]))"
            ]
          },
          "metadata": {},
          "execution_count": 181
        }
      ]
    },
    {
      "cell_type": "markdown",
      "source": [
        "### Observation for 3rd GA Loop (Diversified Stock Selection)\n",
        "- Slight improvement in Sharpe Ratio (0.089 → 0.0947) after adding more diversified stocks.\n",
        "- More balanced asset allocation, but still concentrated in a few stocks (38% in one, 35% in another).\n",
        "- Premature convergence still present (~Generation 190), indicating limited further optimization.\n",
        "- Diversification had a positive effect, but not enough to achieve a Sharpe Ratio > 1."
      ],
      "metadata": {
        "id": "uS1eBevjZcJH"
      }
    },
    {
      "cell_type": "markdown",
      "source": [
        "### **Future Fine-Tuning & Justification for Stopping**  \n",
        "\n",
        "- Stopped due to time constraints, but successfully demonstrated GA tuning and optimization.  \n",
        "- Fixed major issues (data errors, negative Sharpe Ratios, lack of diversification).  \n",
        "- Showed improvements across multiple GA runs, proving the ability to fine-tune parameters.  \n",
        "- Further improvements require more time and may involve testing bonds, ETFs, or alternative selection methods.  \n",
        "\n",
        "**Conclusion:** GA optimization was successfully demonstrated, and further improvements would require additional time.   \n"
      ],
      "metadata": {
        "id": "XFRFNpIAZufm"
      }
    }
  ]
}