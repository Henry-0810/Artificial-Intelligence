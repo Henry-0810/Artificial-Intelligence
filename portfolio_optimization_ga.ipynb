{
  "nbformat": 4,
  "nbformat_minor": 0,
  "metadata": {
    "colab": {
      "provenance": [],
      "toc_visible": true,
      "include_colab_link": true
    },
    "kernelspec": {
      "name": "python3",
      "display_name": "Python 3"
    },
    "language_info": {
      "name": "python"
    }
  },
  "cells": [
    {
      "cell_type": "markdown",
      "metadata": {
        "id": "view-in-github",
        "colab_type": "text"
      },
      "source": [
        "<a href=\"https://colab.research.google.com/github/Henry-0810/Artificial-Intelligence/blob/main/portfolio_optimization_ga.ipynb\" target=\"_parent\"><img src=\"https://colab.research.google.com/assets/colab-badge.svg\" alt=\"Open In Colab\"/></a>"
      ]
    },
    {
      "cell_type": "markdown",
      "source": [
        "# **Genetic Algorithm**\n",
        "## **Portfolio Optimization**\n",
        "I will only use 5 stocks for this project. Stock data are all real-time, retrived from the Yahoo Finance API, https://pypi.org/project/yfinance/"
      ],
      "metadata": {
        "id": "nH8O89crwBDo"
      }
    },
    {
      "cell_type": "markdown",
      "source": [
        "## Problem Statement (~30%)"
      ],
      "metadata": {
        "id": "HsDO1OXBTB1r"
      }
    },
    {
      "cell_type": "markdown",
      "source": [
        "### Description of the Problem  \n",
        "Portfolio optimization is the process of selecting the best combination of assets to maximize returns while minimizing risk. A common approach is **Markowitz’s Mean-Variance Optimization (MVO)**, which constructs an efficient portfolio using expected returns, variances, and covariances of assets.  \n",
        "\n",
        "However, MVO has several limitations:  \n",
        "1. **Complexity**: Solving quadratic optimization problems becomes expensive as the number of assets grows.  \n",
        "2. **Strict Assumptions**: MVO assumes asset returns follow a normal distribution and that investors have quadratic utility functions, which is not always realistic.  \n",
        "3. **Handling Constraints**: Incorporating real-world constraints (e.g., restricting allocations to certain stocks) increases the complexity.  \n",
        "\n",
        "To overcome these challenges, this project applies a **Genetic Algorithm (GA)** to optimize portfolio allocation. Unlike MVO, GA is a heuristic approach that efficiently searches for near-optimal solutions without relying on strict mathematical assumptions.  \n",
        "\n",
        "The goal is to maximize the **Sharpe Ratio**, a key financial metric that balances return and risk, making GA a suitable technique for solving this problem.\n",
        "\n",
        "---\n",
        "\n",
        "### Discussion of the Suitability of Genetic Algorithms\n",
        "Genetic Algorithms (GAs) are well-suited for portfolio optimization due to their ability to handle large search spaces and complex constraints. Key advantages include:  \n",
        "\n",
        "- **Scalability** – GAs can handle large datasets efficiently without exponential growth in computational cost.  \n",
        "- **No Assumption of Normality** – Unlike MVO, GA does not require asset returns to be normally distributed.  \n",
        "- **Flexibility** – GA can incorporate additional constraints, such as limiting investment in specific stocks or ensuring minimum allocation to certain sectors.  \n",
        "\n",
        "Through **evolutionary selection**, GA gradually improves the portfolio allocation, leading to **higher Sharpe Ratios** compared to naive allocation strategies.\n",
        "\n",
        "---\n",
        "\n",
        "### Complexity of the Problem (Project Plan)\n",
        "Portfolio optimization presents a **high-dimensional, non-linear problem** where:  \n",
        "- Each chromosome represents a possible portfolio allocation (weights og assets).  \n",
        "- The solution space grows exponentially with the number of stocks considered.  \n",
        "- Evaluating a portfolio requires calculating historical **returns, variances, and covariances** over a defined period.  \n",
        "- The GA must balance exploration (mutation) and exploitation (crossover) to meet an optimal solution efficiently.  \n",
        "\n",
        "The complexity of the Genetic Algorithm increases with:  \n",
        "- The **number of assets** included in the portfolio (will be using only 5 in this case for a proof of concept).  \n",
        "- The **historical data period** used for return calculations (longer periods increase computational load).  \n",
        "- The **GA parameters** (population size, mutation rate, number of generations), which impact convergence speed.  \n",
        "\n",
        "Despite this complexity, GA provides a robust and adaptable approach to solving portfolio optimization problems where traditional methods struggle.\n",
        "\n",
        "---\n",
        "\n",
        "**Reference**  \n",
        "- [Markowitz Portfolio Theory](https://sites.math.washington.edu/~burke/crs/408/fin-proj/mark1.pdf)\n"
      ],
      "metadata": {
        "id": "KOfOnjYU8_Ya"
      }
    },
    {
      "cell_type": "markdown",
      "source": [
        "## The Problem and Fitness Function (~20%)"
      ],
      "metadata": {
        "id": "LjeQYJ_JStKP"
      }
    },
    {
      "cell_type": "code",
      "execution_count": 101,
      "metadata": {
        "id": "7LbdkZaqvxk6"
      },
      "outputs": [],
      "source": [
        "import pandas as pd\n",
        "import numpy as np\n",
        "import yfinance as yf\n",
        "from google.colab import drive"
      ]
    },
    {
      "cell_type": "markdown",
      "source": [
        "#### 1. Fetch Historical Data\n",
        "I will fetch 10 years of historical data starting from February 11th 2014 to February 11th 2025.\n",
        "I will investigate on 5 Stocks:\n",
        "1. Apple Inc. (AAPL)\n",
        "2. Tesla Inc. (TSLA)\n",
        "3. Microsoft Corp. (MSFT)\n",
        "4. Amazon.com Inc. (AMZN)\n",
        "5. NVIDIA Corporation (NVDA)"
      ],
      "metadata": {
        "id": "CHwoXKYlxSAo"
      }
    },
    {
      "cell_type": "code",
      "source": [
        "# start_date = \"2020-02-11\"\n",
        "start_date = \"2014-02-11\"\n",
        "end_date = \"2025-02-11\"\n",
        "\n",
        "stocks = [\"AAPL\",\"TSLA\",\"MSFT\",\"AMZN\",\"NVDA\"]\n",
        "\n",
        "# Added 5 more stocks that are not tech related to increase diversity, stocks 1st version result in poor Sharpe Ratio due to same type/industry of stocks\n",
        "stocks_2nd_version = [\"AAPL\", \"MSFT\", \"JNJ\", \"UNH\", \"BRK-B\", \"JPM\", \"MCD\", \"V\", \"HD\", \"LMT\"]\n",
        "\n",
        "data = yf.download(stocks, start=start_date, end=end_date, interval=\"1d\")\n",
        "data_10 = yf.download(stocks_2nd_version, start=start_date, end=end_date, interval=\"1d\")\n",
        "print(\"\\n\", data.columns)\n"
      ],
      "metadata": {
        "colab": {
          "base_uri": "https://localhost:8080/"
        },
        "id": "oqzCyOTPxRW3",
        "outputId": "a900669f-63a6-45ab-c1c0-25112a309ccd"
      },
      "execution_count": 102,
      "outputs": [
        {
          "output_type": "stream",
          "name": "stderr",
          "text": [
            "[*********************100%***********************]  5 of 5 completed\n",
            "[*********************100%***********************]  10 of 10 completed"
          ]
        },
        {
          "output_type": "stream",
          "name": "stdout",
          "text": [
            "\n",
            " MultiIndex([( 'Close', 'AAPL'),\n",
            "            ( 'Close', 'AMZN'),\n",
            "            ( 'Close', 'MSFT'),\n",
            "            ( 'Close', 'NVDA'),\n",
            "            ( 'Close', 'TSLA'),\n",
            "            (  'High', 'AAPL'),\n",
            "            (  'High', 'AMZN'),\n",
            "            (  'High', 'MSFT'),\n",
            "            (  'High', 'NVDA'),\n",
            "            (  'High', 'TSLA'),\n",
            "            (   'Low', 'AAPL'),\n",
            "            (   'Low', 'AMZN'),\n",
            "            (   'Low', 'MSFT'),\n",
            "            (   'Low', 'NVDA'),\n",
            "            (   'Low', 'TSLA'),\n",
            "            (  'Open', 'AAPL'),\n",
            "            (  'Open', 'AMZN'),\n",
            "            (  'Open', 'MSFT'),\n",
            "            (  'Open', 'NVDA'),\n",
            "            (  'Open', 'TSLA'),\n",
            "            ('Volume', 'AAPL'),\n",
            "            ('Volume', 'AMZN'),\n",
            "            ('Volume', 'MSFT'),\n",
            "            ('Volume', 'NVDA'),\n",
            "            ('Volume', 'TSLA')],\n",
            "           names=['Price', 'Ticker'])\n"
          ]
        },
        {
          "output_type": "stream",
          "name": "stderr",
          "text": [
            "\n"
          ]
        }
      ]
    },
    {
      "cell_type": "markdown",
      "source": [
        "There are 5 types of Prices: Close, High, Low, Open, Volume. Close prices are often used for analysis because it reflects the final consensus on the stock price for the trading day. It is often most consistent for portfolio optimization."
      ],
      "metadata": {
        "id": "-1JG51N96BYp"
      }
    },
    {
      "cell_type": "code",
      "source": [
        "close_data = data[\"Close\"]\n",
        "close_data_10 = data_10[\"Close\"]\n",
        "drive.mount('/content/drive')\n",
        "\n",
        "close_data.to_csv('/content/drive/My Drive/stock_data.csv')\n",
        "close_data_10.to_csv('/content/drive/My Drive/stock_data_10.csv')"
      ],
      "metadata": {
        "colab": {
          "base_uri": "https://localhost:8080/"
        },
        "id": "G5dS-10o6Xzg",
        "outputId": "1595b6ed-087a-4bc2-9043-e24aecbedb25"
      },
      "execution_count": 103,
      "outputs": [
        {
          "output_type": "stream",
          "name": "stdout",
          "text": [
            "Drive already mounted at /content/drive; to attempt to forcibly remount, call drive.mount(\"/content/drive\", force_remount=True).\n"
          ]
        }
      ]
    },
    {
      "cell_type": "code",
      "source": [
        "stock_data = pd.read_csv('/content/drive/My Drive/stock_data.csv', index_col=0, parse_dates=True)\n",
        "stock_data_10 = pd.read_csv('/content/drive/My Drive/stock_data_10.csv', index_col=0, parse_dates=True)\n",
        "stock_data.head(10)"
      ],
      "metadata": {
        "colab": {
          "base_uri": "https://localhost:8080/",
          "height": 394
        },
        "id": "eRFRJ0OXi6Gg",
        "outputId": "22d83918-7e84-49d9-fca1-f6af53f771a1"
      },
      "execution_count": 104,
      "outputs": [
        {
          "output_type": "execute_result",
          "data": {
            "text/plain": [
              "                 AAPL       AMZN       MSFT      NVDA       TSLA\n",
              "Date                                                            \n",
              "2014-02-11  16.780827  18.089500  31.004763  0.383127  13.108000\n",
              "2014-02-12  16.779572  17.462500  31.254993  0.396802  13.021333\n",
              "2014-02-13  17.046028  17.860001  31.371773  0.409297  13.308667\n",
              "2014-02-14  17.032240  17.867500  31.380116  0.422265  13.215333\n",
              "2014-02-18  17.094868  17.682501  31.447348  0.422029  13.580000\n",
              "2014-02-19  16.824974  17.368999  31.522985  0.427687  12.909333\n",
              "2014-02-20  16.630224  17.490000  31.724680  0.442777  13.998000\n",
              "2014-02-21  16.445496  17.337999  31.917976  0.439476  13.973333\n",
              "2014-02-24  16.517513  17.589001  31.674248  0.445842  14.510000\n",
              "2014-02-25  16.345619  17.916000  31.548191  0.443829  16.533333"
            ],
            "text/html": [
              "\n",
              "  <div id=\"df-0d52516e-a32d-4457-9192-5a1a85452d0b\" class=\"colab-df-container\">\n",
              "    <div>\n",
              "<style scoped>\n",
              "    .dataframe tbody tr th:only-of-type {\n",
              "        vertical-align: middle;\n",
              "    }\n",
              "\n",
              "    .dataframe tbody tr th {\n",
              "        vertical-align: top;\n",
              "    }\n",
              "\n",
              "    .dataframe thead th {\n",
              "        text-align: right;\n",
              "    }\n",
              "</style>\n",
              "<table border=\"1\" class=\"dataframe\">\n",
              "  <thead>\n",
              "    <tr style=\"text-align: right;\">\n",
              "      <th></th>\n",
              "      <th>AAPL</th>\n",
              "      <th>AMZN</th>\n",
              "      <th>MSFT</th>\n",
              "      <th>NVDA</th>\n",
              "      <th>TSLA</th>\n",
              "    </tr>\n",
              "    <tr>\n",
              "      <th>Date</th>\n",
              "      <th></th>\n",
              "      <th></th>\n",
              "      <th></th>\n",
              "      <th></th>\n",
              "      <th></th>\n",
              "    </tr>\n",
              "  </thead>\n",
              "  <tbody>\n",
              "    <tr>\n",
              "      <th>2014-02-11</th>\n",
              "      <td>16.780827</td>\n",
              "      <td>18.089500</td>\n",
              "      <td>31.004763</td>\n",
              "      <td>0.383127</td>\n",
              "      <td>13.108000</td>\n",
              "    </tr>\n",
              "    <tr>\n",
              "      <th>2014-02-12</th>\n",
              "      <td>16.779572</td>\n",
              "      <td>17.462500</td>\n",
              "      <td>31.254993</td>\n",
              "      <td>0.396802</td>\n",
              "      <td>13.021333</td>\n",
              "    </tr>\n",
              "    <tr>\n",
              "      <th>2014-02-13</th>\n",
              "      <td>17.046028</td>\n",
              "      <td>17.860001</td>\n",
              "      <td>31.371773</td>\n",
              "      <td>0.409297</td>\n",
              "      <td>13.308667</td>\n",
              "    </tr>\n",
              "    <tr>\n",
              "      <th>2014-02-14</th>\n",
              "      <td>17.032240</td>\n",
              "      <td>17.867500</td>\n",
              "      <td>31.380116</td>\n",
              "      <td>0.422265</td>\n",
              "      <td>13.215333</td>\n",
              "    </tr>\n",
              "    <tr>\n",
              "      <th>2014-02-18</th>\n",
              "      <td>17.094868</td>\n",
              "      <td>17.682501</td>\n",
              "      <td>31.447348</td>\n",
              "      <td>0.422029</td>\n",
              "      <td>13.580000</td>\n",
              "    </tr>\n",
              "    <tr>\n",
              "      <th>2014-02-19</th>\n",
              "      <td>16.824974</td>\n",
              "      <td>17.368999</td>\n",
              "      <td>31.522985</td>\n",
              "      <td>0.427687</td>\n",
              "      <td>12.909333</td>\n",
              "    </tr>\n",
              "    <tr>\n",
              "      <th>2014-02-20</th>\n",
              "      <td>16.630224</td>\n",
              "      <td>17.490000</td>\n",
              "      <td>31.724680</td>\n",
              "      <td>0.442777</td>\n",
              "      <td>13.998000</td>\n",
              "    </tr>\n",
              "    <tr>\n",
              "      <th>2014-02-21</th>\n",
              "      <td>16.445496</td>\n",
              "      <td>17.337999</td>\n",
              "      <td>31.917976</td>\n",
              "      <td>0.439476</td>\n",
              "      <td>13.973333</td>\n",
              "    </tr>\n",
              "    <tr>\n",
              "      <th>2014-02-24</th>\n",
              "      <td>16.517513</td>\n",
              "      <td>17.589001</td>\n",
              "      <td>31.674248</td>\n",
              "      <td>0.445842</td>\n",
              "      <td>14.510000</td>\n",
              "    </tr>\n",
              "    <tr>\n",
              "      <th>2014-02-25</th>\n",
              "      <td>16.345619</td>\n",
              "      <td>17.916000</td>\n",
              "      <td>31.548191</td>\n",
              "      <td>0.443829</td>\n",
              "      <td>16.533333</td>\n",
              "    </tr>\n",
              "  </tbody>\n",
              "</table>\n",
              "</div>\n",
              "    <div class=\"colab-df-buttons\">\n",
              "\n",
              "  <div class=\"colab-df-container\">\n",
              "    <button class=\"colab-df-convert\" onclick=\"convertToInteractive('df-0d52516e-a32d-4457-9192-5a1a85452d0b')\"\n",
              "            title=\"Convert this dataframe to an interactive table.\"\n",
              "            style=\"display:none;\">\n",
              "\n",
              "  <svg xmlns=\"http://www.w3.org/2000/svg\" height=\"24px\" viewBox=\"0 -960 960 960\">\n",
              "    <path d=\"M120-120v-720h720v720H120Zm60-500h600v-160H180v160Zm220 220h160v-160H400v160Zm0 220h160v-160H400v160ZM180-400h160v-160H180v160Zm440 0h160v-160H620v160ZM180-180h160v-160H180v160Zm440 0h160v-160H620v160Z\"/>\n",
              "  </svg>\n",
              "    </button>\n",
              "\n",
              "  <style>\n",
              "    .colab-df-container {\n",
              "      display:flex;\n",
              "      gap: 12px;\n",
              "    }\n",
              "\n",
              "    .colab-df-convert {\n",
              "      background-color: #E8F0FE;\n",
              "      border: none;\n",
              "      border-radius: 50%;\n",
              "      cursor: pointer;\n",
              "      display: none;\n",
              "      fill: #1967D2;\n",
              "      height: 32px;\n",
              "      padding: 0 0 0 0;\n",
              "      width: 32px;\n",
              "    }\n",
              "\n",
              "    .colab-df-convert:hover {\n",
              "      background-color: #E2EBFA;\n",
              "      box-shadow: 0px 1px 2px rgba(60, 64, 67, 0.3), 0px 1px 3px 1px rgba(60, 64, 67, 0.15);\n",
              "      fill: #174EA6;\n",
              "    }\n",
              "\n",
              "    .colab-df-buttons div {\n",
              "      margin-bottom: 4px;\n",
              "    }\n",
              "\n",
              "    [theme=dark] .colab-df-convert {\n",
              "      background-color: #3B4455;\n",
              "      fill: #D2E3FC;\n",
              "    }\n",
              "\n",
              "    [theme=dark] .colab-df-convert:hover {\n",
              "      background-color: #434B5C;\n",
              "      box-shadow: 0px 1px 3px 1px rgba(0, 0, 0, 0.15);\n",
              "      filter: drop-shadow(0px 1px 2px rgba(0, 0, 0, 0.3));\n",
              "      fill: #FFFFFF;\n",
              "    }\n",
              "  </style>\n",
              "\n",
              "    <script>\n",
              "      const buttonEl =\n",
              "        document.querySelector('#df-0d52516e-a32d-4457-9192-5a1a85452d0b button.colab-df-convert');\n",
              "      buttonEl.style.display =\n",
              "        google.colab.kernel.accessAllowed ? 'block' : 'none';\n",
              "\n",
              "      async function convertToInteractive(key) {\n",
              "        const element = document.querySelector('#df-0d52516e-a32d-4457-9192-5a1a85452d0b');\n",
              "        const dataTable =\n",
              "          await google.colab.kernel.invokeFunction('convertToInteractive',\n",
              "                                                    [key], {});\n",
              "        if (!dataTable) return;\n",
              "\n",
              "        const docLinkHtml = 'Like what you see? Visit the ' +\n",
              "          '<a target=\"_blank\" href=https://colab.research.google.com/notebooks/data_table.ipynb>data table notebook</a>'\n",
              "          + ' to learn more about interactive tables.';\n",
              "        element.innerHTML = '';\n",
              "        dataTable['output_type'] = 'display_data';\n",
              "        await google.colab.output.renderOutput(dataTable, element);\n",
              "        const docLink = document.createElement('div');\n",
              "        docLink.innerHTML = docLinkHtml;\n",
              "        element.appendChild(docLink);\n",
              "      }\n",
              "    </script>\n",
              "  </div>\n",
              "\n",
              "\n",
              "<div id=\"df-b48e12b7-2ba3-42fd-bd97-8a401f2170bc\">\n",
              "  <button class=\"colab-df-quickchart\" onclick=\"quickchart('df-b48e12b7-2ba3-42fd-bd97-8a401f2170bc')\"\n",
              "            title=\"Suggest charts\"\n",
              "            style=\"display:none;\">\n",
              "\n",
              "<svg xmlns=\"http://www.w3.org/2000/svg\" height=\"24px\"viewBox=\"0 0 24 24\"\n",
              "     width=\"24px\">\n",
              "    <g>\n",
              "        <path d=\"M19 3H5c-1.1 0-2 .9-2 2v14c0 1.1.9 2 2 2h14c1.1 0 2-.9 2-2V5c0-1.1-.9-2-2-2zM9 17H7v-7h2v7zm4 0h-2V7h2v10zm4 0h-2v-4h2v4z\"/>\n",
              "    </g>\n",
              "</svg>\n",
              "  </button>\n",
              "\n",
              "<style>\n",
              "  .colab-df-quickchart {\n",
              "      --bg-color: #E8F0FE;\n",
              "      --fill-color: #1967D2;\n",
              "      --hover-bg-color: #E2EBFA;\n",
              "      --hover-fill-color: #174EA6;\n",
              "      --disabled-fill-color: #AAA;\n",
              "      --disabled-bg-color: #DDD;\n",
              "  }\n",
              "\n",
              "  [theme=dark] .colab-df-quickchart {\n",
              "      --bg-color: #3B4455;\n",
              "      --fill-color: #D2E3FC;\n",
              "      --hover-bg-color: #434B5C;\n",
              "      --hover-fill-color: #FFFFFF;\n",
              "      --disabled-bg-color: #3B4455;\n",
              "      --disabled-fill-color: #666;\n",
              "  }\n",
              "\n",
              "  .colab-df-quickchart {\n",
              "    background-color: var(--bg-color);\n",
              "    border: none;\n",
              "    border-radius: 50%;\n",
              "    cursor: pointer;\n",
              "    display: none;\n",
              "    fill: var(--fill-color);\n",
              "    height: 32px;\n",
              "    padding: 0;\n",
              "    width: 32px;\n",
              "  }\n",
              "\n",
              "  .colab-df-quickchart:hover {\n",
              "    background-color: var(--hover-bg-color);\n",
              "    box-shadow: 0 1px 2px rgba(60, 64, 67, 0.3), 0 1px 3px 1px rgba(60, 64, 67, 0.15);\n",
              "    fill: var(--button-hover-fill-color);\n",
              "  }\n",
              "\n",
              "  .colab-df-quickchart-complete:disabled,\n",
              "  .colab-df-quickchart-complete:disabled:hover {\n",
              "    background-color: var(--disabled-bg-color);\n",
              "    fill: var(--disabled-fill-color);\n",
              "    box-shadow: none;\n",
              "  }\n",
              "\n",
              "  .colab-df-spinner {\n",
              "    border: 2px solid var(--fill-color);\n",
              "    border-color: transparent;\n",
              "    border-bottom-color: var(--fill-color);\n",
              "    animation:\n",
              "      spin 1s steps(1) infinite;\n",
              "  }\n",
              "\n",
              "  @keyframes spin {\n",
              "    0% {\n",
              "      border-color: transparent;\n",
              "      border-bottom-color: var(--fill-color);\n",
              "      border-left-color: var(--fill-color);\n",
              "    }\n",
              "    20% {\n",
              "      border-color: transparent;\n",
              "      border-left-color: var(--fill-color);\n",
              "      border-top-color: var(--fill-color);\n",
              "    }\n",
              "    30% {\n",
              "      border-color: transparent;\n",
              "      border-left-color: var(--fill-color);\n",
              "      border-top-color: var(--fill-color);\n",
              "      border-right-color: var(--fill-color);\n",
              "    }\n",
              "    40% {\n",
              "      border-color: transparent;\n",
              "      border-right-color: var(--fill-color);\n",
              "      border-top-color: var(--fill-color);\n",
              "    }\n",
              "    60% {\n",
              "      border-color: transparent;\n",
              "      border-right-color: var(--fill-color);\n",
              "    }\n",
              "    80% {\n",
              "      border-color: transparent;\n",
              "      border-right-color: var(--fill-color);\n",
              "      border-bottom-color: var(--fill-color);\n",
              "    }\n",
              "    90% {\n",
              "      border-color: transparent;\n",
              "      border-bottom-color: var(--fill-color);\n",
              "    }\n",
              "  }\n",
              "</style>\n",
              "\n",
              "  <script>\n",
              "    async function quickchart(key) {\n",
              "      const quickchartButtonEl =\n",
              "        document.querySelector('#' + key + ' button');\n",
              "      quickchartButtonEl.disabled = true;  // To prevent multiple clicks.\n",
              "      quickchartButtonEl.classList.add('colab-df-spinner');\n",
              "      try {\n",
              "        const charts = await google.colab.kernel.invokeFunction(\n",
              "            'suggestCharts', [key], {});\n",
              "      } catch (error) {\n",
              "        console.error('Error during call to suggestCharts:', error);\n",
              "      }\n",
              "      quickchartButtonEl.classList.remove('colab-df-spinner');\n",
              "      quickchartButtonEl.classList.add('colab-df-quickchart-complete');\n",
              "    }\n",
              "    (() => {\n",
              "      let quickchartButtonEl =\n",
              "        document.querySelector('#df-b48e12b7-2ba3-42fd-bd97-8a401f2170bc button');\n",
              "      quickchartButtonEl.style.display =\n",
              "        google.colab.kernel.accessAllowed ? 'block' : 'none';\n",
              "    })();\n",
              "  </script>\n",
              "</div>\n",
              "\n",
              "    </div>\n",
              "  </div>\n"
            ],
            "application/vnd.google.colaboratory.intrinsic+json": {
              "type": "dataframe",
              "variable_name": "stock_data",
              "summary": "{\n  \"name\": \"stock_data\",\n  \"rows\": 2767,\n  \"fields\": [\n    {\n      \"column\": \"Date\",\n      \"properties\": {\n        \"dtype\": \"date\",\n        \"min\": \"2014-02-11 00:00:00\",\n        \"max\": \"2025-02-10 00:00:00\",\n        \"num_unique_values\": 2767,\n        \"samples\": [\n          \"2019-08-02 00:00:00\",\n          \"2017-06-12 00:00:00\",\n          \"2022-09-14 00:00:00\"\n        ],\n        \"semantic_type\": \"\",\n        \"description\": \"\"\n      }\n    },\n    {\n      \"column\": \"AAPL\",\n      \"properties\": {\n        \"dtype\": \"number\",\n        \"std\": 67.23087015243382,\n        \"min\": 16.198148727416992,\n        \"max\": 258.7355041503906,\n        \"num_unique_values\": 2725,\n        \"samples\": [\n          150.17393493652344,\n          50.178070068359375,\n          62.092533111572266\n        ],\n        \"semantic_type\": \"\",\n        \"description\": \"\"\n      }\n    },\n    {\n      \"column\": \"AMZN\",\n      \"properties\": {\n        \"dtype\": \"number\",\n        \"std\": 58.12815422878575,\n        \"min\": 14.34749984741211,\n        \"max\": 242.05999755859372,\n        \"num_unique_values\": 2718,\n        \"samples\": [\n          120.20950317382812,\n          32.165000915527344,\n          90.8730010986328\n        ],\n        \"semantic_type\": \"\",\n        \"description\": \"\"\n      }\n    },\n    {\n      \"column\": \"MSFT\",\n      \"properties\": {\n        \"dtype\": \"number\",\n        \"std\": 126.76140258392316,\n        \"min\": 31.004762649536133,\n        \"max\": 464.8543395996094,\n        \"num_unique_values\": 2683,\n        \"samples\": [\n          407.2309265136719,\n          101.86437225341795,\n          175.48841857910156\n        ],\n        \"semantic_type\": \"\",\n        \"description\": \"\"\n      }\n    },\n    {\n      \"column\": \"NVDA\",\n      \"properties\": {\n        \"dtype\": \"number\",\n        \"std\": 33.20750750689537,\n        \"min\": 0.3831269443035126,\n        \"max\": 149.41624450683594,\n        \"num_unique_values\": 2687,\n        \"samples\": [\n          2.431379795074463,\n          4.882267951965332,\n          0.636054277420044\n        ],\n        \"semantic_type\": \"\",\n        \"description\": \"\"\n      }\n    },\n    {\n      \"column\": \"TSLA\",\n      \"properties\": {\n        \"dtype\": \"number\",\n        \"std\": 115.77403453162458,\n        \"min\": 9.57800006866455,\n        \"max\": 479.8599853515625,\n        \"num_unique_values\": 2692,\n        \"samples\": [\n          199.5933380126953,\n          187.7100067138672,\n          16.076000213623047\n        ],\n        \"semantic_type\": \"\",\n        \"description\": \"\"\n      }\n    }\n  ]\n}"
            }
          },
          "metadata": {},
          "execution_count": 104
        }
      ]
    },
    {
      "cell_type": "markdown",
      "source": [
        "#### 2. Preprocess Data (Compute Returns and Risk)\n",
        "\n",
        "Before defining the fitness function **(Sharpe Ratio)**, I need to compute some key financial metrics from the historical stock data.\n",
        "\n",
        "Portfolio optimization requires **2** fundamental components:\n",
        "1. Returns → Measures how an asset appreciates over time\n",
        "2. Risk (Standard Deviation & Covariance) → Measures relationship between assets\n",
        "\n",
        "To Calculate returns and risk, **3** statistical methods are used:\n",
        "- Daily Returns: estimate expected return of portfolio\n",
        "- Covariance Matrix: measure risk relationship between different stocks\n",
        "- Standard Deviation: quantify portfolio risk\n",
        "\n",
        "Without calculating these, Sharpe Ratio cannot be correctly evaluated."
      ],
      "metadata": {
        "id": "XEmU3SLMH0Q7"
      }
    },
    {
      "cell_type": "markdown",
      "source": [],
      "metadata": {
        "id": "fMCxddtWdhQ6"
      }
    },
    {
      "cell_type": "code",
      "source": [
        "daily_returns = stock_data.pct_change().dropna()\n",
        "\n",
        "# multiplying 252 because 1 year have 252 working days\n",
        "expected_returns = daily_returns.mean() * 252\n",
        "\n",
        "covariance_matrix = daily_returns.cov() * 252\n",
        "\n",
        "print(\"Daily Return:\\n\",daily_returns)\n",
        "print(\"\\nExpected Return:\\n\", expected_returns)\n",
        "print(\"\\nCovariance Matrix:\\n\", covariance_matrix)"
      ],
      "metadata": {
        "id": "oHPwikbT6-Ro",
        "colab": {
          "base_uri": "https://localhost:8080/"
        },
        "outputId": "b8be0208-7576-4d81-f678-98d8c3a02722"
      },
      "execution_count": 105,
      "outputs": [
        {
          "output_type": "stream",
          "name": "stdout",
          "text": [
            "Daily Return:\n",
            "                 AAPL      AMZN      MSFT      NVDA      TSLA\n",
            "Date                                                        \n",
            "2014-02-12 -0.000075 -0.034661  0.008071  0.035692 -0.006612\n",
            "2014-02-13  0.015880  0.022763  0.003736  0.031492  0.022066\n",
            "2014-02-14 -0.000809  0.000420  0.000266  0.031682 -0.007013\n",
            "2014-02-18  0.003677 -0.010354  0.002143 -0.000558  0.027594\n",
            "2014-02-19 -0.015788 -0.017729  0.002405  0.013408 -0.049386\n",
            "...              ...       ...       ...       ...       ...\n",
            "2025-02-04  0.021008  0.019543  0.003529  0.017058  0.022232\n",
            "2025-02-05 -0.001418 -0.024333  0.002231  0.052086 -0.035797\n",
            "2025-02-06  0.003226  0.011263  0.006122  0.030842 -0.010181\n",
            "2025-02-07 -0.023969 -0.040531 -0.014598  0.009015 -0.033928\n",
            "2025-02-10  0.001187  0.017412  0.006028  0.028728 -0.030114\n",
            "\n",
            "[2766 rows x 5 columns]\n",
            "\n",
            "Expected Return:\n",
            " AAPL    0.276566\n",
            "AMZN    0.285809\n",
            "MSFT    0.270833\n",
            "NVDA    0.645632\n",
            "TSLA    0.457405\n",
            "dtype: float64\n",
            "\n",
            "Covariance Matrix:\n",
            "           AAPL      AMZN      MSFT      NVDA      TSLA\n",
            "AAPL  0.077812  0.048686  0.049144  0.068946  0.064567\n",
            "AMZN  0.048686  0.105983  0.054674  0.076444  0.071345\n",
            "MSFT  0.049144  0.054674  0.070402  0.074438  0.058578\n",
            "NVDA  0.068946  0.076444  0.074438  0.225623  0.104964\n",
            "TSLA  0.064567  0.071345  0.058578  0.104964  0.317046\n"
          ]
        }
      ]
    },
    {
      "cell_type": "markdown",
      "source": [
        "#### **Observation**\n",
        "\n",
        "Expected Returns:\n",
        "- TSLA (0.005521) has the highest expected return, indicating strong growth potential but also higher risk.\n",
        "- AMZN (0.002860) and NVDA (0.002209) follow, suggesting moderate expected returns.\n",
        "- AAPL (0.000475) and MSFT (0.000236) have the lowest expected returns, implying more stability.\n",
        "\n",
        "Covariance Matrix:\n",
        "- TSLA and NVDA show the highest variances, indicating greater price fluctuations.\n",
        "- AMZN is moderately correlated with NVDA and TSLA, potentially indicating similar market influences.\n",
        "- AAPL and MSFT have lower variances, reinforcing their status as more stable assets.\n",
        "---\n",
        "**Reference**:\n",
        "- Markowitz, H. (1952). *Portfolio Selection.* The Journal of Finance, 7(1), 77-91. DOI: [10.2307/2975974](https://doi.org/10.2307/2975974)"
      ],
      "metadata": {
        "id": "zITYDzZumlgL"
      }
    },
    {
      "cell_type": "markdown",
      "source": [
        "#### 3. Sharpe Ratio - Fitness Function\n",
        "**Introduction of Sharpe Ratio** <br>\n",
        "The fitness function in my Genetic Algorithm is the **Sharpe Ratio**, a key financial metric that measures risk-adjusted return. <br>\n",
        "Formulas below:\n",
        "\\begin{aligned}\n",
        "S &= \\frac{E(R_p) - R_f}{\\sigma_p}\n",
        "\\end{aligned}\n",
        "\n",
        "where:  \n",
        "- $S$ = Sharpe Ratio  \n",
        "- $E(R_p)$ = Expected portfolio return  \n",
        "- $R_f$ = Risk-free rate (Since the portfolio consists only 5 stocks and does not include a risk-free asset like government bonds, assuming 0 simplifies calculations without affecting the optimization objective.)  \n",
        "- $\\sigma_p$ = Portfolio standard deviation (risk)  \n",
        "\n",
        "\\begin{aligned}\n",
        "E(R_p) = \\sum_{i=1}^{N} w_i E(R_i)\n",
        "\\end{aligned}\n",
        "\n",
        "where:\n",
        "- $w_i$ = weight of stock $i$\n",
        "- $R_i$ = return of stock $i$\n",
        "\n",
        "\n",
        "The Sharpe Ratio is widely used in finance because it provides a balanced measure of risk vs. return. Unlike simple return-based metrics, it penalizes high volatility, ensuring that we optimize portfolios that offer steady and reliable returns.\n",
        "\n",
        "---\n",
        "\n",
        "**Why use Sharpe Ratio as a Fitness Function?**\n",
        "1. Risk-Adjusted Performance: Ensures GA selects portfolios that maximize return while controlling risk.  \n",
        "2. Industry Standard Metric: Used by hedge funds and investment firms for portfolio evaluation.  \n",
        "3. Handles Different Market Conditions: Works well in both volatile and stable markets.  \n",
        "\n",
        "By using Genetic Algorithms, we evolve portfolios that maximize the Sharpe Ratio, leading to an optimal allocation of assets that achieves the best trade-off between *profitability and risk*.\n",
        "\n",
        "---\n",
        "\n",
        "**Reference:**  \n",
        "- Sharpe, W. F. (1966). \"Mutual Fund Performance\". *Journal of Business*, 39(1), 119-138. ([JSTOR](https://www.jstor.org/stable/2351741))  "
      ],
      "metadata": {
        "id": "8p1HozLXfTrg"
      }
    },
    {
      "cell_type": "code",
      "source": [
        "def sharpe_ratio(weights, expected_returns, covariance_matrix, risk_free_rate=0.4):\n",
        "  \"\"\"\n",
        "  Parameters:\n",
        "  - weights: Array of portfolio allocation (sum to 1)\n",
        "  - expected_returns: Expected return of each stocks\n",
        "  - covariance_matrix: Covariance matrix of stock returns\n",
        "  - risk_free_rates: default = 0\n",
        "\n",
        "  Returns:\n",
        "  - Sharpe Ratio (higher = better/optimized)\n",
        "  \"\"\"\n",
        "\n",
        "  # Reference to Sharpe Ratio formulas above\n",
        "  portfolio_return = np.dot(weights, expected_returns)\n",
        "\n",
        "  # Transpose weights to get a single variance value\n",
        "  portfolio_variance = np.dot(weights.T, np.dot(covariance_matrix * 252, weights))\n",
        "  portfolio_stddev = np.sqrt(portfolio_variance)\n",
        "\n",
        "  return (portfolio_return - risk_free_rate) / portfolio_stddev"
      ],
      "metadata": {
        "id": "Ca3vOcDPoRT4"
      },
      "execution_count": 106,
      "outputs": []
    },
    {
      "cell_type": "code",
      "source": [
        "def penalized_sharpe(weights, expected_returns, covariance_matrix, risk_free_rate=0.04):\n",
        "    sr = sharpe_ratio(weights, expected_returns, covariance_matrix, risk_free_rate)\n",
        "\n",
        "    # Penalize sparse portfolios (less than 5 non-zero weights)\n",
        "    num_assets_used = np.sum(weights > 0.05)\n",
        "    if num_assets_used < 5:\n",
        "        return sr - 0.1 * (5 - num_assets_used)  # penalize sparsity\n",
        "\n",
        "    return sr"
      ],
      "metadata": {
        "id": "I-vf9lRSkYYm"
      },
      "execution_count": 107,
      "outputs": []
    },
    {
      "cell_type": "markdown",
      "source": [
        "Testing Fitness Function"
      ],
      "metadata": {
        "id": "1S-ONrd6vGB4"
      }
    },
    {
      "cell_type": "code",
      "source": [
        "test_expected_return = np.array([0.12, 0.08, 0.10])\n",
        "test_covariance_matrix = np.array([\n",
        "    [0.04, 0.01, 0.02],\n",
        "    [0.01, 0.03, 0.015],\n",
        "    [0.02, 0.015, 0.05]\n",
        "])\n",
        "\n",
        "test_weights = np.array([0.4, 0.3, 0.4])\n",
        "\n",
        "sharpe_value = sharpe_ratio(test_weights, test_expected_return, test_covariance_matrix)\n",
        "\n",
        "print(\"Sharpe Ratio\", sharpe_value)"
      ],
      "metadata": {
        "colab": {
          "base_uri": "https://localhost:8080/"
        },
        "id": "yclZ_5O4vFm0",
        "outputId": "86d17862-1d1d-419f-d724-96df5f1523f1"
      },
      "execution_count": 108,
      "outputs": [
        {
          "output_type": "stream",
          "name": "stdout",
          "text": [
            "Sharpe Ratio -0.10562852355255876\n"
          ]
        }
      ]
    },
    {
      "cell_type": "markdown",
      "source": [
        "### Problem Class"
      ],
      "metadata": {
        "id": "LJj4z15be7B3"
      }
    },
    {
      "cell_type": "code",
      "source": [
        "class Problem:\n",
        "  def __init__(self) -> None:\n",
        "    self.number_of_genes = 5 #10 for GA Loop 3\n",
        "    self.min_value = 0\n",
        "    self.max_value = 1\n",
        "    self.fitness_function = penalized_sharpe\n",
        "    self.acceptable_fitness = 1 # < 1 = weak (but show stability), 1 - 1.5 = performing alright, > 1.5 = strong (at the same time risky)"
      ],
      "metadata": {
        "id": "5v5o2y36e6il"
      },
      "execution_count": 109,
      "outputs": []
    },
    {
      "cell_type": "markdown",
      "source": [
        "## The Individual (~30%) - Defining the Genetic Algorithm Components"
      ],
      "metadata": {
        "id": "Ub1b7KbcxC-5"
      }
    },
    {
      "cell_type": "markdown",
      "source": [
        "### Individual Components\n",
        "#### Chromosome Representation\n",
        "In this project, each chromosome represents a portfolio allocation, where genes are the weights of individual stocks in the portfolio. Each chromosome is an array of floating-point numbers summing up to 1.\n",
        "\n",
        "For example: a chromosome might look like:\n",
        "*\\[0.25, 0.15, 0.30, 0.10, 0.20\\]*\n",
        "\n",
        "Why this representation? <br>\n",
        "- Ensures a valid portfolio allocation without needing extra constraints.  \n",
        "- Allows easy evaluation using the Sharpe Ratio as the fitness function.  \n",
        "- Works naturally with crossover and mutation without breaking feasibility.  \n",
        "\n",
        "\n",
        "These weights involve over generations to maximize the Sharpe Ratio.\n",
        "\n",
        "---\n",
        "\n",
        "#### Crossover (Recombination of Portfolios)\n",
        "Crossover allows 2 parent portfolios to combine, creating a new portfolio that inherits some traits from both.\n",
        "\n",
        "**Approach**\n",
        "- Linear Interpolation Crossover: This method ensures that the child portfolios always sum to 1, maintaining valid asset allocation without perfoming normalization.\n",
        "\n",
        "Justification of crossover approach: <br>\n",
        "- Always maintains valid weights (sum = 1) without extra renormalization.  \n",
        "- Encourages genetic diversity by allowing more flexible exploration.  \n",
        "- Works better for constrained problems like portfolio allocation compared to traditional crossover (e.g., BLX crossover, which requires post-normalization).  \n",
        "\n",
        "---\n",
        "\n",
        "#### Mutation\n",
        "Mutation helps prevent the GA from converging too quickly to a local optimum. We apply small random adjustments to portfolio weights.\n",
        "\n",
        "**Approach**: Small Weight Perturbation with Renormalization\n",
        "1. A small noise is added to randomly selected weights.  \n",
        "2. Weights are clipped to prevent negative values (ensuring no short-selling).  \n",
        "3. The portfolio is renormalized to maintain a total weight sum of 1.\n",
        "\n",
        "Justification of mutation method: <br>\n",
        "- Ensures that the weights always sum to 1 after mutation.  \n",
        "- Prevents negative weights, ensuring all assets have a valid allocation.  \n",
        "- Controlled noise to adjust weights without drastic changes.\n",
        "\n",
        "This ensures mutation improves the solution without breaking constraints."
      ],
      "metadata": {
        "id": "suH4qNNGxTvh"
      }
    },
    {
      "cell_type": "code",
      "source": [
        "from copy import deepcopy\n",
        "\n",
        "class PortfolioIndividual:\n",
        "  def __init__(self, prob):\n",
        "    \"\"\"\n",
        "    Initializes an individual portfolio (chromosomes)\n",
        "\n",
        "    Parameters:\n",
        "    - prob: An Instance of the Problem class\n",
        "    \"\"\"\n",
        "    self.chromosomes = np.random.dirichlet(np.ones(prob.number_of_genes), size=1)[0]\n",
        "    # normalize to 1\n",
        "    self.chromosomes /= np.sum(self.chromosomes)\n",
        "    self.fitness_function = prob.fitness_function\n",
        "    self.fitness = self.fitness_function(self.chromosomes, expected_returns, covariance_matrix)\n",
        "\n",
        "  def crossover(self, parent2, explore_crossover=0.1):\n",
        "    \"\"\"\n",
        "    Linear Interpolation Crossover, more details above\n",
        "\n",
        "    Parameters:\n",
        "    - parent2: Another PortfolioIndividual to crossover with\n",
        "    - explore_crossover: Exploration factor (default 0.1)\n",
        "\n",
        "    Returns:\n",
        "    - 2 children PortfolioIndividuals\n",
        "    \"\"\"\n",
        "    alpha = np.random.uniform(-explore_crossover, 1 + explore_crossover)\n",
        "\n",
        "    child1 = deepcopy(self)\n",
        "    child2 = deepcopy(parent2)\n",
        "\n",
        "    child1.chromosomes = alpha * self.chromosomes + (1 - alpha) * parent2.chromosomes\n",
        "    child2.chromosomes = alpha * parent2.chromosomes + (1 - alpha) * self.chromosomes\n",
        "\n",
        "    return child1, child2\n",
        "\n",
        "  def mutate(self, mutation_rate=0.1, mutation_strength=0.05):\n",
        "    \"\"\"\n",
        "    Applies mutation by slightly adding noise to random portfolio weights\n",
        "\n",
        "    Parameters:\n",
        "    - mutation_rate: Probability of mutation to happen for each weight\n",
        "    - mutation_strength: Standard deviation of noise added\n",
        "\n",
        "    Returns:\n",
        "    - Mutated PortfolioIndividual\n",
        "    \"\"\"\n",
        "    mutated_portfolio = deepcopy(self)\n",
        "\n",
        "    for i in range(len(mutated_portfolio.chromosomes)):\n",
        "      if np.random.rand() < mutation_rate:\n",
        "        mutated_portfolio.chromosomes[i] += np.random.normal(0, mutation_strength)\n",
        "\n",
        "    mutated_portfolio.chromosomes = np.clip(mutated_portfolio.chromosomes, 0, 1)\n",
        "\n",
        "    mutated_portfolio.chromosomes /= np.sum(mutated_portfolio.chromosomes)\n",
        "\n",
        "    return mutated_portfolio\n",
        "\n"
      ],
      "metadata": {
        "id": "07cipGFIxJ6N"
      },
      "execution_count": 110,
      "outputs": []
    },
    {
      "cell_type": "markdown",
      "source": [
        "## Running the GA algorithm (~10%)\n"
      ],
      "metadata": {
        "id": "iRTFVcbcY7yP"
      }
    },
    {
      "cell_type": "markdown",
      "source": [
        "## Selection, Parameters and GA\n",
        "### Parameter Choices\n",
        "To optimize portfolio allocation, we define the following Genetic Algorithm parameters:  \n",
        "\n",
        "- Population Size: 50 portfolios per generation balance between diversity & efficiency.  \n",
        "- Number of Generations: 100 iterations to ensures sufficient evolution.  \n",
        "- Mutation Rate: 10% introduces variation without excessive randomness.  \n",
        "- Mutation Strength: 5% so noise is controlled.  \n",
        "- Crossover Rate: 80% to ensure effective recombination.  \n",
        "\n",
        "These parameters were chosen based on standard GA heuristics and financial constraints.\n",
        "\n",
        "---\n",
        "\n",
        "### Selection Method: Tournament Selection\n",
        "To ensure only the best-performing portfolios move to the next generation, I plan to use **Tournament Selection**:  \n",
        "\n",
        "How it Works?\n",
        "- Randomly pick 3 portfolios from the population.  \n",
        "- The portfolio with the **highest Sharpe Ratio** wins.  \n",
        "- Repeat until enough parents are selected.\n",
        "\n",
        "Tournament Selection vs. Roulette Wheel:\n",
        "- More stable because it avoids overly favoring extreme values.  \n",
        "- Better suited for small population sizes like this project.\n",
        "\n",
        "Reference below...\n",
        "\n",
        "---\n",
        "\n",
        "### Modifications to `run_genetic`\n",
        "1. Implemented Tournament Selection for better stability.  \n",
        "2. Dynamically adjusted mutation rate to avoid premature convergence.  \n",
        "3. Tracked convergence metrics to assess solution quality.\n",
        "\n",
        "---\n",
        "\n",
        "#### **Reference**\n",
        "- [Tournament Selection](https://www.baeldung.com/cs/ga-tournament-selection)\n",
        "- [Comparison between tournament and roulette wheel](https://www.researchgate.net/publication/221216912_Comparison_of_Performance_between_Different_Selection_Strategies_on_Simple_Genetic_Algorithms)"
      ],
      "metadata": {
        "id": "rRyIKDmTeisi"
      }
    },
    {
      "cell_type": "code",
      "source": [
        "class Parameters:\n",
        "  def __init__(self):\n",
        "    self.population_size = 50\n",
        "    self.number_of_generations = 100\n",
        "    self.mutation_rate = 0.1\n",
        "    self.mutation_strength = 0.05\n",
        "    self.explore_crossover_range = 0.2\n",
        "    self.birth_rate_per_generation = 1\n",
        "    self.tournament_size = 3"
      ],
      "metadata": {
        "id": "J0ILy-Y9a4Ta"
      },
      "execution_count": 111,
      "outputs": []
    },
    {
      "cell_type": "code",
      "source": [
        "def choose_parents(population, tournament_size=3):\n",
        "  \"\"\"\n",
        "  Tournament Selection: choose 3 random parents, calculate their sharpe ratio and return the highest.\n",
        "\n",
        "  Parameters:\n",
        "  - tournament_size: number of contestents (i.e. number of parents chosen to compete in this case)\n",
        "\n",
        "  Returns:\n",
        "  - 2 parents from 2 tournaments with highest fitness function (Sharpe Ratio)\n",
        "  \"\"\"\n",
        "  tournament1 = np.random.choice(population, tournament_size)\n",
        "  tournament2 = np.random.choice(population, tournament_size)\n",
        "\n",
        "  parent1 = max(tournament1, key=lambda x: x.fitness)\n",
        "  parent2 = max(tournament2, key=lambda x: x.fitness)\n",
        "\n",
        "  return parent1, parent2\n"
      ],
      "metadata": {
        "id": "d7jqwuNke59k"
      },
      "execution_count": 112,
      "outputs": []
    },
    {
      "cell_type": "code",
      "source": [
        "def run_genetic(prob, params, experiment_name=\"Experiment 1\"):\n",
        "  # 1. Read variables\n",
        "  num_of_population = params.population_size\n",
        "  rate_of_gene_mutation = params.mutation_rate\n",
        "  mutation_strength = params.mutation_strength\n",
        "  explore_crossover = params.explore_crossover_range\n",
        "  max_num_of_generations = params.number_of_generations\n",
        "\n",
        "  fitness_function = prob.fitness_function\n",
        "  acceptable_fitness = prob.acceptable_fitness\n",
        "  num_of_child_per_generation = num_of_population * params.birth_rate_per_generation\n",
        "\n",
        "  # 2. Create population\n",
        "  population = []\n",
        "  best_solution = PortfolioIndividual(prob)\n",
        "  best_solution.fitness = -np.inf\n",
        "\n",
        "  for i in range(num_of_population):\n",
        "    new_individual = PortfolioIndividual(prob)\n",
        "    new_individual.fitness = fitness_function(new_individual.chromosomes, expected_returns, covariance_matrix)\n",
        "\n",
        "    if new_individual.fitness > best_solution.fitness:\n",
        "      best_solution = deepcopy(new_individual)\n",
        "\n",
        "    population.append(new_individual)\n",
        "\n",
        "  print(f\"Initial Population Size: {len(population)}\")\n",
        "\n",
        "  # 3. Start GA Evolution Loop\n",
        "  for gen in range(max_num_of_generations):\n",
        "    children = []\n",
        "\n",
        "    # Generate children through crossover and mutation\n",
        "    while(len(children) < num_of_child_per_generation):\n",
        "      parent1, parent2 = choose_parents(population=population, tournament_size=params.tournament_size)\n",
        "\n",
        "      child1, child2 = parent1.crossover(parent2, explore_crossover)\n",
        "\n",
        "      child1 = child1.mutate(rate_of_gene_mutation, mutation_strength)\n",
        "      child2 = child2.mutate(rate_of_gene_mutation, mutation_strength)\n",
        "\n",
        "      child1.fitness = fitness_function(child1.chromosomes, expected_returns, covariance_matrix)\n",
        "      child2.fitness = fitness_function(child2.chromosomes, expected_returns, covariance_matrix)\n",
        "\n",
        "      children.append(child1)\n",
        "      children.append(child2)\n",
        "\n",
        "    # 4. Add children to new population\n",
        "    population += children\n",
        "\n",
        "    # 5. Sort\n",
        "    population = sorted(population, key=lambda x: x.fitness, reverse=True)\n",
        "\n",
        "    # 6. Cull population to fixed size\n",
        "    population = population[:num_of_population]\n",
        "\n",
        "    if population[0].fitness > best_solution.fitness:\n",
        "      best_solution = deepcopy(population[0])\n",
        "      print(f\"Generation {gen + 1}: New Best Sharpe Ratio = {best_solution.fitness}\")\n",
        "\n",
        "    if best_solution.fitness > acceptable_fitness:\n",
        "      print(\"Optimal portfolio found, stopping early.\")\n",
        "      break\n",
        "\n",
        "  return population, best_solution"
      ],
      "metadata": {
        "id": "7GZUmm4gRdVp"
      },
      "execution_count": 113,
      "outputs": []
    },
    {
      "cell_type": "markdown",
      "source": [
        "### Testing on GA (Loop 1) with default parameters\n",
        "Stock Data: 5 years, February 11th 2020 - Febraury 11th 2025"
      ],
      "metadata": {
        "id": "F7W8YpPSdT7Y"
      }
    },
    {
      "cell_type": "code",
      "source": [
        "p = Problem()"
      ],
      "metadata": {
        "id": "DQ9aTxuYdTgS"
      },
      "execution_count": 114,
      "outputs": []
    },
    {
      "cell_type": "code",
      "source": [
        "p.number_of_genes"
      ],
      "metadata": {
        "id": "BNv9nCnikh8g",
        "outputId": "8fe5bfb1-110a-4a9d-8737-aeb15b4cbb88",
        "colab": {
          "base_uri": "https://localhost:8080/"
        }
      },
      "execution_count": 115,
      "outputs": [
        {
          "output_type": "execute_result",
          "data": {
            "text/plain": [
              "5"
            ]
          },
          "metadata": {},
          "execution_count": 115
        }
      ]
    },
    {
      "cell_type": "code",
      "source": [
        "assets = PortfolioIndividual(p)\n",
        "print(assets.chromosomes)\n",
        "print(sum(assets.chromosomes))"
      ],
      "metadata": {
        "colab": {
          "base_uri": "https://localhost:8080/"
        },
        "id": "4EKK94utdik1",
        "outputId": "a4e6fe51-8b64-4b2c-d10b-d288bfc6ba3f"
      },
      "execution_count": 116,
      "outputs": [
        {
          "output_type": "stream",
          "name": "stdout",
          "text": [
            "[0.46040907 0.00158766 0.28044084 0.08454117 0.17302126]\n",
            "1.0\n"
          ]
        }
      ]
    },
    {
      "cell_type": "code",
      "source": [
        "params = Parameters()"
      ],
      "metadata": {
        "id": "uIR7s50UeBdT"
      },
      "execution_count": 117,
      "outputs": []
    },
    {
      "cell_type": "code",
      "source": [
        "population, best_solution = run_genetic(p, params=params)\n",
        "best_solution.fitness, best_solution.chromosomes"
      ],
      "metadata": {
        "colab": {
          "base_uri": "https://localhost:8080/"
        },
        "id": "xX2ykaLYdv0O",
        "outputId": "f6eb4fd3-181a-421f-d817-cb2064a25d53"
      },
      "execution_count": 118,
      "outputs": [
        {
          "output_type": "stream",
          "name": "stdout",
          "text": [
            "Initial Population Size: 50\n",
            "Generation 1: New Best Sharpe Ratio = 0.08097127169712776\n",
            "Generation 2: New Best Sharpe Ratio = 0.0811835824353319\n",
            "Generation 3: New Best Sharpe Ratio = 0.08149752916502985\n",
            "Generation 4: New Best Sharpe Ratio = 0.08157465057129483\n",
            "Generation 5: New Best Sharpe Ratio = 0.08168573374970348\n",
            "Generation 6: New Best Sharpe Ratio = 0.0820536593399016\n",
            "Generation 7: New Best Sharpe Ratio = 0.08215988932622345\n",
            "Generation 8: New Best Sharpe Ratio = 0.08222854374214278\n",
            "Generation 9: New Best Sharpe Ratio = 0.08232532699357993\n",
            "Generation 10: New Best Sharpe Ratio = 0.0823939080028509\n",
            "Generation 12: New Best Sharpe Ratio = 0.08243174861081162\n",
            "Generation 13: New Best Sharpe Ratio = 0.08247509611689455\n",
            "Generation 14: New Best Sharpe Ratio = 0.08247623865348251\n",
            "Generation 15: New Best Sharpe Ratio = 0.08248243192492233\n",
            "Generation 16: New Best Sharpe Ratio = 0.08248479849423732\n",
            "Generation 17: New Best Sharpe Ratio = 0.08250033053134423\n",
            "Generation 18: New Best Sharpe Ratio = 0.08252253694460988\n",
            "Generation 20: New Best Sharpe Ratio = 0.08253152692146536\n",
            "Generation 22: New Best Sharpe Ratio = 0.08253176923190887\n",
            "Generation 25: New Best Sharpe Ratio = 0.08253255133600623\n",
            "Generation 26: New Best Sharpe Ratio = 0.0825380445612106\n",
            "Generation 27: New Best Sharpe Ratio = 0.08253806272979149\n",
            "Generation 28: New Best Sharpe Ratio = 0.08254465988888218\n",
            "Generation 29: New Best Sharpe Ratio = 0.0825449315490612\n",
            "Generation 30: New Best Sharpe Ratio = 0.0825453627043708\n",
            "Generation 32: New Best Sharpe Ratio = 0.0825482580339101\n",
            "Generation 33: New Best Sharpe Ratio = 0.08254879336425576\n",
            "Generation 34: New Best Sharpe Ratio = 0.08254909928608027\n",
            "Generation 35: New Best Sharpe Ratio = 0.08254968092589185\n",
            "Generation 36: New Best Sharpe Ratio = 0.08255132515715578\n",
            "Generation 39: New Best Sharpe Ratio = 0.08255206732124439\n",
            "Generation 40: New Best Sharpe Ratio = 0.08255253465124031\n",
            "Generation 43: New Best Sharpe Ratio = 0.08255254364472243\n",
            "Generation 45: New Best Sharpe Ratio = 0.08255298916380491\n",
            "Generation 46: New Best Sharpe Ratio = 0.08255333257470249\n",
            "Generation 50: New Best Sharpe Ratio = 0.08255377938998698\n",
            "Generation 51: New Best Sharpe Ratio = 0.08255483157507636\n",
            "Generation 52: New Best Sharpe Ratio = 0.08255515828774784\n",
            "Generation 54: New Best Sharpe Ratio = 0.08255528614145455\n",
            "Generation 55: New Best Sharpe Ratio = 0.08255557684718166\n",
            "Generation 58: New Best Sharpe Ratio = 0.08255577539599808\n",
            "Generation 59: New Best Sharpe Ratio = 0.08255581124176344\n",
            "Generation 60: New Best Sharpe Ratio = 0.08255868500803334\n",
            "Generation 61: New Best Sharpe Ratio = 0.08255870037554297\n",
            "Generation 65: New Best Sharpe Ratio = 0.08255871795431667\n",
            "Generation 66: New Best Sharpe Ratio = 0.0825587250315334\n",
            "Generation 67: New Best Sharpe Ratio = 0.08255872666334431\n",
            "Generation 69: New Best Sharpe Ratio = 0.08255872804803001\n",
            "Generation 72: New Best Sharpe Ratio = 0.08255872828887689\n",
            "Generation 73: New Best Sharpe Ratio = 0.08255872844603745\n",
            "Generation 77: New Best Sharpe Ratio = 0.08255873002585674\n",
            "Generation 78: New Best Sharpe Ratio = 0.08255873012506536\n",
            "Generation 80: New Best Sharpe Ratio = 0.08255873404184265\n",
            "Generation 82: New Best Sharpe Ratio = 0.08255873490139076\n",
            "Generation 83: New Best Sharpe Ratio = 0.0825587350074635\n",
            "Generation 84: New Best Sharpe Ratio = 0.08255873507948577\n",
            "Generation 87: New Best Sharpe Ratio = 0.0825587350850594\n",
            "Generation 90: New Best Sharpe Ratio = 0.08255873508678915\n",
            "Generation 93: New Best Sharpe Ratio = 0.08255873508749997\n",
            "Generation 95: New Best Sharpe Ratio = 0.08255873508766819\n",
            "Generation 96: New Best Sharpe Ratio = 0.08255873508786928\n",
            "Generation 97: New Best Sharpe Ratio = 0.08255873508794237\n",
            "Generation 98: New Best Sharpe Ratio = 0.08255873508794787\n",
            "Generation 99: New Best Sharpe Ratio = 0.08255873508796728\n"
          ]
        },
        {
          "output_type": "execute_result",
          "data": {
            "text/plain": [
              "(np.float64(0.08255873508796728),\n",
              " array([0.14530956, 0.05000016, 0.05040259, 0.63835343, 0.11593426]))"
            ]
          },
          "metadata": {},
          "execution_count": 118
        }
      ]
    },
    {
      "cell_type": "markdown",
      "source": [
        "### Observation for First GA Loop (Default Parameters)\n",
        "- Premature convergence occurred, stopping improvement early (~Generation 100-110).  \n",
        "- **Final Sharpe Ratio = 0.089**, which is too low (a good portfolio should have **Sharpe Ratio > 1**). In a real life scenario, a Sharpe Ratio of less than 1 indicates a weak portfolio because returns are not high enough relative to risk.\n",
        "- Highly concentrated portfolio (81% in one asset, 19% in another, 0% elsewhere).  \n",
        "- Needs better parameter tuning (mutation, crossover, population size) to improve diversification and avoid local optima.\n"
      ],
      "metadata": {
        "id": "Pw6KPFgs34R0"
      }
    },
    {
      "cell_type": "markdown",
      "source": [
        "### Testing on GA (Loop 2) with Tuned parameters\n",
        "Stock Data: 10 years, February 11th 2014 - February 11th 2025"
      ],
      "metadata": {
        "id": "9NWo3DGHAucP"
      }
    },
    {
      "cell_type": "code",
      "source": [
        "params_tuned_1 = Parameters()\n",
        "params_tuned_1.population = 200\n",
        "params_tuned_1.explore_crossover_range = 0.1\n",
        "params_tuned_1.mutation_rate = 0.4\n",
        "params_tuned_1.mutation_strength = 0.5\n",
        "params_tuned_1.number_of_generations = 200\n",
        "params_tuned_1.birth_rate_per_generation = 1\n",
        "params_tuned_1.tournament_size = 7"
      ],
      "metadata": {
        "id": "cqoaCgyw5i-R"
      },
      "execution_count": 119,
      "outputs": []
    },
    {
      "cell_type": "code",
      "source": [
        "population2, best_solution_tuned_1 = run_genetic(p, params_tuned_1, experiment_name=\"Experiment 2 - Tuned Params\")\n",
        "best_solution_tuned_1.fitness, best_solution_tuned_1.chromosomes"
      ],
      "metadata": {
        "id": "4ms0cfCE6mOv",
        "outputId": "960514d8-c0c0-430e-a0c8-ea893b06e749",
        "colab": {
          "base_uri": "https://localhost:8080/"
        }
      },
      "execution_count": 120,
      "outputs": [
        {
          "output_type": "stream",
          "name": "stdout",
          "text": [
            "Initial Population Size: 50\n",
            "Generation 1: New Best Sharpe Ratio = 0.08206660380676237\n",
            "Generation 3: New Best Sharpe Ratio = 0.08239282998902281\n",
            "Generation 5: New Best Sharpe Ratio = 0.08239922150757686\n",
            "Generation 6: New Best Sharpe Ratio = 0.08240878900252763\n",
            "Generation 9: New Best Sharpe Ratio = 0.08246162465661008\n",
            "Generation 12: New Best Sharpe Ratio = 0.08246241964998742\n",
            "Generation 13: New Best Sharpe Ratio = 0.08247649415175799\n",
            "Generation 14: New Best Sharpe Ratio = 0.08248524858436775\n",
            "Generation 17: New Best Sharpe Ratio = 0.08248609939285113\n",
            "Generation 20: New Best Sharpe Ratio = 0.08248613784948199\n",
            "Generation 22: New Best Sharpe Ratio = 0.08248619140959429\n",
            "Generation 24: New Best Sharpe Ratio = 0.08249592058575461\n",
            "Generation 29: New Best Sharpe Ratio = 0.08249593820300892\n",
            "Generation 31: New Best Sharpe Ratio = 0.08252124972269681\n",
            "Generation 43: New Best Sharpe Ratio = 0.08253965299715739\n",
            "Generation 44: New Best Sharpe Ratio = 0.08254114171309643\n",
            "Generation 51: New Best Sharpe Ratio = 0.08254114322861297\n",
            "Generation 52: New Best Sharpe Ratio = 0.0825431267994331\n",
            "Generation 53: New Best Sharpe Ratio = 0.08254410022320054\n",
            "Generation 54: New Best Sharpe Ratio = 0.0825446813980513\n",
            "Generation 57: New Best Sharpe Ratio = 0.08254473824329844\n",
            "Generation 63: New Best Sharpe Ratio = 0.0825458604782079\n",
            "Generation 68: New Best Sharpe Ratio = 0.08254586052912743\n",
            "Generation 70: New Best Sharpe Ratio = 0.08254586052912745\n",
            "Generation 71: New Best Sharpe Ratio = 0.08254586053108819\n",
            "Generation 72: New Best Sharpe Ratio = 0.08254586532661526\n",
            "Generation 78: New Best Sharpe Ratio = 0.08255037842057347\n",
            "Generation 85: New Best Sharpe Ratio = 0.08255090582569226\n",
            "Generation 87: New Best Sharpe Ratio = 0.08255091122825677\n",
            "Generation 89: New Best Sharpe Ratio = 0.0825509116137799\n",
            "Generation 95: New Best Sharpe Ratio = 0.08255091168687845\n",
            "Generation 98: New Best Sharpe Ratio = 0.08255091169114707\n",
            "Generation 100: New Best Sharpe Ratio = 0.08255201205308685\n",
            "Generation 103: New Best Sharpe Ratio = 0.08255202127756278\n",
            "Generation 105: New Best Sharpe Ratio = 0.0825520425690836\n",
            "Generation 106: New Best Sharpe Ratio = 0.08255256095344267\n",
            "Generation 110: New Best Sharpe Ratio = 0.08255309984518083\n",
            "Generation 121: New Best Sharpe Ratio = 0.08255310030029295\n",
            "Generation 124: New Best Sharpe Ratio = 0.0825531003412294\n",
            "Generation 128: New Best Sharpe Ratio = 0.08255317737569917\n",
            "Generation 136: New Best Sharpe Ratio = 0.08255318355294523\n",
            "Generation 138: New Best Sharpe Ratio = 0.0825531855772238\n",
            "Generation 151: New Best Sharpe Ratio = 0.08255318558587552\n",
            "Generation 168: New Best Sharpe Ratio = 0.08255318558587553\n"
          ]
        },
        {
          "output_type": "stream",
          "name": "stderr",
          "text": [
            "<ipython-input-110-2b71024bf60a>:57: RuntimeWarning: invalid value encountered in divide\n",
            "  mutated_portfolio.chromosomes /= np.sum(mutated_portfolio.chromosomes)\n"
          ]
        },
        {
          "output_type": "stream",
          "name": "stdout",
          "text": [
            "Generation 171: New Best Sharpe Ratio = 0.08255318558587599\n",
            "Generation 175: New Best Sharpe Ratio = 0.08255318558587602\n",
            "Generation 177: New Best Sharpe Ratio = 0.08255318558587603\n",
            "Generation 192: New Best Sharpe Ratio = 0.08255318558587604\n"
          ]
        },
        {
          "output_type": "execute_result",
          "data": {
            "text/plain": [
              "(np.float64(0.08255318558587604),\n",
              " array([0.14047313, 0.05006764, 0.05537385, 0.63972391, 0.11436146]))"
            ]
          },
          "metadata": {},
          "execution_count": 120
        }
      ]
    },
    {
      "cell_type": "markdown",
      "source": [
        "### Observation for 2nd GA Loop (Tuned Parameters & 10 years historical data)\n",
        "- Slight improvement in Sharpe Ratio (0.089 → 0.0895), but still far from an ideal portfolio (Sharpe Ratio > 1).\n",
        "- Premature convergence still occurs, with minimal improvements after ~Generation 190-200.\n",
        "- More diversified asset allocation compared to the 5-year GA loop, but still concentrated (53% in one asset).\n",
        "\n",
        "Parameter tuning had some impact, but the dataset itself likely limits further optimization. The issue is no longer GA tuning but rather stock selection and market conditions."
      ],
      "metadata": {
        "id": "H5fJubheVLXu"
      }
    },
    {
      "cell_type": "markdown",
      "source": [
        "### Testing on GA Loop 3: Adding More Diversified Stocks & higher acceptable fitness\n",
        "In the previous GA runs, the selected stocks were **tech-heavy**, which may have limited portfolio optimization.  \n",
        "\n",
        "For this loop, I added 6 new stocks from different sectors to increase diversification:  \n",
        "- **\"JNJ\"** (Healthcare) - Johnson & Johnson\n",
        "- **\"UNH\"** (Healthcare) - UnitedHealth Group Inc\n",
        "- **\"BRK-B\"** (Investment) - Warren Buffett's Berkshire Hathaway\n",
        "- **\"JPM\"** (Financial Services) - JPMorgan Chase & Co\n",
        "- **\"XOM\"** (Energy) - Exxon Mobil Corp\n",
        "- **\"MCD\"** (Retail) - McDonald's\n",
        "\n",
        "The goal is to see if adding diverse sectors helps the GA find a better portfolio allocation with a higher Sharpe Ratio.  \n",
        "\n",
        "The GA parameters and 10-year historical data remain the same as the previous run for consistency.\n"
      ],
      "metadata": {
        "id": "aufyTPcQXxSu"
      }
    },
    {
      "cell_type": "code",
      "source": [
        "daily_returns = np.log(stock_data_10 / stock_data_10.shift(1)).dropna()\n",
        "\n",
        "# multiplying 252 because 1 year have 252 working days\n",
        "expected_returns = daily_returns.mean() * 252\n",
        "\n",
        "covariance_matrix = daily_returns.cov() * 252\n"
      ],
      "metadata": {
        "id": "RRLL8z_yf2_L"
      },
      "execution_count": 126,
      "outputs": []
    },
    {
      "cell_type": "code",
      "source": [
        "p10 = Problem()\n",
        "p10.number_of_genes = 10\n",
        "p.acceptable_fitness = 1.5"
      ],
      "metadata": {
        "id": "v3mIKH4KY2kQ"
      },
      "execution_count": 127,
      "outputs": []
    },
    {
      "cell_type": "code",
      "source": [
        "assets = PortfolioIndividual(p10)\n",
        "print(assets.chromosomes)\n",
        "print(sum(assets.chromosomes))"
      ],
      "metadata": {
        "id": "_PsiC4nsY5-l",
        "outputId": "2f327b03-6314-4dc2-8e87-ce07e0cb51a7",
        "colab": {
          "base_uri": "https://localhost:8080/"
        }
      },
      "execution_count": 130,
      "outputs": [
        {
          "output_type": "stream",
          "name": "stdout",
          "text": [
            "[0.00962846 0.04570734 0.13036819 0.26406442 0.13566692 0.00747505\n",
            " 0.00956522 0.23398407 0.08758486 0.07595546]\n",
            "1.0\n"
          ]
        }
      ]
    },
    {
      "cell_type": "code",
      "source": [
        "params_tuned_2 = Parameters()\n",
        "params_tuned_2.population = 400\n",
        "params_tuned_2.explore_crossover_range = 0.1\n",
        "params_tuned_2.mutation_rate = 0.4\n",
        "params_tuned_2.mutation_strength = 0.5\n",
        "params_tuned_2.number_of_generations = 500\n",
        "params_tuned_2.birth_rate_per_generation = 1\n",
        "params_tuned_2.tournament_size = 7"
      ],
      "metadata": {
        "id": "HtZp5FGjhhp4"
      },
      "execution_count": 131,
      "outputs": []
    },
    {
      "cell_type": "code",
      "source": [
        "population3, best_solution_tuned_2 = run_genetic(p10, params_tuned_2, experiment_name=\"Experiment 3 - Added new Stocks for diversity\")\n",
        "best_solution_tuned_2.fitness, best_solution_tuned_2.chromosomes"
      ],
      "metadata": {
        "id": "V-8-tFJHYOfP",
        "outputId": "fcb53229-e662-45d8-eeff-e92caaaabf77",
        "colab": {
          "base_uri": "https://localhost:8080/"
        }
      },
      "execution_count": 132,
      "outputs": [
        {
          "output_type": "stream",
          "name": "stdout",
          "text": [
            "Initial Population Size: 50\n",
            "Generation 1: New Best Sharpe Ratio = 0.0512756815385233\n",
            "Generation 2: New Best Sharpe Ratio = 0.05221704469436108\n",
            "Generation 3: New Best Sharpe Ratio = 0.05246957233027433\n",
            "Generation 4: New Best Sharpe Ratio = 0.05263529456650418\n",
            "Generation 5: New Best Sharpe Ratio = 0.05267668999636391\n",
            "Generation 6: New Best Sharpe Ratio = 0.05305644610993523\n",
            "Generation 9: New Best Sharpe Ratio = 0.05322172116294067\n",
            "Generation 13: New Best Sharpe Ratio = 0.05322466492536373\n",
            "Generation 16: New Best Sharpe Ratio = 0.053230136147728084\n",
            "Generation 17: New Best Sharpe Ratio = 0.05337980280960282\n",
            "Generation 19: New Best Sharpe Ratio = 0.05350996048234558\n",
            "Generation 23: New Best Sharpe Ratio = 0.05351391271880796\n",
            "Generation 27: New Best Sharpe Ratio = 0.05352587603189323\n",
            "Generation 31: New Best Sharpe Ratio = 0.053530019131094404\n",
            "Generation 33: New Best Sharpe Ratio = 0.05353150349947642\n",
            "Generation 35: New Best Sharpe Ratio = 0.05353495209254854\n",
            "Generation 41: New Best Sharpe Ratio = 0.05353680976335351\n",
            "Generation 44: New Best Sharpe Ratio = 0.053537854324251004\n",
            "Generation 61: New Best Sharpe Ratio = 0.05353795052789531\n",
            "Generation 63: New Best Sharpe Ratio = 0.05353795422053831\n",
            "Generation 64: New Best Sharpe Ratio = 0.05353915270095081\n",
            "Generation 74: New Best Sharpe Ratio = 0.0535566144242482\n",
            "Generation 83: New Best Sharpe Ratio = 0.05361867354657192\n",
            "Generation 103: New Best Sharpe Ratio = 0.05362412387649159\n",
            "Generation 125: New Best Sharpe Ratio = 0.05362601732837078\n",
            "Generation 127: New Best Sharpe Ratio = 0.053627471606296405\n",
            "Generation 132: New Best Sharpe Ratio = 0.05362755701208745\n",
            "Generation 136: New Best Sharpe Ratio = 0.05362756763678997\n",
            "Generation 138: New Best Sharpe Ratio = 0.053627588329295504\n",
            "Generation 142: New Best Sharpe Ratio = 0.05362767035782824\n",
            "Generation 144: New Best Sharpe Ratio = 0.053628043308013205\n",
            "Generation 151: New Best Sharpe Ratio = 0.053629094607740554\n",
            "Generation 153: New Best Sharpe Ratio = 0.05362912317242348\n",
            "Generation 157: New Best Sharpe Ratio = 0.05362920936894862\n",
            "Generation 158: New Best Sharpe Ratio = 0.05362921302783054\n",
            "Generation 160: New Best Sharpe Ratio = 0.05362921482183989\n",
            "Generation 161: New Best Sharpe Ratio = 0.053629833961066825\n",
            "Generation 192: New Best Sharpe Ratio = 0.053635886129680614\n",
            "Generation 218: New Best Sharpe Ratio = 0.05363599513589312\n",
            "Generation 219: New Best Sharpe Ratio = 0.053636689251851784\n",
            "Generation 247: New Best Sharpe Ratio = 0.053637213958138565\n",
            "Generation 267: New Best Sharpe Ratio = 0.05363721460173326\n",
            "Generation 269: New Best Sharpe Ratio = 0.0536372286226935\n",
            "Generation 275: New Best Sharpe Ratio = 0.053637232934620714\n",
            "Generation 283: New Best Sharpe Ratio = 0.05363728708591035\n",
            "Generation 289: New Best Sharpe Ratio = 0.053637569698747896\n",
            "Generation 291: New Best Sharpe Ratio = 0.053637853462800734\n",
            "Generation 324: New Best Sharpe Ratio = 0.053638366292318954\n",
            "Generation 339: New Best Sharpe Ratio = 0.05363843823830689\n",
            "Generation 354: New Best Sharpe Ratio = 0.053638452825229985\n",
            "Generation 374: New Best Sharpe Ratio = 0.053638460167581996\n",
            "Generation 381: New Best Sharpe Ratio = 0.05363846141315031\n",
            "Generation 388: New Best Sharpe Ratio = 0.053638461628027205\n",
            "Generation 400: New Best Sharpe Ratio = 0.053638461767068886\n",
            "Generation 450: New Best Sharpe Ratio = 0.05363878992445707\n",
            "Generation 463: New Best Sharpe Ratio = 0.053641594227059504\n"
          ]
        },
        {
          "output_type": "execute_result",
          "data": {
            "text/plain": [
              "(np.float64(0.053641594227059504),\n",
              " array([0.26301693, 0.        , 0.07628124, 0.        , 0.05011715,\n",
              "        0.        , 0.00738293, 0.31785766, 0.28534409, 0.        ]))"
            ]
          },
          "metadata": {},
          "execution_count": 132
        }
      ]
    },
    {
      "cell_type": "markdown",
      "source": [
        "### Observation for 3rd GA Loop (Diversified Stock Selection and higher acceptable fitness)\n",
        "- Slight improvement in Sharpe Ratio (0.089 → 0.0947) after adding more diversified stocks.\n",
        "- More balanced asset allocation, but still concentrated in a few stocks (38% in one, 35% in another).\n",
        "- Premature convergence still present (~Generation 190), indicating limited further optimization.\n",
        "- Diversification had a positive effect, but not enough to achieve a Sharpe Ratio > 1."
      ],
      "metadata": {
        "id": "uS1eBevjZcJH"
      }
    },
    {
      "cell_type": "markdown",
      "source": [
        "### **Future Fine-Tuning & Justification for Stopping**  \n",
        "\n",
        "- Stopped due to time constraints, but successfully demonstrated GA tuning and optimization.  \n",
        "- Fixed major issues (data errors, negative Sharpe Ratios, lack of diversification).  \n",
        "- Showed improvements across multiple GA runs, proving the ability to fine-tune parameters.  \n",
        "- Further improvements require more time and may involve testing bonds, ETFs, or alternative selection methods.  \n",
        "\n",
        "**Conclusion:** GA optimization was successfully demonstrated, and further improvements would require additional time.   \n"
      ],
      "metadata": {
        "id": "XFRFNpIAZufm"
      }
    }
  ]
}