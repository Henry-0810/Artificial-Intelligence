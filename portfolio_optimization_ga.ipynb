{
  "nbformat": 4,
  "nbformat_minor": 0,
  "metadata": {
    "colab": {
      "provenance": [],
      "toc_visible": true,
      "include_colab_link": true
    },
    "kernelspec": {
      "name": "python3",
      "display_name": "Python 3"
    },
    "language_info": {
      "name": "python"
    }
  },
  "cells": [
    {
      "cell_type": "markdown",
      "metadata": {
        "id": "view-in-github",
        "colab_type": "text"
      },
      "source": [
        "<a href=\"https://colab.research.google.com/github/Henry-0810/Artificial-Intelligence/blob/main/portfolio_optimization_ga.ipynb\" target=\"_parent\"><img src=\"https://colab.research.google.com/assets/colab-badge.svg\" alt=\"Open In Colab\"/></a>"
      ]
    },
    {
      "cell_type": "markdown",
      "source": [
        "# **Genetic Algorithm**\n",
        "## **Portfolio Optimization**\n",
        "I will only use 5 stocks for this project. Stock data are all real-time, retrived from the Yahoo Finance API, https://pypi.org/project/yfinance/"
      ],
      "metadata": {
        "id": "nH8O89crwBDo"
      }
    },
    {
      "cell_type": "markdown",
      "source": [
        "## Problem Statement (~30%)"
      ],
      "metadata": {
        "id": "HsDO1OXBTB1r"
      }
    },
    {
      "cell_type": "markdown",
      "source": [
        "### Description of the Problem  \n",
        "Portfolio optimization is the process of selecting the best combination of assets to maximize returns while minimizing risk. A common approach is **Markowitz’s Mean-Variance Optimization (MVO)**, which constructs an efficient portfolio using expected returns, variances, and covariances of assets.  \n",
        "\n",
        "However, MVO has several limitations:  \n",
        "1. **Complexity**: Solving quadratic optimization problems becomes expensive as the number of assets grows.  \n",
        "2. **Strict Assumptions**: MVO assumes asset returns follow a normal distribution and that investors have quadratic utility functions, which is not always realistic.  \n",
        "3. **Handling Constraints**: Incorporating real-world constraints (e.g., restricting allocations to certain stocks) increases the complexity.  \n",
        "\n",
        "To overcome these challenges, this project applies a **Genetic Algorithm (GA)** to optimize portfolio allocation. Unlike MVO, GA is a heuristic approach that efficiently searches for near-optimal solutions without relying on strict mathematical assumptions.  \n",
        "\n",
        "The goal is to maximize the **Sharpe Ratio**, a key financial metric that balances return and risk, making GA a suitable technique for solving this problem.\n",
        "\n",
        "---\n",
        "\n",
        "### Discussion of the Suitability of Genetic Algorithms\n",
        "Genetic Algorithms (GAs) are well-suited for portfolio optimization due to their ability to handle large search spaces and complex constraints. Key advantages include:  \n",
        "\n",
        "- **Scalability** – GAs can handle large datasets efficiently without exponential growth in computational cost.  \n",
        "- **No Assumption of Normality** – Unlike MVO, GA does not require asset returns to be normally distributed.  \n",
        "- **Flexibility** – GA can incorporate additional constraints, such as limiting investment in specific stocks or ensuring minimum allocation to certain sectors.  \n",
        "\n",
        "Through **evolutionary selection**, GA gradually improves the portfolio allocation, leading to **higher Sharpe Ratios** compared to naive allocation strategies.\n",
        "\n",
        "---\n",
        "\n",
        "### Complexity of the Problem (Project Plan)\n",
        "Portfolio optimization presents a **high-dimensional, non-linear problem** where:  \n",
        "- Each chromosome represents a possible portfolio allocation (weights og assets).  \n",
        "- The solution space grows exponentially with the number of stocks considered.  \n",
        "- Evaluating a portfolio requires calculating historical **returns, variances, and covariances** over a defined period.  \n",
        "- The GA must balance exploration (mutation) and exploitation (crossover) to meet an optimal solution efficiently.  \n",
        "\n",
        "The complexity of the Genetic Algorithm increases with:  \n",
        "- The **number of assets** included in the portfolio (will be using only 5 in this case for a proof of concept).  \n",
        "- The **historical data period** used for return calculations (longer periods increase computational load).  \n",
        "- The **GA parameters** (population size, mutation rate, number of generations), which impact convergence speed.  \n",
        "\n",
        "Despite this complexity, GA provides a robust and adaptable approach to solving portfolio optimization problems where traditional methods struggle.\n",
        "\n",
        "---\n",
        "\n",
        "**Reference**  \n",
        "- [Markowitz Portfolio Theory](https://sites.math.washington.edu/~burke/crs/408/fin-proj/mark1.pdf)\n"
      ],
      "metadata": {
        "id": "KOfOnjYU8_Ya"
      }
    },
    {
      "cell_type": "markdown",
      "source": [
        "## The Problem and Fitness Function (~20%)"
      ],
      "metadata": {
        "id": "LjeQYJ_JStKP"
      }
    },
    {
      "cell_type": "code",
      "execution_count": 1,
      "metadata": {
        "id": "7LbdkZaqvxk6"
      },
      "outputs": [],
      "source": [
        "import pandas as pd\n",
        "import numpy as np\n",
        "import yfinance as yf\n",
        "from google.colab import drive"
      ]
    },
    {
      "cell_type": "markdown",
      "source": [
        "#### 1. Fetch Historical Data\n",
        "I will fetch 6 months of historical data starting from August 11th 2024 to February 11th 2025.\n",
        "I will investigate on 5 Stocks:\n",
        "1. Apple Inc. (AAPL)\n",
        "2. Tesla Inc. (TSLA)\n",
        "3. Microsoft Corp. (MSFT)\n",
        "4. Amazon.com Inc. (AMZN)\n",
        "5. NVIDIA Corporation (NVDA)"
      ],
      "metadata": {
        "id": "CHwoXKYlxSAo"
      }
    },
    {
      "cell_type": "code",
      "source": [
        "start_date = \"2024-08-11\"\n",
        "end_date = \"2025-02-11\"\n",
        "\n",
        "stocks = [\"AAPL\",\"TSLA\",\"MSFT\",\"AMZN\",\"NVDA\"]\n",
        "data = yf.download(stocks, start=start_date, end=end_date, interval=\"1d\")\n",
        "print(data.columns)\n"
      ],
      "metadata": {
        "colab": {
          "base_uri": "https://localhost:8080/"
        },
        "id": "oqzCyOTPxRW3",
        "outputId": "27b57c08-fe64-4968-a3df-d72a2ddeb64c"
      },
      "execution_count": 3,
      "outputs": [
        {
          "output_type": "stream",
          "name": "stdout",
          "text": [
            "YF.download() has changed argument auto_adjust default to True\n"
          ]
        },
        {
          "output_type": "stream",
          "name": "stderr",
          "text": [
            "[*********************100%***********************]  5 of 5 completed"
          ]
        },
        {
          "output_type": "stream",
          "name": "stdout",
          "text": [
            "MultiIndex([( 'Close', 'AAPL'),\n",
            "            ( 'Close', 'AMZN'),\n",
            "            ( 'Close', 'MSFT'),\n",
            "            ( 'Close', 'NVDA'),\n",
            "            ( 'Close', 'TSLA'),\n",
            "            (  'High', 'AAPL'),\n",
            "            (  'High', 'AMZN'),\n",
            "            (  'High', 'MSFT'),\n",
            "            (  'High', 'NVDA'),\n",
            "            (  'High', 'TSLA'),\n",
            "            (   'Low', 'AAPL'),\n",
            "            (   'Low', 'AMZN'),\n",
            "            (   'Low', 'MSFT'),\n",
            "            (   'Low', 'NVDA'),\n",
            "            (   'Low', 'TSLA'),\n",
            "            (  'Open', 'AAPL'),\n",
            "            (  'Open', 'AMZN'),\n",
            "            (  'Open', 'MSFT'),\n",
            "            (  'Open', 'NVDA'),\n",
            "            (  'Open', 'TSLA'),\n",
            "            ('Volume', 'AAPL'),\n",
            "            ('Volume', 'AMZN'),\n",
            "            ('Volume', 'MSFT'),\n",
            "            ('Volume', 'NVDA'),\n",
            "            ('Volume', 'TSLA')],\n",
            "           names=['Price', 'Ticker'])\n"
          ]
        },
        {
          "output_type": "stream",
          "name": "stderr",
          "text": [
            "\n"
          ]
        }
      ]
    },
    {
      "cell_type": "markdown",
      "source": [
        "There are 5 types of Prices: Close, High, Low, Open, Volume. Close prices are often used for analysis because it reflects the final consensus on the stock price for the trading day. It is often most consistent for portfolio optimization."
      ],
      "metadata": {
        "id": "-1JG51N96BYp"
      }
    },
    {
      "cell_type": "code",
      "source": [
        "close_data = data[\"Close\"]\n",
        "drive.mount('/content/drive')\n",
        "\n",
        "close_data.to_csv('/content/drive/My Drive/stock_data.csv')"
      ],
      "metadata": {
        "colab": {
          "base_uri": "https://localhost:8080/"
        },
        "id": "G5dS-10o6Xzg",
        "outputId": "41057e94-6127-454b-9a52-0edce6061d44"
      },
      "execution_count": 4,
      "outputs": [
        {
          "output_type": "stream",
          "name": "stdout",
          "text": [
            "Mounted at /content/drive\n"
          ]
        }
      ]
    },
    {
      "cell_type": "code",
      "source": [
        "stock_data = pd.read_csv('/content/drive/My Drive/stock_data.csv', index_col=0, parse_dates=True)\n",
        "stock_data.head(10)"
      ],
      "metadata": {
        "colab": {
          "base_uri": "https://localhost:8080/",
          "height": 394
        },
        "id": "eRFRJ0OXi6Gg",
        "outputId": "16f36ac0-5266-4f26-f765-2cb7c3afb6d8"
      },
      "execution_count": 5,
      "outputs": [
        {
          "output_type": "execute_result",
          "data": {
            "text/plain": [
              "                  AAPL        AMZN        MSFT        NVDA        TSLA\n",
              "Date                                                                  \n",
              "2024-08-12  217.052292  166.800003  404.455902  109.003159  197.490005\n",
              "2024-08-13  220.784088  170.229996  411.614227  116.122063  207.830002\n",
              "2024-08-14  221.233093  170.100006  414.447723  118.061768  201.380005\n",
              "2024-08-15  224.226501  177.589996  419.348083  122.841034  214.139999\n",
              "2024-08-16  225.553589  177.059998  416.798309  124.560760  216.119995\n",
              "2024-08-19  225.393921  178.220001  419.846069  129.979919  222.720001\n",
              "2024-08-20  226.012573  178.880005  423.103027  127.230347  221.100006\n",
              "2024-08-21  225.902817  180.110001  422.445679  128.480164  223.270004\n",
              "2024-08-22  224.036911  176.130005  413.889954  123.720894  210.660004\n",
              "2024-08-23  226.341843  177.039993  415.125031  129.350021  220.320007"
            ],
            "text/html": [
              "\n",
              "  <div id=\"df-0c93fa97-e22b-4245-b593-5588a8f5152f\" class=\"colab-df-container\">\n",
              "    <div>\n",
              "<style scoped>\n",
              "    .dataframe tbody tr th:only-of-type {\n",
              "        vertical-align: middle;\n",
              "    }\n",
              "\n",
              "    .dataframe tbody tr th {\n",
              "        vertical-align: top;\n",
              "    }\n",
              "\n",
              "    .dataframe thead th {\n",
              "        text-align: right;\n",
              "    }\n",
              "</style>\n",
              "<table border=\"1\" class=\"dataframe\">\n",
              "  <thead>\n",
              "    <tr style=\"text-align: right;\">\n",
              "      <th></th>\n",
              "      <th>AAPL</th>\n",
              "      <th>AMZN</th>\n",
              "      <th>MSFT</th>\n",
              "      <th>NVDA</th>\n",
              "      <th>TSLA</th>\n",
              "    </tr>\n",
              "    <tr>\n",
              "      <th>Date</th>\n",
              "      <th></th>\n",
              "      <th></th>\n",
              "      <th></th>\n",
              "      <th></th>\n",
              "      <th></th>\n",
              "    </tr>\n",
              "  </thead>\n",
              "  <tbody>\n",
              "    <tr>\n",
              "      <th>2024-08-12</th>\n",
              "      <td>217.052292</td>\n",
              "      <td>166.800003</td>\n",
              "      <td>404.455902</td>\n",
              "      <td>109.003159</td>\n",
              "      <td>197.490005</td>\n",
              "    </tr>\n",
              "    <tr>\n",
              "      <th>2024-08-13</th>\n",
              "      <td>220.784088</td>\n",
              "      <td>170.229996</td>\n",
              "      <td>411.614227</td>\n",
              "      <td>116.122063</td>\n",
              "      <td>207.830002</td>\n",
              "    </tr>\n",
              "    <tr>\n",
              "      <th>2024-08-14</th>\n",
              "      <td>221.233093</td>\n",
              "      <td>170.100006</td>\n",
              "      <td>414.447723</td>\n",
              "      <td>118.061768</td>\n",
              "      <td>201.380005</td>\n",
              "    </tr>\n",
              "    <tr>\n",
              "      <th>2024-08-15</th>\n",
              "      <td>224.226501</td>\n",
              "      <td>177.589996</td>\n",
              "      <td>419.348083</td>\n",
              "      <td>122.841034</td>\n",
              "      <td>214.139999</td>\n",
              "    </tr>\n",
              "    <tr>\n",
              "      <th>2024-08-16</th>\n",
              "      <td>225.553589</td>\n",
              "      <td>177.059998</td>\n",
              "      <td>416.798309</td>\n",
              "      <td>124.560760</td>\n",
              "      <td>216.119995</td>\n",
              "    </tr>\n",
              "    <tr>\n",
              "      <th>2024-08-19</th>\n",
              "      <td>225.393921</td>\n",
              "      <td>178.220001</td>\n",
              "      <td>419.846069</td>\n",
              "      <td>129.979919</td>\n",
              "      <td>222.720001</td>\n",
              "    </tr>\n",
              "    <tr>\n",
              "      <th>2024-08-20</th>\n",
              "      <td>226.012573</td>\n",
              "      <td>178.880005</td>\n",
              "      <td>423.103027</td>\n",
              "      <td>127.230347</td>\n",
              "      <td>221.100006</td>\n",
              "    </tr>\n",
              "    <tr>\n",
              "      <th>2024-08-21</th>\n",
              "      <td>225.902817</td>\n",
              "      <td>180.110001</td>\n",
              "      <td>422.445679</td>\n",
              "      <td>128.480164</td>\n",
              "      <td>223.270004</td>\n",
              "    </tr>\n",
              "    <tr>\n",
              "      <th>2024-08-22</th>\n",
              "      <td>224.036911</td>\n",
              "      <td>176.130005</td>\n",
              "      <td>413.889954</td>\n",
              "      <td>123.720894</td>\n",
              "      <td>210.660004</td>\n",
              "    </tr>\n",
              "    <tr>\n",
              "      <th>2024-08-23</th>\n",
              "      <td>226.341843</td>\n",
              "      <td>177.039993</td>\n",
              "      <td>415.125031</td>\n",
              "      <td>129.350021</td>\n",
              "      <td>220.320007</td>\n",
              "    </tr>\n",
              "  </tbody>\n",
              "</table>\n",
              "</div>\n",
              "    <div class=\"colab-df-buttons\">\n",
              "\n",
              "  <div class=\"colab-df-container\">\n",
              "    <button class=\"colab-df-convert\" onclick=\"convertToInteractive('df-0c93fa97-e22b-4245-b593-5588a8f5152f')\"\n",
              "            title=\"Convert this dataframe to an interactive table.\"\n",
              "            style=\"display:none;\">\n",
              "\n",
              "  <svg xmlns=\"http://www.w3.org/2000/svg\" height=\"24px\" viewBox=\"0 -960 960 960\">\n",
              "    <path d=\"M120-120v-720h720v720H120Zm60-500h600v-160H180v160Zm220 220h160v-160H400v160Zm0 220h160v-160H400v160ZM180-400h160v-160H180v160Zm440 0h160v-160H620v160ZM180-180h160v-160H180v160Zm440 0h160v-160H620v160Z\"/>\n",
              "  </svg>\n",
              "    </button>\n",
              "\n",
              "  <style>\n",
              "    .colab-df-container {\n",
              "      display:flex;\n",
              "      gap: 12px;\n",
              "    }\n",
              "\n",
              "    .colab-df-convert {\n",
              "      background-color: #E8F0FE;\n",
              "      border: none;\n",
              "      border-radius: 50%;\n",
              "      cursor: pointer;\n",
              "      display: none;\n",
              "      fill: #1967D2;\n",
              "      height: 32px;\n",
              "      padding: 0 0 0 0;\n",
              "      width: 32px;\n",
              "    }\n",
              "\n",
              "    .colab-df-convert:hover {\n",
              "      background-color: #E2EBFA;\n",
              "      box-shadow: 0px 1px 2px rgba(60, 64, 67, 0.3), 0px 1px 3px 1px rgba(60, 64, 67, 0.15);\n",
              "      fill: #174EA6;\n",
              "    }\n",
              "\n",
              "    .colab-df-buttons div {\n",
              "      margin-bottom: 4px;\n",
              "    }\n",
              "\n",
              "    [theme=dark] .colab-df-convert {\n",
              "      background-color: #3B4455;\n",
              "      fill: #D2E3FC;\n",
              "    }\n",
              "\n",
              "    [theme=dark] .colab-df-convert:hover {\n",
              "      background-color: #434B5C;\n",
              "      box-shadow: 0px 1px 3px 1px rgba(0, 0, 0, 0.15);\n",
              "      filter: drop-shadow(0px 1px 2px rgba(0, 0, 0, 0.3));\n",
              "      fill: #FFFFFF;\n",
              "    }\n",
              "  </style>\n",
              "\n",
              "    <script>\n",
              "      const buttonEl =\n",
              "        document.querySelector('#df-0c93fa97-e22b-4245-b593-5588a8f5152f button.colab-df-convert');\n",
              "      buttonEl.style.display =\n",
              "        google.colab.kernel.accessAllowed ? 'block' : 'none';\n",
              "\n",
              "      async function convertToInteractive(key) {\n",
              "        const element = document.querySelector('#df-0c93fa97-e22b-4245-b593-5588a8f5152f');\n",
              "        const dataTable =\n",
              "          await google.colab.kernel.invokeFunction('convertToInteractive',\n",
              "                                                    [key], {});\n",
              "        if (!dataTable) return;\n",
              "\n",
              "        const docLinkHtml = 'Like what you see? Visit the ' +\n",
              "          '<a target=\"_blank\" href=https://colab.research.google.com/notebooks/data_table.ipynb>data table notebook</a>'\n",
              "          + ' to learn more about interactive tables.';\n",
              "        element.innerHTML = '';\n",
              "        dataTable['output_type'] = 'display_data';\n",
              "        await google.colab.output.renderOutput(dataTable, element);\n",
              "        const docLink = document.createElement('div');\n",
              "        docLink.innerHTML = docLinkHtml;\n",
              "        element.appendChild(docLink);\n",
              "      }\n",
              "    </script>\n",
              "  </div>\n",
              "\n",
              "\n",
              "<div id=\"df-0e9cf129-d154-420f-9c51-64e905bb9df3\">\n",
              "  <button class=\"colab-df-quickchart\" onclick=\"quickchart('df-0e9cf129-d154-420f-9c51-64e905bb9df3')\"\n",
              "            title=\"Suggest charts\"\n",
              "            style=\"display:none;\">\n",
              "\n",
              "<svg xmlns=\"http://www.w3.org/2000/svg\" height=\"24px\"viewBox=\"0 0 24 24\"\n",
              "     width=\"24px\">\n",
              "    <g>\n",
              "        <path d=\"M19 3H5c-1.1 0-2 .9-2 2v14c0 1.1.9 2 2 2h14c1.1 0 2-.9 2-2V5c0-1.1-.9-2-2-2zM9 17H7v-7h2v7zm4 0h-2V7h2v10zm4 0h-2v-4h2v4z\"/>\n",
              "    </g>\n",
              "</svg>\n",
              "  </button>\n",
              "\n",
              "<style>\n",
              "  .colab-df-quickchart {\n",
              "      --bg-color: #E8F0FE;\n",
              "      --fill-color: #1967D2;\n",
              "      --hover-bg-color: #E2EBFA;\n",
              "      --hover-fill-color: #174EA6;\n",
              "      --disabled-fill-color: #AAA;\n",
              "      --disabled-bg-color: #DDD;\n",
              "  }\n",
              "\n",
              "  [theme=dark] .colab-df-quickchart {\n",
              "      --bg-color: #3B4455;\n",
              "      --fill-color: #D2E3FC;\n",
              "      --hover-bg-color: #434B5C;\n",
              "      --hover-fill-color: #FFFFFF;\n",
              "      --disabled-bg-color: #3B4455;\n",
              "      --disabled-fill-color: #666;\n",
              "  }\n",
              "\n",
              "  .colab-df-quickchart {\n",
              "    background-color: var(--bg-color);\n",
              "    border: none;\n",
              "    border-radius: 50%;\n",
              "    cursor: pointer;\n",
              "    display: none;\n",
              "    fill: var(--fill-color);\n",
              "    height: 32px;\n",
              "    padding: 0;\n",
              "    width: 32px;\n",
              "  }\n",
              "\n",
              "  .colab-df-quickchart:hover {\n",
              "    background-color: var(--hover-bg-color);\n",
              "    box-shadow: 0 1px 2px rgba(60, 64, 67, 0.3), 0 1px 3px 1px rgba(60, 64, 67, 0.15);\n",
              "    fill: var(--button-hover-fill-color);\n",
              "  }\n",
              "\n",
              "  .colab-df-quickchart-complete:disabled,\n",
              "  .colab-df-quickchart-complete:disabled:hover {\n",
              "    background-color: var(--disabled-bg-color);\n",
              "    fill: var(--disabled-fill-color);\n",
              "    box-shadow: none;\n",
              "  }\n",
              "\n",
              "  .colab-df-spinner {\n",
              "    border: 2px solid var(--fill-color);\n",
              "    border-color: transparent;\n",
              "    border-bottom-color: var(--fill-color);\n",
              "    animation:\n",
              "      spin 1s steps(1) infinite;\n",
              "  }\n",
              "\n",
              "  @keyframes spin {\n",
              "    0% {\n",
              "      border-color: transparent;\n",
              "      border-bottom-color: var(--fill-color);\n",
              "      border-left-color: var(--fill-color);\n",
              "    }\n",
              "    20% {\n",
              "      border-color: transparent;\n",
              "      border-left-color: var(--fill-color);\n",
              "      border-top-color: var(--fill-color);\n",
              "    }\n",
              "    30% {\n",
              "      border-color: transparent;\n",
              "      border-left-color: var(--fill-color);\n",
              "      border-top-color: var(--fill-color);\n",
              "      border-right-color: var(--fill-color);\n",
              "    }\n",
              "    40% {\n",
              "      border-color: transparent;\n",
              "      border-right-color: var(--fill-color);\n",
              "      border-top-color: var(--fill-color);\n",
              "    }\n",
              "    60% {\n",
              "      border-color: transparent;\n",
              "      border-right-color: var(--fill-color);\n",
              "    }\n",
              "    80% {\n",
              "      border-color: transparent;\n",
              "      border-right-color: var(--fill-color);\n",
              "      border-bottom-color: var(--fill-color);\n",
              "    }\n",
              "    90% {\n",
              "      border-color: transparent;\n",
              "      border-bottom-color: var(--fill-color);\n",
              "    }\n",
              "  }\n",
              "</style>\n",
              "\n",
              "  <script>\n",
              "    async function quickchart(key) {\n",
              "      const quickchartButtonEl =\n",
              "        document.querySelector('#' + key + ' button');\n",
              "      quickchartButtonEl.disabled = true;  // To prevent multiple clicks.\n",
              "      quickchartButtonEl.classList.add('colab-df-spinner');\n",
              "      try {\n",
              "        const charts = await google.colab.kernel.invokeFunction(\n",
              "            'suggestCharts', [key], {});\n",
              "      } catch (error) {\n",
              "        console.error('Error during call to suggestCharts:', error);\n",
              "      }\n",
              "      quickchartButtonEl.classList.remove('colab-df-spinner');\n",
              "      quickchartButtonEl.classList.add('colab-df-quickchart-complete');\n",
              "    }\n",
              "    (() => {\n",
              "      let quickchartButtonEl =\n",
              "        document.querySelector('#df-0e9cf129-d154-420f-9c51-64e905bb9df3 button');\n",
              "      quickchartButtonEl.style.display =\n",
              "        google.colab.kernel.accessAllowed ? 'block' : 'none';\n",
              "    })();\n",
              "  </script>\n",
              "</div>\n",
              "\n",
              "    </div>\n",
              "  </div>\n"
            ],
            "application/vnd.google.colaboratory.intrinsic+json": {
              "type": "dataframe",
              "variable_name": "stock_data",
              "summary": "{\n  \"name\": \"stock_data\",\n  \"rows\": 125,\n  \"fields\": [\n    {\n      \"column\": \"Date\",\n      \"properties\": {\n        \"dtype\": \"date\",\n        \"min\": \"2024-08-12 00:00:00\",\n        \"max\": \"2025-02-10 00:00:00\",\n        \"num_unique_values\": 125,\n        \"samples\": [\n          \"2024-09-06 00:00:00\",\n          \"2024-10-10 00:00:00\",\n          \"2024-10-02 00:00:00\"\n        ],\n        \"semantic_type\": \"\",\n        \"description\": \"\"\n      }\n    },\n    {\n      \"column\": \"AAPL\",\n      \"properties\": {\n        \"dtype\": \"number\",\n        \"std\": 9.796774984969673,\n        \"min\": 215.84495544433597,\n        \"max\": 258.7355041503906,\n        \"num_unique_values\": 123,\n        \"samples\": [\n          220.33506774902344,\n          231.27099609375,\n          234.4839324951172\n        ],\n        \"semantic_type\": \"\",\n        \"description\": \"\"\n      }\n    },\n    {\n      \"column\": \"AMZN\",\n      \"properties\": {\n        \"dtype\": \"number\",\n        \"std\": 21.3610078352986,\n        \"min\": 166.8000030517578,\n        \"max\": 242.05999755859372,\n        \"num_unique_values\": 124,\n        \"samples\": [\n          171.38999938964844,\n          186.6499938964844,\n          184.75999450683597\n        ],\n        \"semantic_type\": \"\",\n        \"description\": \"\"\n      }\n    },\n    {\n      \"column\": \"MSFT\",\n      \"properties\": {\n        \"dtype\": \"number\",\n        \"std\": 11.637823633429395,\n        \"min\": 400.0953369140625,\n        \"max\": 453.5505676269531,\n        \"num_unique_values\": 125,\n        \"samples\": [\n          400.0953369140625,\n          414.1788024902344,\n          415.4636840820313\n        ],\n        \"semantic_type\": \"\",\n        \"description\": \"\"\n      }\n    },\n    {\n      \"column\": \"NVDA\",\n      \"properties\": {\n        \"dtype\": \"number\",\n        \"std\": 11.174561807759913,\n        \"min\": 102.81411743164062,\n        \"max\": 149.42999267578125,\n        \"num_unique_values\": 124,\n        \"samples\": [\n          102.81411743164062,\n          134.8007049560547,\n          118.84181213378906\n        ],\n        \"semantic_type\": \"\",\n        \"description\": \"\"\n      }\n    },\n    {\n      \"column\": \"TSLA\",\n      \"properties\": {\n        \"dtype\": \"number\",\n        \"std\": 84.2750717037838,\n        \"min\": 197.4900054931641,\n        \"max\": 479.8599853515625,\n        \"num_unique_values\": 125,\n        \"samples\": [\n          210.72999572753903,\n          238.7700042724609,\n          249.0200042724609\n        ],\n        \"semantic_type\": \"\",\n        \"description\": \"\"\n      }\n    }\n  ]\n}"
            }
          },
          "metadata": {},
          "execution_count": 5
        }
      ]
    },
    {
      "cell_type": "markdown",
      "source": [
        "#### 2. Preprocess Data (Compute Returns and Risk)\n",
        "\n",
        "Before defining the fitness function **(Sharpe Ratio)**, I need to compute some key financial metrics from the historical stock data.\n",
        "\n",
        "Portfolio optimization requires **2** fundamental components:\n",
        "1. Returns → Measures how an asset appreciates over time\n",
        "2. Risk (Standard Deviation & Covariance) → Measures relationship between assets\n",
        "\n",
        "To Calculate returns and risk, **3** statistical methods are used:\n",
        "- Daily Returns: estimate expected return of portfolio\n",
        "- Covariance Matrix: measure risk relationship between different stocks\n",
        "- Standard Deviation: quantify portfolio risk\n",
        "\n",
        "Without calculating these, Sharpe Ratio cannot be correctly evaluated."
      ],
      "metadata": {
        "id": "XEmU3SLMH0Q7"
      }
    },
    {
      "cell_type": "markdown",
      "source": [],
      "metadata": {
        "id": "fMCxddtWdhQ6"
      }
    },
    {
      "cell_type": "code",
      "source": [
        "daily_returns = stock_data.pct_change().dropna()\n",
        "\n",
        "expected_returns = daily_returns.mean()\n",
        "\n",
        "covariance_matrix = daily_returns.cov()\n",
        "\n",
        "print(\"Daily Return:\\n\",daily_returns)\n",
        "print(\"\\nExpected Return:\\n\", expected_returns)\n",
        "print(\"\\nCovariance Matrix:\\n\", covariance_matrix)"
      ],
      "metadata": {
        "id": "oHPwikbT6-Ro",
        "colab": {
          "base_uri": "https://localhost:8080/"
        },
        "outputId": "c6e0754d-92a1-4ade-90b8-25d464ffae9f"
      },
      "execution_count": 6,
      "outputs": [
        {
          "output_type": "stream",
          "name": "stdout",
          "text": [
            "Daily Return:\n",
            "                 AAPL      AMZN      MSFT      NVDA      TSLA\n",
            "Date                                                        \n",
            "2024-08-13  0.017193  0.020564  0.017699  0.065309  0.052357\n",
            "2024-08-14  0.002034 -0.000764  0.006884  0.016704 -0.031035\n",
            "2024-08-15  0.013531  0.044033  0.011824  0.040481  0.063363\n",
            "2024-08-16  0.005919 -0.002984 -0.006080  0.014000  0.009246\n",
            "2024-08-19 -0.000708  0.006551  0.007312  0.043506  0.030539\n",
            "...              ...       ...       ...       ...       ...\n",
            "2025-02-04  0.021008  0.019543  0.003529  0.017058  0.022232\n",
            "2025-02-05 -0.001418 -0.024333  0.002231  0.052086 -0.035797\n",
            "2025-02-06  0.003226  0.011263  0.006122  0.030842 -0.010181\n",
            "2025-02-07 -0.023969 -0.040531 -0.014598  0.009015 -0.033928\n",
            "2025-02-10  0.001187  0.017412  0.006028  0.028728 -0.030114\n",
            "\n",
            "[124 rows x 5 columns]\n",
            "\n",
            "Expected Return:\n",
            " AAPL    0.000475\n",
            "AMZN    0.002860\n",
            "MSFT    0.000236\n",
            "NVDA    0.002209\n",
            "TSLA    0.005521\n",
            "dtype: float64\n",
            "\n",
            "Covariance Matrix:\n",
            "           AAPL      AMZN      MSFT      NVDA      TSLA\n",
            "AAPL  0.000183  0.000092  0.000089  0.000101  0.000156\n",
            "AMZN  0.000092  0.000315  0.000164  0.000233  0.000329\n",
            "MSFT  0.000089  0.000164  0.000196  0.000237  0.000191\n",
            "NVDA  0.000101  0.000233  0.000237  0.001117  0.000342\n",
            "TSLA  0.000156  0.000329  0.000191  0.000342  0.001834\n"
          ]
        }
      ]
    },
    {
      "cell_type": "markdown",
      "source": [
        "#### **Observation**\n",
        "\n",
        "Expected Returns:\n",
        "- TSLA (0.005521) has the highest expected return, indicating strong growth potential but also higher risk.\n",
        "- AMZN (0.002860) and NVDA (0.002209) follow, suggesting moderate expected returns.\n",
        "- AAPL (0.000475) and MSFT (0.000236) have the lowest expected returns, implying more stability.\n",
        "\n",
        "Covariance Matrix:\n",
        "- TSLA and NVDA show the highest variances, indicating greater price fluctuations.\n",
        "- AMZN is moderately correlated with NVDA and TSLA, potentially indicating similar market influences.\n",
        "- AAPL and MSFT have lower variances, reinforcing their status as more stable assets.\n",
        "---\n",
        "**Reference**:\n",
        "- Markowitz, H. (1952). *Portfolio Selection.* The Journal of Finance, 7(1), 77-91. DOI: [10.2307/2975974](https://doi.org/10.2307/2975974)"
      ],
      "metadata": {
        "id": "zITYDzZumlgL"
      }
    },
    {
      "cell_type": "markdown",
      "source": [
        "#### 3. Sharpe Ratio - Fitness Function\n",
        "**Introduction of Sharpe Ratio** <br>\n",
        "The fitness function in my Genetic Algorithm is the **Sharpe Ratio**, a key financial metric that measures risk-adjusted return. <br>\n",
        "Formulas below:\n",
        "\\begin{aligned}\n",
        "S &= \\frac{E(R_p) - R_f}{\\sigma_p}\n",
        "\\end{aligned}\n",
        "\n",
        "where:  \n",
        "- $S$ = Sharpe Ratio  \n",
        "- $E(R_p)$ = Expected portfolio return  \n",
        "- $R_f$ = Risk-free rate (Since the portfolio consists only 5 stocks and does not include a risk-free asset like government bonds, assuming 0 simplifies calculations without affecting the optimization objective.)  \n",
        "- $\\sigma_p$ = Portfolio standard deviation (risk)  \n",
        "\n",
        "\\begin{aligned}\n",
        "E(R_p) = \\sum_{i=1}^{N} w_i E(R_i)\n",
        "\\end{aligned}\n",
        "\n",
        "where:\n",
        "- $w_i$ = weight of stock $i$\n",
        "- $R_i$ = return of stock $i$\n",
        "\n",
        "\n",
        "The Sharpe Ratio is widely used in finance because it provides a balanced measure of risk vs. return. Unlike simple return-based metrics, it penalizes high volatility, ensuring that we optimize portfolios that offer steady and reliable returns.\n",
        "\n",
        "---\n",
        "\n",
        "**Why use Sharpe Ratio as a Fitness Function?**\n",
        "1. Risk-Adjusted Performance: Ensures GA selects portfolios that maximize return while controlling risk.  \n",
        "2. Industry Standard Metric: Used by hedge funds and investment firms for portfolio evaluation.  \n",
        "3. Handles Different Market Conditions: Works well in both volatile and stable markets.  \n",
        "\n",
        "By using Genetic Algorithms, we evolve portfolios that maximize the Sharpe Ratio, leading to an optimal allocation of assets that achieves the best trade-off between *profitability and risk*.\n",
        "\n",
        "---\n",
        "\n",
        "**Reference:**  \n",
        "- Sharpe, W. F. (1966). \"Mutual Fund Performance\". *Journal of Business*, 39(1), 119-138. ([JSTOR](https://www.jstor.org/stable/2351741))  "
      ],
      "metadata": {
        "id": "8p1HozLXfTrg"
      }
    },
    {
      "cell_type": "code",
      "source": [
        "def sharpe_ratio(weights, expected_returns, covariance_matrix, risk_free_rate=0.0):\n",
        "  \"\"\"\n",
        "  Parameters:\n",
        "  - weights: Array of portfolio allocation (sum to 1)\n",
        "  - expected_returns: Expected return of each stocks\n",
        "  - covariance_matrix: Covariance matrix of stock returns\n",
        "  - risk_free_rates: default = 0\n",
        "\n",
        "  Returns:\n",
        "  - Sharpe Ratio (higher = better/optimized)\n",
        "  \"\"\"\n",
        "\n",
        "  # Reference to Sharpe Ratio formulas above\n",
        "  portfolio_return = np.dot(weights, expected_returns)\n",
        "\n",
        "  # Transpose weights to get a single variance value\n",
        "  portfolio_variance = np.dot(weights.T, np.dot(covariance_matrix, weights))\n",
        "  portfolio_stddev = np.sqrt(portfolio_variance)\n",
        "\n",
        "  return (portfolio_return - risk_free_rate) / portfolio_stddev"
      ],
      "metadata": {
        "id": "Ca3vOcDPoRT4"
      },
      "execution_count": 7,
      "outputs": []
    },
    {
      "cell_type": "markdown",
      "source": [
        "Testing Fitness Function"
      ],
      "metadata": {
        "id": "1S-ONrd6vGB4"
      }
    },
    {
      "cell_type": "code",
      "source": [
        "test_expected_return = np.array([0.12, 0.08, 0.10])\n",
        "test_covariance_matrix = np.array([\n",
        "    [0.04, 0.01, 0.02],\n",
        "    [0.01, 0.03, 0.015],\n",
        "    [0.02, 0.015, 0.05]\n",
        "])\n",
        "\n",
        "test_weights = np.array([0.4, 0.3, 0.4])\n",
        "\n",
        "sharpe_value = sharpe_ratio(test_weights, test_expected_return, test_covariance_matrix)\n",
        "\n",
        "print(\"Sharpe Ratio\", sharpe_value)"
      ],
      "metadata": {
        "colab": {
          "base_uri": "https://localhost:8080/"
        },
        "id": "yclZ_5O4vFm0",
        "outputId": "a05fb67e-fa24-4ac2-8701-8469f0ca3445"
      },
      "execution_count": 8,
      "outputs": [
        {
          "output_type": "stream",
          "name": "stdout",
          "text": [
            "Sharpe Ratio 0.6520892109083318\n"
          ]
        }
      ]
    },
    {
      "cell_type": "markdown",
      "source": [
        "### Problem Class"
      ],
      "metadata": {
        "id": "LJj4z15be7B3"
      }
    },
    {
      "cell_type": "code",
      "source": [
        "class Problem:\n",
        "  def __init__(self) -> None:\n",
        "    self.number_of_genes = 5\n",
        "    self.min_value = 0\n",
        "    self.max_value = 1\n",
        "    self.fitness_function = sharpe_ratio\n",
        "    self.acceptable_fitness = 1 # < 1 = weak (but show stability), 1 - 1.5 = performing alright, > 1.5 = strong (at the same time risky)"
      ],
      "metadata": {
        "id": "5v5o2y36e6il"
      },
      "execution_count": 9,
      "outputs": []
    },
    {
      "cell_type": "markdown",
      "source": [
        "## The Individual (~30%) - Defining the Genetic Algorithm Components"
      ],
      "metadata": {
        "id": "Ub1b7KbcxC-5"
      }
    },
    {
      "cell_type": "markdown",
      "source": [
        "### Individual Components\n",
        "#### Chromosome Representation\n",
        "In this project, each chromosome represents a portfolio allocation, where genes are the weights of individual stocks in the portfolio. Each chromosome is an array of floating-point numbers summing up to 1.\n",
        "\n",
        "For example: a chromosome might look like:\n",
        "*\\[0.25, 0.15, 0.30, 0.10, 0.20\\]*\n",
        "\n",
        "Why this representation? <br>\n",
        "- Ensures a valid portfolio allocation without needing extra constraints.  \n",
        "- Allows easy evaluation using the Sharpe Ratio as the fitness function.  \n",
        "- Works naturally with crossover and mutation without breaking feasibility.  \n",
        "\n",
        "\n",
        "These weights involve over generations to maximize the Sharpe Ratio.\n",
        "\n",
        "---\n",
        "\n",
        "#### Crossover (Recombination of Portfolios)\n",
        "Crossover allows 2 parent portfolios to combine, creating a new portfolio that inherits some traits from both.\n",
        "\n",
        "**Approach**\n",
        "- Linear Interpolation Crossover: This method ensures that the child portfolios always sum to 1, maintaining valid asset allocation without perfoming normalization.\n",
        "\n",
        "Justification of crossover approach: <br>\n",
        "- Always maintains valid weights (sum = 1) without extra renormalization.  \n",
        "- Encourages genetic diversity by allowing more flexible exploration.  \n",
        "- Works better for constrained problems like portfolio allocation compared to traditional crossover (e.g., BLX crossover, which requires post-normalization).  \n",
        "\n",
        "---\n",
        "\n",
        "#### Mutation\n",
        "Mutation helps prevent the GA from converging too quickly to a local optimum. We apply small random adjustments to portfolio weights.\n",
        "\n",
        "**Approach**: Small Weight Perturbation with Renormalization\n",
        "1. A small noise is added to randomly selected weights.  \n",
        "2. Weights are clipped to prevent negative values (ensuring no short-selling).  \n",
        "3. The portfolio is renormalized to maintain a total weight sum of 1.\n",
        "\n",
        "Justification of mutation method: <br>\n",
        "- Ensures that the weights always sum to 1 after mutation.  \n",
        "- Prevents negative weights, ensuring all assets have a valid allocation.  \n",
        "- Controlled noise to adjust weights without drastic changes.\n",
        "\n",
        "This ensures mutation improves the solution without breaking constraints."
      ],
      "metadata": {
        "id": "suH4qNNGxTvh"
      }
    },
    {
      "cell_type": "code",
      "source": [
        "from copy import deepcopy\n",
        "\n",
        "class PortfolioIndividual:\n",
        "  def __init__(self, prob):\n",
        "    \"\"\"\n",
        "    Initializes an individual portfolio (chromosomes)\n",
        "\n",
        "    Parameters:\n",
        "    - prob: An Instance of the Problem class\n",
        "    \"\"\"\n",
        "    self.chromosomes = np.random.dirichlet(np.ones(prob.number_of_genes), size=1)[0]\n",
        "    self.fitness_function = prob.fitness_function\n",
        "\n",
        "  def crossover(self, parent2, explore_crossover=0.1):\n",
        "    \"\"\"\n",
        "    Linear Interpolation Crossover, more details above\n",
        "\n",
        "    Parameters:\n",
        "    - parent2: Another PortfolioIndividual to crossover with\n",
        "    - explore_crossover: Exploration factor (default 0.1)\n",
        "\n",
        "    Returns:\n",
        "    - 2 children PortfolioIndividuals\n",
        "    \"\"\"\n",
        "    alpha = np.random.uniform(-explore_crossover, 1 + explore_crossover)\n",
        "\n",
        "    child1 = deepcopy(self)\n",
        "    child2 = deepcopy(parent2)\n",
        "\n",
        "    child1.chromosomes = alpha * self.chromosomes + (1 - alpha) * parent2.chromosomes\n",
        "    child2.chromosomes = alpha * parent2.chromosomes + (1 - alpha) * self.chromosomes\n",
        "\n",
        "    return child1, child2\n",
        "\n",
        "  def mutate(self, mutation_rate=0.1, mutation_strength=0.05):\n",
        "    \"\"\"\n",
        "    Applies mutation by slightly adding noise to random portfolio weights\n",
        "\n",
        "    Parameters:\n",
        "    - mutation_rate: Probability of mutation to happen for each weight\n",
        "    - mutation_strength: Standard deviation of noise added\n",
        "\n",
        "    Returns:\n",
        "    - Mutated PortfolioIndividual\n",
        "    \"\"\"\n",
        "    mutated_portfolio = deepcopy(self)\n",
        "\n",
        "    for i in range(len(mutated_portfolio.chromosomes)):\n",
        "      if np.random.rand() < mutation_rate:\n",
        "        mutated_portfolio.chromosomes[i] += np.random.normal(0, mutation_strength)\n",
        "\n",
        "    mutated_portfolio.chromosomes = np.clip(mutated_portfolio.chromosomes, 0, 1)\n",
        "\n",
        "    mutated_portfolio.chromosomes /= np.sum(mutated_portfolio.chromosomes)\n",
        "\n",
        "    return mutated_portfolio\n",
        "\n"
      ],
      "metadata": {
        "id": "07cipGFIxJ6N"
      },
      "execution_count": 10,
      "outputs": []
    },
    {
      "cell_type": "markdown",
      "source": [
        "## Running the GA algorithm (~10%)\n"
      ],
      "metadata": {
        "id": "iRTFVcbcY7yP"
      }
    },
    {
      "cell_type": "markdown",
      "source": [
        "## Selection, Parameters and GA\n",
        "### Parameter Choices\n",
        "To optimize portfolio allocation, we define the following Genetic Algorithm parameters:  \n",
        "\n",
        "- Population Size: 50 portfolios per generation balance between diversity & efficiency.  \n",
        "- Number of Generations: 100 iterations to ensures sufficient evolution.  \n",
        "- Mutation Rate: 10% introduces variation without excessive randomness.  \n",
        "- Mutation Strength: 5% so noise is controlled.  \n",
        "- Crossover Rate: 80% to ensure effective recombination.  \n",
        "\n",
        "These parameters were chosen based on standard GA heuristics and financial constraints.\n",
        "\n",
        "---\n",
        "\n",
        "### Selection Method: Tournament Selection\n",
        "To ensure only the best-performing portfolios move to the next generation, I plan to use **Tournament Selection**:  \n",
        "\n",
        "How it Works?\n",
        "- Randomly pick 3 portfolios from the population.  \n",
        "- The portfolio with the **highest Sharpe Ratio** wins.  \n",
        "- Repeat until enough parents are selected.\n",
        "\n",
        "Tournament Selection vs. Roulette Wheel:\n",
        "- More stable because it avoids overly favoring extreme values.  \n",
        "- Better suited for small population sizes like this project.\n",
        "\n",
        "Reference below...\n",
        "\n",
        "---\n",
        "\n",
        "### Modifications to `run_genetic`\n",
        "1. Implemented Tournament Selection for better stability.  \n",
        "2. Dynamically adjusted mutation rate to avoid premature convergence.  \n",
        "3. Tracked convergence metrics to assess solution quality.\n",
        "\n",
        "---\n",
        "\n",
        "#### **Reference**\n",
        "- [Tournament Selection](https://www.baeldung.com/cs/ga-tournament-selection)\n",
        "- [Comparison between tournament and roulette wheel](https://www.researchgate.net/publication/221216912_Comparison_of_Performance_between_Different_Selection_Strategies_on_Simple_Genetic_Algorithms)"
      ],
      "metadata": {
        "id": "rRyIKDmTeisi"
      }
    },
    {
      "cell_type": "code",
      "source": [
        "class Paramters:\n",
        "  def __init__(self):\n",
        "    self.population_size = 50\n",
        "    self.number_of_generations = 100\n",
        "    self.mutation_rate = 0.1\n",
        "    self.mutation_strength = 0.05\n",
        "    self.explore_crossover_range = 0.2\n",
        "    self.birth_rate_per_generation = 1"
      ],
      "metadata": {
        "id": "J0ILy-Y9a4Ta"
      },
      "execution_count": 11,
      "outputs": []
    },
    {
      "cell_type": "code",
      "source": [
        "def choose_parents(self, tournament_size=3):\n",
        "  \"\"\"\n",
        "  Tournament Selection: choose 3 random parents, calculate their sharpe ratio and return the highest.\n",
        "\n",
        "  Parameters:\n",
        "  - tournament_size: number of contestents (i.e. number of parents chosen to compete in this case)\n",
        "\n",
        "  Returns:\n",
        "  - 2 parents from 2 tournaments with highest fitness function (Sharpe Ratio)\n",
        "  \"\"\"\n",
        "  tournament1 = np.random.choice(self.population_size, tournament_size)\n",
        "  tournament2 = np.random.choice(self.population_size, tournament_size)\n",
        "\n",
        "  parent1 = max(tournament1, key=lambda x: x.fitness_function(x.chromosomes, expected_returns, covariance_matrix))\n",
        "  parent2 = max(tournament2, key=lambda x: x.fitness_function(x.chromosomes, expected_returns, covariance_matrix))\n",
        "\n",
        "  return parent1, parent2\n"
      ],
      "metadata": {
        "id": "d7jqwuNke59k"
      },
      "execution_count": null,
      "outputs": []
    }
  ]
}