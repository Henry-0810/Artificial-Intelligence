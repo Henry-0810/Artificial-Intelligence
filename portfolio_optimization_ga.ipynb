{
  "nbformat": 4,
  "nbformat_minor": 0,
  "metadata": {
    "colab": {
      "provenance": [],
      "toc_visible": true,
      "include_colab_link": true
    },
    "kernelspec": {
      "name": "python3",
      "display_name": "Python 3"
    },
    "language_info": {
      "name": "python"
    }
  },
  "cells": [
    {
      "cell_type": "markdown",
      "metadata": {
        "id": "view-in-github",
        "colab_type": "text"
      },
      "source": [
        "<a href=\"https://colab.research.google.com/github/Henry-0810/Artificial-Intelligence/blob/main/portfolio_optimization_ga.ipynb\" target=\"_parent\"><img src=\"https://colab.research.google.com/assets/colab-badge.svg\" alt=\"Open In Colab\"/></a>"
      ]
    },
    {
      "cell_type": "markdown",
      "source": [
        "## Genetic Algorithm\n",
        "### Portfolio Optimization\n",
        "I will only use 5 stocks for this project. Stock data are all real-time, retrived from the Yahoo Finance API, https://pypi.org/project/yfinance/"
      ],
      "metadata": {
        "id": "nH8O89crwBDo"
      }
    },
    {
      "cell_type": "markdown",
      "source": [
        "## **Problem Statement**\n",
        "\n",
        "### **Description of the Problem**  \n",
        "Portfolio optimization is the process of selecting the best combination of assets to maximize returns while minimizing risk. A common approach is **Markowitz’s Mean-Variance Optimization (MVO)**, which constructs an efficient portfolio using expected returns, variances, and covariances of assets.  \n",
        "\n",
        "However, MVO has several limitations:  \n",
        "1. **Complexity**: Solving quadratic optimization problems becomes expensive as the number of assets grows.  \n",
        "2. **Strict Assumptions**: MVO assumes asset returns follow a normal distribution and that investors have quadratic utility functions, which is not always realistic.  \n",
        "3. **Handling Constraints**: Incorporating real-world constraints (e.g., restricting allocations to certain stocks) increases the complexity.  \n",
        "\n",
        "To overcome these challenges, this project applies a **Genetic Algorithm (GA)** to optimize portfolio allocation. Unlike MVO, GA is a heuristic approach that efficiently searches for near-optimal solutions without relying on strict mathematical assumptions.  \n",
        "\n",
        "The goal is to maximize the **Sharpe Ratio**, a key financial metric that balances return and risk, making GA a suitable technique for solving this problem.\n",
        "\n",
        "---\n",
        "\n",
        "### **Discussion of the Suitability of Genetic Algorithms**  \n",
        "Genetic Algorithms (GAs) are well-suited for portfolio optimization due to their ability to handle large search spaces and complex constraints. Key advantages include:  \n",
        "\n",
        "- **Scalability** – GAs can handle large datasets efficiently without exponential growth in computational cost.  \n",
        "- **No Assumption of Normality** – Unlike MVO, GA does not require asset returns to be normally distributed.  \n",
        "- **Flexibility** – GA can incorporate additional constraints, such as limiting investment in specific stocks or ensuring minimum allocation to certain sectors.  \n",
        "\n",
        "Through **evolutionary selection**, GA gradually improves the portfolio allocation, leading to **higher Sharpe Ratios** compared to naive allocation strategies.\n",
        "\n",
        "---\n",
        "\n",
        "### **Complexity of the Problem** (Project Plan)\n",
        "Portfolio optimization presents a **high-dimensional, non-linear problem** where:  \n",
        "- Each chromosome represents a possible portfolio allocation (weights og assets).  \n",
        "- The solution space grows exponentially with the number of stocks considered.  \n",
        "- Evaluating a portfolio requires calculating historical **returns, variances, and covariances** over a defined period.  \n",
        "- The GA must balance exploration (mutation) and exploitation (crossover) to meet an optimal solution efficiently.  \n",
        "\n",
        "The complexity of the Genetic Algorithm increases with:  \n",
        "- The **number of assets** included in the portfolio (will be using only 5 in this case for a proof of concept).  \n",
        "- The **historical data period** used for return calculations (longer periods increase computational load).  \n",
        "- The **GA parameters** (population size, mutation rate, number of generations), which impact convergence speed.  \n",
        "\n",
        "Despite this complexity, GA provides a robust and adaptable approach to solving portfolio optimization problems where traditional methods struggle.\n",
        "\n",
        "---\n",
        "\n",
        "**Reference**  \n",
        "- [Markowitz Portfolio Theory](https://sites.math.washington.edu/~burke/crs/408/fin-proj/mark1.pdf)\n"
      ],
      "metadata": {
        "id": "KOfOnjYU8_Ya"
      }
    },
    {
      "cell_type": "code",
      "execution_count": null,
      "metadata": {
        "id": "7LbdkZaqvxk6"
      },
      "outputs": [],
      "source": [
        "import pandas as pd\n",
        "import numpy as np\n",
        "import yfinance as yf"
      ]
    },
    {
      "cell_type": "markdown",
      "source": [
        "#### 1. Fetch Historical Data\n",
        "I will fetch 6 months of historical data starting from August 11th 2024 to February 11th 2025.\n",
        "I will investigate on 5 Stocks:\n",
        "1. Apple Inc. (AAPL)\n",
        "2. Tesla Inc. (TSLA)\n",
        "3. Microsoft Corp. (MSFT)\n",
        "4. Amazon.com Inc. (AMZN)\n",
        "5. NVIDIA Corporation (NVDA)"
      ],
      "metadata": {
        "id": "CHwoXKYlxSAo"
      }
    },
    {
      "cell_type": "code",
      "source": [
        "start_date = \"2024-08-11\"\n",
        "end_date = \"2025-02-11\"\n",
        "\n",
        "stocks = [\"AAPL\",\"TSLA\",\"MSFT\",\"AMZN\",\"NVDA\"]\n",
        "data = yf.download(stocks, start=start_date, end=end_date, interval=\"1d\")\n",
        "print(data.columns)\n"
      ],
      "metadata": {
        "colab": {
          "base_uri": "https://localhost:8080/"
        },
        "id": "oqzCyOTPxRW3",
        "outputId": "31e615c1-3435-441e-9706-07f66a5a9805"
      },
      "execution_count": null,
      "outputs": [
        {
          "output_type": "stream",
          "name": "stderr",
          "text": [
            "[*********************100%***********************]  5 of 5 completed\n"
          ]
        },
        {
          "output_type": "stream",
          "name": "stdout",
          "text": [
            "MultiIndex([( 'Close', 'AAPL'),\n",
            "            ( 'Close', 'AMZN'),\n",
            "            ( 'Close', 'MSFT'),\n",
            "            ( 'Close', 'NVDA'),\n",
            "            ( 'Close', 'TSLA'),\n",
            "            (  'High', 'AAPL'),\n",
            "            (  'High', 'AMZN'),\n",
            "            (  'High', 'MSFT'),\n",
            "            (  'High', 'NVDA'),\n",
            "            (  'High', 'TSLA'),\n",
            "            (   'Low', 'AAPL'),\n",
            "            (   'Low', 'AMZN'),\n",
            "            (   'Low', 'MSFT'),\n",
            "            (   'Low', 'NVDA'),\n",
            "            (   'Low', 'TSLA'),\n",
            "            (  'Open', 'AAPL'),\n",
            "            (  'Open', 'AMZN'),\n",
            "            (  'Open', 'MSFT'),\n",
            "            (  'Open', 'NVDA'),\n",
            "            (  'Open', 'TSLA'),\n",
            "            ('Volume', 'AAPL'),\n",
            "            ('Volume', 'AMZN'),\n",
            "            ('Volume', 'MSFT'),\n",
            "            ('Volume', 'NVDA'),\n",
            "            ('Volume', 'TSLA')],\n",
            "           names=['Price', 'Ticker'])\n"
          ]
        }
      ]
    },
    {
      "cell_type": "markdown",
      "source": [
        "There are 5 types of Prices: Close, High, Low, Open, Volume. Close prices are often used for analysis because it reflects the final consensus on the stock price for the trading day. It is often most consistent for portfolio optimization."
      ],
      "metadata": {
        "id": "-1JG51N96BYp"
      }
    },
    {
      "cell_type": "code",
      "source": [
        "close_data = data[\"Close\"]\n",
        "print(close_data.head(10))"
      ],
      "metadata": {
        "colab": {
          "base_uri": "https://localhost:8080/"
        },
        "id": "G5dS-10o6Xzg",
        "outputId": "75422584-6f27-4f36-8060-4cd9b34b6dd6"
      },
      "execution_count": null,
      "outputs": [
        {
          "output_type": "stream",
          "name": "stdout",
          "text": [
            "Ticker            AAPL        AMZN        MSFT        NVDA        TSLA\n",
            "Date                                                                  \n",
            "2024-08-12  217.052292  166.800003  404.455902  109.003159  197.490005\n",
            "2024-08-13  220.784088  170.229996  411.614258  116.122063  207.830002\n",
            "2024-08-14  221.233093  170.100006  414.447723  118.061768  201.380005\n",
            "2024-08-15  224.226501  177.589996  419.348083  122.841026  214.139999\n",
            "2024-08-16  225.553589  177.059998  416.798309  124.560760  216.119995\n",
            "2024-08-19  225.393921  178.220001  419.846069  129.979919  222.720001\n",
            "2024-08-20  226.012573  178.880005  423.103027  127.230354  221.100006\n",
            "2024-08-21  225.902817  180.110001  422.445679  128.480164  223.270004\n",
            "2024-08-22  224.036911  176.130005  413.889954  123.720886  210.660004\n",
            "2024-08-23  226.341843  177.039993  415.125031  129.350021  220.320007\n"
          ]
        }
      ]
    },
    {
      "cell_type": "markdown",
      "source": [
        "#### 2. Preprocess Data\n"
      ],
      "metadata": {
        "id": "XEmU3SLMH0Q7"
      }
    },
    {
      "cell_type": "code",
      "source": [],
      "metadata": {
        "id": "oHPwikbT6-Ro"
      },
      "execution_count": null,
      "outputs": []
    }
  ]
}