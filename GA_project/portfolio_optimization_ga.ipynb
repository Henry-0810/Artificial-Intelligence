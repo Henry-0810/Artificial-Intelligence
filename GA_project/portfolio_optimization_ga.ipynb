{
  "nbformat": 4,
  "nbformat_minor": 0,
  "metadata": {
    "colab": {
      "provenance": [],
      "toc_visible": true,
      "include_colab_link": true
    },
    "kernelspec": {
      "name": "python3",
      "display_name": "Python 3"
    },
    "language_info": {
      "name": "python"
    }
  },
  "cells": [
    {
      "cell_type": "markdown",
      "metadata": {
        "id": "view-in-github",
        "colab_type": "text"
      },
      "source": [
        "<a href=\"https://colab.research.google.com/github/Henry-0810/Artificial-Intelligence/blob/main/portfolio_optimization_ga.ipynb\" target=\"_parent\"><img src=\"https://colab.research.google.com/assets/colab-badge.svg\" alt=\"Open In Colab\"/></a>"
      ]
    },
    {
      "cell_type": "markdown",
      "source": [
        "# **Genetic Algorithm**\n",
        "## **Portfolio Optimization**\n",
        "I will only use 5 stocks for this project. Stock data are all real-time, retrived from the Yahoo Finance API, https://pypi.org/project/yfinance/"
      ],
      "metadata": {
        "id": "nH8O89crwBDo"
      }
    },
    {
      "cell_type": "markdown",
      "source": [
        "## Problem Statement (~30%)"
      ],
      "metadata": {
        "id": "HsDO1OXBTB1r"
      }
    },
    {
      "cell_type": "markdown",
      "source": [
        "### Description of the Problem  \n",
        "Portfolio optimization is the process of selecting the best combination of assets to maximize returns while minimizing risk. A common approach is **Markowitz’s Mean-Variance Optimization (MVO)**, which constructs an efficient portfolio using expected returns, variances, and covariances of assets.  \n",
        "\n",
        "However, MVO has several limitations:  \n",
        "1. **Complexity**: Solving quadratic optimization problems becomes expensive as the number of assets grows.  \n",
        "2. **Strict Assumptions**: MVO assumes asset returns follow a normal distribution and that investors have quadratic utility functions, which is not always realistic.  \n",
        "3. **Handling Constraints**: Incorporating real-world constraints (e.g., restricting allocations to certain stocks) increases the complexity.  \n",
        "\n",
        "To overcome these challenges, this project applies a **Genetic Algorithm (GA)** to optimize portfolio allocation. Unlike MVO, GA is a heuristic approach that efficiently searches for near-optimal solutions without relying on strict mathematical assumptions.  \n",
        "\n",
        "The goal is to maximize the **Sharpe Ratio**, a key financial metric that balances return and risk, making GA a suitable technique for solving this problem.\n",
        "\n",
        "---\n",
        "\n",
        "### Discussion of the Suitability of Genetic Algorithms\n",
        "Genetic Algorithms (GAs) are well-suited for portfolio optimization due to their ability to handle large search spaces and complex constraints. Key advantages include:  \n",
        "\n",
        "- **Scalability** – GAs can handle large datasets efficiently without exponential growth in computational cost.  \n",
        "- **No Assumption of Normality** – Unlike MVO, GA does not require asset returns to be normally distributed.  \n",
        "- **Flexibility** – GA can incorporate additional constraints, such as limiting investment in specific stocks or ensuring minimum allocation to certain sectors.  \n",
        "\n",
        "Through **evolutionary selection**, GA gradually improves the portfolio allocation, leading to **higher Sharpe Ratios** compared to naive allocation strategies.\n",
        "\n",
        "---\n",
        "\n",
        "### Complexity of the Problem (Project Plan)\n",
        "Portfolio optimization presents a **high-dimensional, non-linear problem** where:  \n",
        "- Each chromosome represents a possible portfolio allocation (weights og assets).  \n",
        "- The solution space grows exponentially with the number of stocks considered.  \n",
        "- Evaluating a portfolio requires calculating historical **returns, variances, and covariances** over a defined period.  \n",
        "- The GA must balance exploration (mutation) and exploitation (crossover) to meet an optimal solution efficiently.  \n",
        "\n",
        "The complexity of the Genetic Algorithm increases with:  \n",
        "- The **number of assets** included in the portfolio (will be using only 5 in this case for a proof of concept).  \n",
        "- The **historical data period** used for return calculations (longer periods increase computational load).  \n",
        "- The **GA parameters** (population size, mutation rate, number of generations), which impact convergence speed.  \n",
        "\n",
        "Despite this complexity, GA provides a robust and adaptable approach to solving portfolio optimization problems where traditional methods struggle.\n",
        "\n",
        "---\n",
        "\n",
        "**Reference**  \n",
        "- [Markowitz Portfolio Theory](https://sites.math.washington.edu/~burke/crs/408/fin-proj/mark1.pdf)\n"
      ],
      "metadata": {
        "id": "KOfOnjYU8_Ya"
      }
    },
    {
      "cell_type": "markdown",
      "source": [
        "## The Problem and Fitness Function (~20%)"
      ],
      "metadata": {
        "id": "LjeQYJ_JStKP"
      }
    },
    {
      "cell_type": "code",
      "execution_count": 170,
      "metadata": {
        "id": "7LbdkZaqvxk6"
      },
      "outputs": [],
      "source": [
        "import pandas as pd\n",
        "import numpy as np\n",
        "import yfinance as yf\n",
        "from google.colab import drive\n",
        "import matplotlib.pyplot as plt"
      ]
    },
    {
      "cell_type": "markdown",
      "source": [
        "#### 1. Fetch Historical Data\n",
        "I will fetch 10 years of historical data starting from February 11th 2014 to February 11th 2025.\n",
        "I will investigate on 5 Stocks:\n",
        "1. Apple Inc. (AAPL)\n",
        "2. Tesla Inc. (TSLA)\n",
        "3. Microsoft Corp. (MSFT)\n",
        "4. Amazon.com Inc. (AMZN)\n",
        "5. NVIDIA Corporation (NVDA)"
      ],
      "metadata": {
        "id": "CHwoXKYlxSAo"
      }
    },
    {
      "cell_type": "code",
      "source": [
        "# start_date = \"2020-02-11\"\n",
        "start_date = \"2014-02-11\"\n",
        "end_date = \"2025-02-11\"\n",
        "\n",
        "stocks = [\"AAPL\",\"TSLA\",\"MSFT\",\"AMZN\",\"NVDA\"]\n",
        "\n",
        "# Added 5 more stocks that are not tech related to increase diversity, stocks 1st version result in poor Sharpe Ratio due to same type/industry of stocks\n",
        "stocks_2nd_version = [\"AAPL\", \"TSLA\", \"MSFT\", \"AMZN\", \"NVDA\", \"JNJ\", \"XOM\", \"KO\", \"WMT\", \"V\"]\n",
        "\n",
        "data = yf.download(stocks, start=start_date, end=end_date, interval=\"1d\")\n",
        "data_10 = yf.download(stocks_2nd_version, start=start_date, end=end_date, interval=\"1d\")\n",
        "print(\"\\n\", data.columns)\n"
      ],
      "metadata": {
        "colab": {
          "base_uri": "https://localhost:8080/"
        },
        "id": "oqzCyOTPxRW3",
        "outputId": "4cb4705c-cdb4-4a54-da38-6f62736fff57"
      },
      "execution_count": 171,
      "outputs": [
        {
          "output_type": "stream",
          "name": "stderr",
          "text": [
            "[*********************100%***********************]  5 of 5 completed\n",
            "[*********************100%***********************]  10 of 10 completed"
          ]
        },
        {
          "output_type": "stream",
          "name": "stdout",
          "text": [
            "\n",
            " MultiIndex([( 'Close', 'AAPL'),\n",
            "            ( 'Close', 'AMZN'),\n",
            "            ( 'Close', 'MSFT'),\n",
            "            ( 'Close', 'NVDA'),\n",
            "            ( 'Close', 'TSLA'),\n",
            "            (  'High', 'AAPL'),\n",
            "            (  'High', 'AMZN'),\n",
            "            (  'High', 'MSFT'),\n",
            "            (  'High', 'NVDA'),\n",
            "            (  'High', 'TSLA'),\n",
            "            (   'Low', 'AAPL'),\n",
            "            (   'Low', 'AMZN'),\n",
            "            (   'Low', 'MSFT'),\n",
            "            (   'Low', 'NVDA'),\n",
            "            (   'Low', 'TSLA'),\n",
            "            (  'Open', 'AAPL'),\n",
            "            (  'Open', 'AMZN'),\n",
            "            (  'Open', 'MSFT'),\n",
            "            (  'Open', 'NVDA'),\n",
            "            (  'Open', 'TSLA'),\n",
            "            ('Volume', 'AAPL'),\n",
            "            ('Volume', 'AMZN'),\n",
            "            ('Volume', 'MSFT'),\n",
            "            ('Volume', 'NVDA'),\n",
            "            ('Volume', 'TSLA')],\n",
            "           names=['Price', 'Ticker'])\n"
          ]
        },
        {
          "output_type": "stream",
          "name": "stderr",
          "text": [
            "\n"
          ]
        }
      ]
    },
    {
      "cell_type": "markdown",
      "source": [
        "There are 5 types of Prices: Close, High, Low, Open, Volume. Close prices are often used for analysis because it reflects the final consensus on the stock price for the trading day. It is often most consistent for portfolio optimization."
      ],
      "metadata": {
        "id": "-1JG51N96BYp"
      }
    },
    {
      "cell_type": "code",
      "source": [
        "close_data = data[\"Close\"]\n",
        "close_data_10 = data_10[\"Close\"]\n",
        "drive.mount('/content/drive')\n",
        "\n",
        "close_data.to_csv('/content/drive/My Drive/stock_data.csv')\n",
        "close_data_10.to_csv('/content/drive/My Drive/stock_data_10.csv')"
      ],
      "metadata": {
        "colab": {
          "base_uri": "https://localhost:8080/"
        },
        "id": "G5dS-10o6Xzg",
        "outputId": "4273f558-b9a7-45d2-f5b6-791af0784d61"
      },
      "execution_count": 172,
      "outputs": [
        {
          "output_type": "stream",
          "name": "stdout",
          "text": [
            "Drive already mounted at /content/drive; to attempt to forcibly remount, call drive.mount(\"/content/drive\", force_remount=True).\n"
          ]
        }
      ]
    },
    {
      "cell_type": "code",
      "source": [
        "stock_data = pd.read_csv('/content/drive/My Drive/stock_data.csv', index_col=0, parse_dates=True)\n",
        "stock_data_10 = pd.read_csv('/content/drive/My Drive/stock_data_10.csv', index_col=0, parse_dates=True)\n",
        "stock_data.head(10)"
      ],
      "metadata": {
        "colab": {
          "base_uri": "https://localhost:8080/",
          "height": 394
        },
        "id": "eRFRJ0OXi6Gg",
        "outputId": "db1fbec5-6696-4be4-b19a-54340adf7882"
      },
      "execution_count": 173,
      "outputs": [
        {
          "output_type": "execute_result",
          "data": {
            "text/plain": [
              "                 AAPL       AMZN       MSFT      NVDA       TSLA\n",
              "Date                                                            \n",
              "2014-02-11  16.780828  18.089500  31.004759  0.383127  13.108000\n",
              "2014-02-12  16.779570  17.462500  31.254999  0.396802  13.021333\n",
              "2014-02-13  17.046028  17.860001  31.371775  0.409297  13.308667\n",
              "2014-02-14  17.032240  17.867500  31.380116  0.422265  13.215333\n",
              "2014-02-18  17.094870  17.682501  31.447340  0.422029  13.580000\n",
              "2014-02-19  16.824978  17.368999  31.522980  0.427688  12.909333\n",
              "2014-02-20  16.630228  17.490000  31.724670  0.442777  13.998000\n",
              "2014-02-21  16.445503  17.337999  31.917953  0.439476  13.973333\n",
              "2014-02-24  16.517508  17.589001  31.674261  0.445842  14.510000\n",
              "2014-02-25  16.345617  17.916000  31.548187  0.443829  16.533333"
            ],
            "text/html": [
              "\n",
              "  <div id=\"df-c3787166-a932-4b9a-876b-39212ce6131b\" class=\"colab-df-container\">\n",
              "    <div>\n",
              "<style scoped>\n",
              "    .dataframe tbody tr th:only-of-type {\n",
              "        vertical-align: middle;\n",
              "    }\n",
              "\n",
              "    .dataframe tbody tr th {\n",
              "        vertical-align: top;\n",
              "    }\n",
              "\n",
              "    .dataframe thead th {\n",
              "        text-align: right;\n",
              "    }\n",
              "</style>\n",
              "<table border=\"1\" class=\"dataframe\">\n",
              "  <thead>\n",
              "    <tr style=\"text-align: right;\">\n",
              "      <th></th>\n",
              "      <th>AAPL</th>\n",
              "      <th>AMZN</th>\n",
              "      <th>MSFT</th>\n",
              "      <th>NVDA</th>\n",
              "      <th>TSLA</th>\n",
              "    </tr>\n",
              "    <tr>\n",
              "      <th>Date</th>\n",
              "      <th></th>\n",
              "      <th></th>\n",
              "      <th></th>\n",
              "      <th></th>\n",
              "      <th></th>\n",
              "    </tr>\n",
              "  </thead>\n",
              "  <tbody>\n",
              "    <tr>\n",
              "      <th>2014-02-11</th>\n",
              "      <td>16.780828</td>\n",
              "      <td>18.089500</td>\n",
              "      <td>31.004759</td>\n",
              "      <td>0.383127</td>\n",
              "      <td>13.108000</td>\n",
              "    </tr>\n",
              "    <tr>\n",
              "      <th>2014-02-12</th>\n",
              "      <td>16.779570</td>\n",
              "      <td>17.462500</td>\n",
              "      <td>31.254999</td>\n",
              "      <td>0.396802</td>\n",
              "      <td>13.021333</td>\n",
              "    </tr>\n",
              "    <tr>\n",
              "      <th>2014-02-13</th>\n",
              "      <td>17.046028</td>\n",
              "      <td>17.860001</td>\n",
              "      <td>31.371775</td>\n",
              "      <td>0.409297</td>\n",
              "      <td>13.308667</td>\n",
              "    </tr>\n",
              "    <tr>\n",
              "      <th>2014-02-14</th>\n",
              "      <td>17.032240</td>\n",
              "      <td>17.867500</td>\n",
              "      <td>31.380116</td>\n",
              "      <td>0.422265</td>\n",
              "      <td>13.215333</td>\n",
              "    </tr>\n",
              "    <tr>\n",
              "      <th>2014-02-18</th>\n",
              "      <td>17.094870</td>\n",
              "      <td>17.682501</td>\n",
              "      <td>31.447340</td>\n",
              "      <td>0.422029</td>\n",
              "      <td>13.580000</td>\n",
              "    </tr>\n",
              "    <tr>\n",
              "      <th>2014-02-19</th>\n",
              "      <td>16.824978</td>\n",
              "      <td>17.368999</td>\n",
              "      <td>31.522980</td>\n",
              "      <td>0.427688</td>\n",
              "      <td>12.909333</td>\n",
              "    </tr>\n",
              "    <tr>\n",
              "      <th>2014-02-20</th>\n",
              "      <td>16.630228</td>\n",
              "      <td>17.490000</td>\n",
              "      <td>31.724670</td>\n",
              "      <td>0.442777</td>\n",
              "      <td>13.998000</td>\n",
              "    </tr>\n",
              "    <tr>\n",
              "      <th>2014-02-21</th>\n",
              "      <td>16.445503</td>\n",
              "      <td>17.337999</td>\n",
              "      <td>31.917953</td>\n",
              "      <td>0.439476</td>\n",
              "      <td>13.973333</td>\n",
              "    </tr>\n",
              "    <tr>\n",
              "      <th>2014-02-24</th>\n",
              "      <td>16.517508</td>\n",
              "      <td>17.589001</td>\n",
              "      <td>31.674261</td>\n",
              "      <td>0.445842</td>\n",
              "      <td>14.510000</td>\n",
              "    </tr>\n",
              "    <tr>\n",
              "      <th>2014-02-25</th>\n",
              "      <td>16.345617</td>\n",
              "      <td>17.916000</td>\n",
              "      <td>31.548187</td>\n",
              "      <td>0.443829</td>\n",
              "      <td>16.533333</td>\n",
              "    </tr>\n",
              "  </tbody>\n",
              "</table>\n",
              "</div>\n",
              "    <div class=\"colab-df-buttons\">\n",
              "\n",
              "  <div class=\"colab-df-container\">\n",
              "    <button class=\"colab-df-convert\" onclick=\"convertToInteractive('df-c3787166-a932-4b9a-876b-39212ce6131b')\"\n",
              "            title=\"Convert this dataframe to an interactive table.\"\n",
              "            style=\"display:none;\">\n",
              "\n",
              "  <svg xmlns=\"http://www.w3.org/2000/svg\" height=\"24px\" viewBox=\"0 -960 960 960\">\n",
              "    <path d=\"M120-120v-720h720v720H120Zm60-500h600v-160H180v160Zm220 220h160v-160H400v160Zm0 220h160v-160H400v160ZM180-400h160v-160H180v160Zm440 0h160v-160H620v160ZM180-180h160v-160H180v160Zm440 0h160v-160H620v160Z\"/>\n",
              "  </svg>\n",
              "    </button>\n",
              "\n",
              "  <style>\n",
              "    .colab-df-container {\n",
              "      display:flex;\n",
              "      gap: 12px;\n",
              "    }\n",
              "\n",
              "    .colab-df-convert {\n",
              "      background-color: #E8F0FE;\n",
              "      border: none;\n",
              "      border-radius: 50%;\n",
              "      cursor: pointer;\n",
              "      display: none;\n",
              "      fill: #1967D2;\n",
              "      height: 32px;\n",
              "      padding: 0 0 0 0;\n",
              "      width: 32px;\n",
              "    }\n",
              "\n",
              "    .colab-df-convert:hover {\n",
              "      background-color: #E2EBFA;\n",
              "      box-shadow: 0px 1px 2px rgba(60, 64, 67, 0.3), 0px 1px 3px 1px rgba(60, 64, 67, 0.15);\n",
              "      fill: #174EA6;\n",
              "    }\n",
              "\n",
              "    .colab-df-buttons div {\n",
              "      margin-bottom: 4px;\n",
              "    }\n",
              "\n",
              "    [theme=dark] .colab-df-convert {\n",
              "      background-color: #3B4455;\n",
              "      fill: #D2E3FC;\n",
              "    }\n",
              "\n",
              "    [theme=dark] .colab-df-convert:hover {\n",
              "      background-color: #434B5C;\n",
              "      box-shadow: 0px 1px 3px 1px rgba(0, 0, 0, 0.15);\n",
              "      filter: drop-shadow(0px 1px 2px rgba(0, 0, 0, 0.3));\n",
              "      fill: #FFFFFF;\n",
              "    }\n",
              "  </style>\n",
              "\n",
              "    <script>\n",
              "      const buttonEl =\n",
              "        document.querySelector('#df-c3787166-a932-4b9a-876b-39212ce6131b button.colab-df-convert');\n",
              "      buttonEl.style.display =\n",
              "        google.colab.kernel.accessAllowed ? 'block' : 'none';\n",
              "\n",
              "      async function convertToInteractive(key) {\n",
              "        const element = document.querySelector('#df-c3787166-a932-4b9a-876b-39212ce6131b');\n",
              "        const dataTable =\n",
              "          await google.colab.kernel.invokeFunction('convertToInteractive',\n",
              "                                                    [key], {});\n",
              "        if (!dataTable) return;\n",
              "\n",
              "        const docLinkHtml = 'Like what you see? Visit the ' +\n",
              "          '<a target=\"_blank\" href=https://colab.research.google.com/notebooks/data_table.ipynb>data table notebook</a>'\n",
              "          + ' to learn more about interactive tables.';\n",
              "        element.innerHTML = '';\n",
              "        dataTable['output_type'] = 'display_data';\n",
              "        await google.colab.output.renderOutput(dataTable, element);\n",
              "        const docLink = document.createElement('div');\n",
              "        docLink.innerHTML = docLinkHtml;\n",
              "        element.appendChild(docLink);\n",
              "      }\n",
              "    </script>\n",
              "  </div>\n",
              "\n",
              "\n",
              "<div id=\"df-620d0a1a-1106-457f-87b6-01d773b983d5\">\n",
              "  <button class=\"colab-df-quickchart\" onclick=\"quickchart('df-620d0a1a-1106-457f-87b6-01d773b983d5')\"\n",
              "            title=\"Suggest charts\"\n",
              "            style=\"display:none;\">\n",
              "\n",
              "<svg xmlns=\"http://www.w3.org/2000/svg\" height=\"24px\"viewBox=\"0 0 24 24\"\n",
              "     width=\"24px\">\n",
              "    <g>\n",
              "        <path d=\"M19 3H5c-1.1 0-2 .9-2 2v14c0 1.1.9 2 2 2h14c1.1 0 2-.9 2-2V5c0-1.1-.9-2-2-2zM9 17H7v-7h2v7zm4 0h-2V7h2v10zm4 0h-2v-4h2v4z\"/>\n",
              "    </g>\n",
              "</svg>\n",
              "  </button>\n",
              "\n",
              "<style>\n",
              "  .colab-df-quickchart {\n",
              "      --bg-color: #E8F0FE;\n",
              "      --fill-color: #1967D2;\n",
              "      --hover-bg-color: #E2EBFA;\n",
              "      --hover-fill-color: #174EA6;\n",
              "      --disabled-fill-color: #AAA;\n",
              "      --disabled-bg-color: #DDD;\n",
              "  }\n",
              "\n",
              "  [theme=dark] .colab-df-quickchart {\n",
              "      --bg-color: #3B4455;\n",
              "      --fill-color: #D2E3FC;\n",
              "      --hover-bg-color: #434B5C;\n",
              "      --hover-fill-color: #FFFFFF;\n",
              "      --disabled-bg-color: #3B4455;\n",
              "      --disabled-fill-color: #666;\n",
              "  }\n",
              "\n",
              "  .colab-df-quickchart {\n",
              "    background-color: var(--bg-color);\n",
              "    border: none;\n",
              "    border-radius: 50%;\n",
              "    cursor: pointer;\n",
              "    display: none;\n",
              "    fill: var(--fill-color);\n",
              "    height: 32px;\n",
              "    padding: 0;\n",
              "    width: 32px;\n",
              "  }\n",
              "\n",
              "  .colab-df-quickchart:hover {\n",
              "    background-color: var(--hover-bg-color);\n",
              "    box-shadow: 0 1px 2px rgba(60, 64, 67, 0.3), 0 1px 3px 1px rgba(60, 64, 67, 0.15);\n",
              "    fill: var(--button-hover-fill-color);\n",
              "  }\n",
              "\n",
              "  .colab-df-quickchart-complete:disabled,\n",
              "  .colab-df-quickchart-complete:disabled:hover {\n",
              "    background-color: var(--disabled-bg-color);\n",
              "    fill: var(--disabled-fill-color);\n",
              "    box-shadow: none;\n",
              "  }\n",
              "\n",
              "  .colab-df-spinner {\n",
              "    border: 2px solid var(--fill-color);\n",
              "    border-color: transparent;\n",
              "    border-bottom-color: var(--fill-color);\n",
              "    animation:\n",
              "      spin 1s steps(1) infinite;\n",
              "  }\n",
              "\n",
              "  @keyframes spin {\n",
              "    0% {\n",
              "      border-color: transparent;\n",
              "      border-bottom-color: var(--fill-color);\n",
              "      border-left-color: var(--fill-color);\n",
              "    }\n",
              "    20% {\n",
              "      border-color: transparent;\n",
              "      border-left-color: var(--fill-color);\n",
              "      border-top-color: var(--fill-color);\n",
              "    }\n",
              "    30% {\n",
              "      border-color: transparent;\n",
              "      border-left-color: var(--fill-color);\n",
              "      border-top-color: var(--fill-color);\n",
              "      border-right-color: var(--fill-color);\n",
              "    }\n",
              "    40% {\n",
              "      border-color: transparent;\n",
              "      border-right-color: var(--fill-color);\n",
              "      border-top-color: var(--fill-color);\n",
              "    }\n",
              "    60% {\n",
              "      border-color: transparent;\n",
              "      border-right-color: var(--fill-color);\n",
              "    }\n",
              "    80% {\n",
              "      border-color: transparent;\n",
              "      border-right-color: var(--fill-color);\n",
              "      border-bottom-color: var(--fill-color);\n",
              "    }\n",
              "    90% {\n",
              "      border-color: transparent;\n",
              "      border-bottom-color: var(--fill-color);\n",
              "    }\n",
              "  }\n",
              "</style>\n",
              "\n",
              "  <script>\n",
              "    async function quickchart(key) {\n",
              "      const quickchartButtonEl =\n",
              "        document.querySelector('#' + key + ' button');\n",
              "      quickchartButtonEl.disabled = true;  // To prevent multiple clicks.\n",
              "      quickchartButtonEl.classList.add('colab-df-spinner');\n",
              "      try {\n",
              "        const charts = await google.colab.kernel.invokeFunction(\n",
              "            'suggestCharts', [key], {});\n",
              "      } catch (error) {\n",
              "        console.error('Error during call to suggestCharts:', error);\n",
              "      }\n",
              "      quickchartButtonEl.classList.remove('colab-df-spinner');\n",
              "      quickchartButtonEl.classList.add('colab-df-quickchart-complete');\n",
              "    }\n",
              "    (() => {\n",
              "      let quickchartButtonEl =\n",
              "        document.querySelector('#df-620d0a1a-1106-457f-87b6-01d773b983d5 button');\n",
              "      quickchartButtonEl.style.display =\n",
              "        google.colab.kernel.accessAllowed ? 'block' : 'none';\n",
              "    })();\n",
              "  </script>\n",
              "</div>\n",
              "\n",
              "    </div>\n",
              "  </div>\n"
            ],
            "application/vnd.google.colaboratory.intrinsic+json": {
              "type": "dataframe",
              "variable_name": "stock_data",
              "summary": "{\n  \"name\": \"stock_data\",\n  \"rows\": 2767,\n  \"fields\": [\n    {\n      \"column\": \"Date\",\n      \"properties\": {\n        \"dtype\": \"date\",\n        \"min\": \"2014-02-11 00:00:00\",\n        \"max\": \"2025-02-10 00:00:00\",\n        \"num_unique_values\": 2767,\n        \"samples\": [\n          \"2019-08-02 00:00:00\",\n          \"2017-06-12 00:00:00\",\n          \"2022-09-14 00:00:00\"\n        ],\n        \"semantic_type\": \"\",\n        \"description\": \"\"\n      }\n    },\n    {\n      \"column\": \"AAPL\",\n      \"properties\": {\n        \"dtype\": \"number\",\n        \"std\": 67.23086998377953,\n        \"min\": 16.198156356811523,\n        \"max\": 258.7355041503906,\n        \"num_unique_values\": 2725,\n        \"samples\": [\n          150.17393493652344,\n          50.17806243896485,\n          62.09252166748047\n        ],\n        \"semantic_type\": \"\",\n        \"description\": \"\"\n      }\n    },\n    {\n      \"column\": \"AMZN\",\n      \"properties\": {\n        \"dtype\": \"number\",\n        \"std\": 58.12815422878575,\n        \"min\": 14.34749984741211,\n        \"max\": 242.05999755859372,\n        \"num_unique_values\": 2718,\n        \"samples\": [\n          120.20950317382812,\n          32.165000915527344,\n          90.8730010986328\n        ],\n        \"semantic_type\": \"\",\n        \"description\": \"\"\n      }\n    },\n    {\n      \"column\": \"MSFT\",\n      \"properties\": {\n        \"dtype\": \"number\",\n        \"std\": 126.76140227185326,\n        \"min\": 31.004758834838867,\n        \"max\": 464.8543395996094,\n        \"num_unique_values\": 2682,\n        \"samples\": [\n          79.09505462646484,\n          204.7541046142578,\n          174.11581420898438\n        ],\n        \"semantic_type\": \"\",\n        \"description\": \"\"\n      }\n    },\n    {\n      \"column\": \"NVDA\",\n      \"properties\": {\n        \"dtype\": \"number\",\n        \"std\": 33.20750754155931,\n        \"min\": 0.3831268846988678,\n        \"max\": 149.41624450683594,\n        \"num_unique_values\": 2687,\n        \"samples\": [\n          2.431379556655884,\n          4.88226842880249,\n          0.6360544562339783\n        ],\n        \"semantic_type\": \"\",\n        \"description\": \"\"\n      }\n    },\n    {\n      \"column\": \"TSLA\",\n      \"properties\": {\n        \"dtype\": \"number\",\n        \"std\": 115.77403453162458,\n        \"min\": 9.57800006866455,\n        \"max\": 479.8599853515625,\n        \"num_unique_values\": 2692,\n        \"samples\": [\n          199.5933380126953,\n          187.7100067138672,\n          16.076000213623047\n        ],\n        \"semantic_type\": \"\",\n        \"description\": \"\"\n      }\n    }\n  ]\n}"
            }
          },
          "metadata": {},
          "execution_count": 173
        }
      ]
    },
    {
      "cell_type": "markdown",
      "source": [
        "#### 2. Preprocess Data (Compute Returns and Risk)\n",
        "\n",
        "Before defining the fitness function **(Sharpe Ratio)**, I need to compute some key financial metrics from the historical stock data.\n",
        "\n",
        "Portfolio optimization requires **2** fundamental components:\n",
        "1. Returns → Measures how an asset appreciates over time\n",
        "2. Risk (Standard Deviation & Covariance) → Measures relationship between assets\n",
        "\n",
        "To Calculate returns and risk, **3** statistical methods are used:\n",
        "- Daily Returns: estimate expected return of portfolio\n",
        "- Covariance Matrix: measure risk relationship between different stocks\n",
        "- Standard Deviation: quantify portfolio risk\n",
        "\n",
        "Without calculating these, Sharpe Ratio cannot be correctly evaluated."
      ],
      "metadata": {
        "id": "XEmU3SLMH0Q7"
      }
    },
    {
      "cell_type": "markdown",
      "source": [],
      "metadata": {
        "id": "fMCxddtWdhQ6"
      }
    },
    {
      "cell_type": "code",
      "source": [
        "daily_returns = stock_data.pct_change().dropna()\n",
        "\n",
        "# multiplying 252 because 1 year have 252 working days\n",
        "expected_returns = daily_returns.mean() * 252\n",
        "\n",
        "covariance_matrix = daily_returns.cov() * 252\n",
        "\n",
        "print(\"Daily Return:\\n\",daily_returns)\n",
        "print(\"\\nExpected Return:\\n\", expected_returns)\n",
        "print(\"\\nCovariance Matrix:\\n\", covariance_matrix)"
      ],
      "metadata": {
        "id": "oHPwikbT6-Ro",
        "colab": {
          "base_uri": "https://localhost:8080/"
        },
        "outputId": "b3cc5ac1-a238-4f7f-b668-cd73f3753b23"
      },
      "execution_count": 174,
      "outputs": [
        {
          "output_type": "stream",
          "name": "stdout",
          "text": [
            "Daily Return:\n",
            "                 AAPL      AMZN      MSFT      NVDA      TSLA\n",
            "Date                                                        \n",
            "2014-02-12 -0.000075 -0.034661  0.008071  0.035692 -0.006612\n",
            "2014-02-13  0.015880  0.022763  0.003736  0.031491  0.022066\n",
            "2014-02-14 -0.000809  0.000420  0.000266  0.031682 -0.007013\n",
            "2014-02-18  0.003677 -0.010354  0.002142 -0.000558  0.027594\n",
            "2014-02-19 -0.015788 -0.017729  0.002405  0.013408 -0.049386\n",
            "...              ...       ...       ...       ...       ...\n",
            "2025-02-04  0.021008  0.019543  0.003529  0.017058  0.022232\n",
            "2025-02-05 -0.001418 -0.024333  0.002231  0.052086 -0.035797\n",
            "2025-02-06  0.003226  0.011263  0.006122  0.030842 -0.010181\n",
            "2025-02-07 -0.023969 -0.040531 -0.014598  0.009015 -0.033928\n",
            "2025-02-10  0.001187  0.017412  0.006028  0.028728 -0.030114\n",
            "\n",
            "[2766 rows x 5 columns]\n",
            "\n",
            "Expected Return:\n",
            " AAPL    0.276566\n",
            "AMZN    0.285809\n",
            "MSFT    0.270833\n",
            "NVDA    0.645632\n",
            "TSLA    0.457405\n",
            "dtype: float64\n",
            "\n",
            "Covariance Matrix:\n",
            "           AAPL      AMZN      MSFT      NVDA      TSLA\n",
            "AAPL  0.077812  0.048686  0.049144  0.068946  0.064567\n",
            "AMZN  0.048686  0.105983  0.054674  0.076444  0.071345\n",
            "MSFT  0.049144  0.054674  0.070402  0.074438  0.058578\n",
            "NVDA  0.068946  0.076444  0.074438  0.225623  0.104964\n",
            "TSLA  0.064567  0.071345  0.058578  0.104964  0.317046\n"
          ]
        }
      ]
    },
    {
      "cell_type": "markdown",
      "source": [
        "#### **Observation**\n",
        "\n",
        "Expected Returns:\n",
        "- TSLA (0.005521) has the highest expected return, indicating strong growth potential but also higher risk.\n",
        "- AMZN (0.002860) and NVDA (0.002209) follow, suggesting moderate expected returns.\n",
        "- AAPL (0.000475) and MSFT (0.000236) have the lowest expected returns, implying more stability.\n",
        "\n",
        "Covariance Matrix:\n",
        "- TSLA and NVDA show the highest variances, indicating greater price fluctuations.\n",
        "- AMZN is moderately correlated with NVDA and TSLA, potentially indicating similar market influences.\n",
        "- AAPL and MSFT have lower variances, reinforcing their status as more stable assets.\n",
        "---\n",
        "**Reference**:\n",
        "- Markowitz, H. (1952). *Portfolio Selection.* The Journal of Finance, 7(1), 77-91. DOI: [10.2307/2975974](https://doi.org/10.2307/2975974)"
      ],
      "metadata": {
        "id": "zITYDzZumlgL"
      }
    },
    {
      "cell_type": "markdown",
      "source": [
        "#### 3. Sharpe Ratio - Fitness Function\n",
        "**Introduction of Sharpe Ratio** <br>\n",
        "The fitness function in my Genetic Algorithm is the **Sharpe Ratio**, a key financial metric that measures risk-adjusted return. <br>\n",
        "Formulas below:\n",
        "\\begin{aligned}\n",
        "S &= \\frac{E(R_p) - R_f}{\\sigma_p}\n",
        "\\end{aligned}\n",
        "\n",
        "where:  \n",
        "- $S$ = Sharpe Ratio  \n",
        "- $E(R_p)$ = Expected portfolio return  \n",
        "- $R_f$ = Risk-free rate (Since the portfolio consists only 5 stocks and does not include a risk-free asset like government bonds, assuming 0 simplifies calculations without affecting the optimization objective.)  \n",
        "- $\\sigma_p$ = Portfolio standard deviation (risk)  \n",
        "\n",
        "\\begin{aligned}\n",
        "E(R_p) = \\sum_{i=1}^{N} w_i E(R_i)\n",
        "\\end{aligned}\n",
        "\n",
        "where:\n",
        "- $w_i$ = weight of stock $i$\n",
        "- $R_i$ = return of stock $i$\n",
        "\n",
        "\n",
        "The Sharpe Ratio is widely used in finance because it provides a balanced measure of risk vs. return. Unlike simple return-based metrics, it penalizes high volatility, ensuring that we optimize portfolios that offer steady and reliable returns.\n",
        "\n",
        "---\n",
        "\n",
        "**Why use Sharpe Ratio as a Fitness Function?**\n",
        "1. Risk-Adjusted Performance: Ensures GA selects portfolios that maximize return while controlling risk.  \n",
        "2. Industry Standard Metric: Used by hedge funds and investment firms for portfolio evaluation.  \n",
        "3. Handles Different Market Conditions: Works well in both volatile and stable markets.  \n",
        "\n",
        "By using Genetic Algorithms, we evolve portfolios that maximize the Sharpe Ratio, leading to an optimal allocation of assets that achieves the best trade-off between *profitability and risk*.\n",
        "\n",
        "---\n",
        "\n",
        "**Reference:**  \n",
        "- Sharpe, W. F. (1966). \"Mutual Fund Performance\". *Journal of Business*, 39(1), 119-138. ([JSTOR](https://www.jstor.org/stable/2351741))  "
      ],
      "metadata": {
        "id": "8p1HozLXfTrg"
      }
    },
    {
      "cell_type": "code",
      "source": [
        "def sharpe_ratio(weights, expected_returns, covariance_matrix, risk_free_rate=0.4):\n",
        "  \"\"\"\n",
        "  Parameters:\n",
        "  - weights: Array of portfolio allocation (sum to 1)\n",
        "  - expected_returns: Expected return of each stocks\n",
        "  - covariance_matrix: Covariance matrix of stock returns\n",
        "  - risk_free_rates: default = 0\n",
        "\n",
        "  Returns:\n",
        "  - Sharpe Ratio (higher = better/optimized)\n",
        "  \"\"\"\n",
        "\n",
        "  # Reference to Sharpe Ratio formulas above\n",
        "  portfolio_return = np.dot(weights, expected_returns)\n",
        "\n",
        "  # Transpose weights to get a single variance value\n",
        "  portfolio_variance = np.dot(weights.T, np.dot(covariance_matrix * 252, weights))\n",
        "  portfolio_stddev = np.sqrt(portfolio_variance)\n",
        "\n",
        "  return (portfolio_return - risk_free_rate) / portfolio_stddev"
      ],
      "metadata": {
        "id": "Ca3vOcDPoRT4"
      },
      "execution_count": 175,
      "outputs": []
    },
    {
      "cell_type": "code",
      "source": [
        "def penalized_sharpe(weights, expected_returns, covariance_matrix, risk_free_rate=0.04):\n",
        "    sr = sharpe_ratio(weights, expected_returns, covariance_matrix, risk_free_rate)\n",
        "\n",
        "    # Penalize sparse portfolios (less than 5 non-zero weights)\n",
        "    num_assets_used = np.sum(weights > 0.05)\n",
        "    if num_assets_used < 5:\n",
        "        return sr - 0.1 * (5 - num_assets_used)  # penalize sparsity\n",
        "\n",
        "    return sr"
      ],
      "metadata": {
        "id": "I-vf9lRSkYYm"
      },
      "execution_count": 176,
      "outputs": []
    },
    {
      "cell_type": "markdown",
      "source": [
        "Testing Fitness Function"
      ],
      "metadata": {
        "id": "1S-ONrd6vGB4"
      }
    },
    {
      "cell_type": "code",
      "source": [
        "test_expected_return = np.array([0.12, 0.08, 0.10])\n",
        "test_covariance_matrix = np.array([\n",
        "    [0.04, 0.01, 0.02],\n",
        "    [0.01, 0.03, 0.015],\n",
        "    [0.02, 0.015, 0.05]\n",
        "])\n",
        "\n",
        "test_weights = np.array([0.4, 0.3, 0.4])\n",
        "\n",
        "sharpe_value = sharpe_ratio(test_weights, test_expected_return, test_covariance_matrix)\n",
        "\n",
        "print(\"Sharpe Ratio\", sharpe_value)"
      ],
      "metadata": {
        "colab": {
          "base_uri": "https://localhost:8080/"
        },
        "id": "yclZ_5O4vFm0",
        "outputId": "4850c659-4f9a-4764-d250-862b73840652"
      },
      "execution_count": 177,
      "outputs": [
        {
          "output_type": "stream",
          "name": "stdout",
          "text": [
            "Sharpe Ratio -0.10562852355255876\n"
          ]
        }
      ]
    },
    {
      "cell_type": "markdown",
      "source": [
        "### Problem Class"
      ],
      "metadata": {
        "id": "LJj4z15be7B3"
      }
    },
    {
      "cell_type": "code",
      "source": [
        "class Problem:\n",
        "  def __init__(self) -> None:\n",
        "    self.number_of_genes = 5 #10 for GA Loop 3\n",
        "    self.min_value = 0\n",
        "    self.max_value = 1\n",
        "    self.fitness_function = lambda weights: penalized_sharpe(weights, expected_returns, covariance_matrix)\n",
        "    self.acceptable_fitness = 1 # < 1 = weak (but show stability), 1 - 1.5 = performing alright, > 1.5 = strong (at the same time risky)"
      ],
      "metadata": {
        "id": "5v5o2y36e6il"
      },
      "execution_count": 178,
      "outputs": []
    },
    {
      "cell_type": "markdown",
      "source": [
        "## The Individual (~30%) - Defining the Genetic Algorithm Components"
      ],
      "metadata": {
        "id": "Ub1b7KbcxC-5"
      }
    },
    {
      "cell_type": "markdown",
      "source": [
        "### Individual Components\n",
        "#### Chromosome Representation\n",
        "In this project, each chromosome represents a portfolio allocation, where genes are the weights of individual stocks in the portfolio. Each chromosome is an array of floating-point numbers summing up to 1.\n",
        "\n",
        "For example: a chromosome might look like:\n",
        "*\\[0.25, 0.15, 0.30, 0.10, 0.20\\]*\n",
        "\n",
        "Why this representation? <br>\n",
        "- Ensures a valid portfolio allocation without needing extra constraints.  \n",
        "- Allows easy evaluation using the Sharpe Ratio as the fitness function.  \n",
        "- Works naturally with crossover and mutation without breaking feasibility.  \n",
        "\n",
        "\n",
        "These weights involve over generations to maximize the Sharpe Ratio.\n",
        "\n",
        "---\n",
        "\n",
        "#### Crossover (Recombination of Portfolios)\n",
        "Crossover allows 2 parent portfolios to combine, creating a new portfolio that inherits some traits from both.\n",
        "\n",
        "**Approach**\n",
        "- Linear Interpolation Crossover: This method ensures that the child portfolios always sum to 1, maintaining valid asset allocation without perfoming normalization.\n",
        "\n",
        "Justification of crossover approach: <br>\n",
        "- Always maintains valid weights (sum = 1) without extra renormalization.  \n",
        "- Encourages genetic diversity by allowing more flexible exploration.  \n",
        "- Works better for constrained problems like portfolio allocation compared to traditional crossover (e.g., BLX crossover, which requires post-normalization).  \n",
        "\n",
        "---\n",
        "\n",
        "#### Mutation\n",
        "Mutation helps prevent the GA from converging too quickly to a local optimum. We apply small random adjustments to portfolio weights.\n",
        "\n",
        "**Approach**: Small Weight Perturbation with Renormalization\n",
        "1. A small noise is added to randomly selected weights.  \n",
        "2. Weights are clipped to prevent negative values (ensuring no short-selling).  \n",
        "3. The portfolio is renormalized to maintain a total weight sum of 1.\n",
        "\n",
        "Justification of mutation method: <br>\n",
        "- Ensures that the weights always sum to 1 after mutation.  \n",
        "- Prevents negative weights, ensuring all assets have a valid allocation.  \n",
        "- Controlled noise to adjust weights without drastic changes.\n",
        "\n",
        "This ensures mutation improves the solution without breaking constraints."
      ],
      "metadata": {
        "id": "suH4qNNGxTvh"
      }
    },
    {
      "cell_type": "code",
      "source": [
        "from copy import deepcopy\n",
        "\n",
        "class PortfolioIndividual:\n",
        "  def __init__(self, prob):\n",
        "    \"\"\"\n",
        "    Initializes an individual portfolio (chromosomes)\n",
        "\n",
        "    Parameters:\n",
        "    - prob: An Instance of the Problem class\n",
        "    \"\"\"\n",
        "    self.chromosomes = np.random.dirichlet(np.ones(prob.number_of_genes), size=1)[0]\n",
        "    # normalize to 1\n",
        "    self.chromosomes /= np.sum(self.chromosomes)\n",
        "    self.fitness_function = prob.fitness_function\n",
        "    self.fitness = self.fitness_function(self.chromosomes)\n",
        "\n",
        "  def crossover(self, parent2, explore_crossover=0.1):\n",
        "    \"\"\"\n",
        "    Linear Interpolation Crossover, more details above\n",
        "\n",
        "    Parameters:\n",
        "    - parent2: Another PortfolioIndividual to crossover with\n",
        "    - explore_crossover: Exploration factor (default 0.1)\n",
        "\n",
        "    Returns:\n",
        "    - 2 children PortfolioIndividuals\n",
        "    \"\"\"\n",
        "    alpha = np.random.uniform(-explore_crossover, 1 + explore_crossover)\n",
        "\n",
        "    child1 = deepcopy(self)\n",
        "    child2 = deepcopy(parent2)\n",
        "\n",
        "    child1.chromosomes = alpha * self.chromosomes + (1 - alpha) * parent2.chromosomes\n",
        "    child2.chromosomes = alpha * parent2.chromosomes + (1 - alpha) * self.chromosomes\n",
        "\n",
        "    return child1, child2\n",
        "\n",
        "  def mutate(self, mutation_rate=0.1, mutation_strength=0.05):\n",
        "    \"\"\"\n",
        "    Applies mutation by slightly adding noise to random portfolio weights\n",
        "\n",
        "    Parameters:\n",
        "    - mutation_rate: Probability of mutation to happen for each weight\n",
        "    - mutation_strength: Standard deviation of noise added\n",
        "\n",
        "    Returns:\n",
        "    - Mutated PortfolioIndividual\n",
        "    \"\"\"\n",
        "    mutated_portfolio = deepcopy(self)\n",
        "\n",
        "    for i in range(len(mutated_portfolio.chromosomes)):\n",
        "      if np.random.rand() < mutation_rate:\n",
        "        mutated_portfolio.chromosomes[i] += np.random.normal(0, mutation_strength)\n",
        "\n",
        "    mutated_portfolio.chromosomes = np.clip(mutated_portfolio.chromosomes, 0, 1)\n",
        "\n",
        "    mutated_portfolio.chromosomes /= np.sum(mutated_portfolio.chromosomes)\n",
        "\n",
        "    return mutated_portfolio\n",
        "\n"
      ],
      "metadata": {
        "id": "07cipGFIxJ6N"
      },
      "execution_count": 179,
      "outputs": []
    },
    {
      "cell_type": "markdown",
      "source": [
        "## Running the GA algorithm (~10%)\n"
      ],
      "metadata": {
        "id": "iRTFVcbcY7yP"
      }
    },
    {
      "cell_type": "markdown",
      "source": [
        "### Selection, Parameters and GA\n",
        "#### Parameter Choices\n",
        "To optimize portfolio allocation, we define the following Genetic Algorithm parameters:  \n",
        "\n",
        "- Population Size: 50 portfolios per generation balance between diversity & efficiency.  \n",
        "- Number of Generations: 100 iterations to ensures sufficient evolution.  \n",
        "- Mutation Rate: 10% introduces variation without excessive randomness.  \n",
        "- Mutation Strength: 5% so noise is controlled.  \n",
        "- Crossover Rate: 80% to ensure effective recombination.  \n",
        "\n",
        "These parameters were chosen based on standard GA heuristics and financial constraints.\n",
        "\n",
        "---\n",
        "\n",
        "#### Selection Method: Tournament Selection\n",
        "To ensure only the best-performing portfolios move to the next generation, I plan to use **Tournament Selection**:  \n",
        "\n",
        "How it Works?\n",
        "- Randomly pick 3 portfolios from the population.  \n",
        "- The portfolio with the **highest Sharpe Ratio** wins.  \n",
        "- Repeat until enough parents are selected.\n",
        "\n",
        "Tournament Selection vs. Roulette Wheel:\n",
        "- More stable because it avoids overly favoring extreme values.  \n",
        "- Better suited for small population sizes like this project.\n",
        "\n",
        "Reference below...\n",
        "\n",
        "---\n",
        "\n",
        "#### Modifications to `run_genetic`\n",
        "1. Implemented Tournament Selection for better stability.  \n",
        "2. Dynamically adjusted mutation rate to avoid premature convergence.  \n",
        "3. Tracked convergence metrics to assess solution quality.\n",
        "\n",
        "---\n",
        "\n",
        "#### **Reference**\n",
        "- [Tournament Selection](https://www.baeldung.com/cs/ga-tournament-selection)\n",
        "- [Comparison between tournament and roulette wheel](https://www.researchgate.net/publication/221216912_Comparison_of_Performance_between_Different_Selection_Strategies_on_Simple_Genetic_Algorithms)"
      ],
      "metadata": {
        "id": "rRyIKDmTeisi"
      }
    },
    {
      "cell_type": "code",
      "source": [
        "class Parameters:\n",
        "  def __init__(self):\n",
        "    self.population_size = 50\n",
        "    self.number_of_generations = 100\n",
        "    self.mutation_rate = 0.1\n",
        "    self.mutation_strength = 0.05\n",
        "    self.explore_crossover_range = 0.2\n",
        "    self.birth_rate_per_generation = 1\n",
        "    self.tournament_size = 3"
      ],
      "metadata": {
        "id": "J0ILy-Y9a4Ta"
      },
      "execution_count": 180,
      "outputs": []
    },
    {
      "cell_type": "code",
      "source": [
        "def choose_parents(population, tournament_size=3):\n",
        "  \"\"\"\n",
        "  Tournament Selection: choose 3 random parents, calculate their sharpe ratio and return the highest.\n",
        "\n",
        "  Parameters:\n",
        "  - tournament_size: number of contestents (i.e. number of parents chosen to compete in this case)\n",
        "\n",
        "  Returns:\n",
        "  - 2 parents from 2 tournaments with highest fitness function (Sharpe Ratio)\n",
        "  \"\"\"\n",
        "  tournament1 = np.random.choice(population, tournament_size)\n",
        "  tournament2 = np.random.choice(population, tournament_size)\n",
        "\n",
        "  parent1 = max(tournament1, key=lambda x: x.fitness)\n",
        "  parent2 = max(tournament2, key=lambda x: x.fitness)\n",
        "\n",
        "  return parent1, parent2\n"
      ],
      "metadata": {
        "id": "d7jqwuNke59k"
      },
      "execution_count": 181,
      "outputs": []
    },
    {
      "cell_type": "code",
      "source": [
        "def run_genetic(prob, params, experiment_name=\"Experiment 1\"):\n",
        "  # added this for visualization\n",
        "  fitness_history = []\n",
        "\n",
        "  # 1. Read variables\n",
        "  num_of_population = params.population_size\n",
        "  rate_of_gene_mutation = params.mutation_rate\n",
        "  mutation_strength = params.mutation_strength\n",
        "  explore_crossover = params.explore_crossover_range\n",
        "  max_num_of_generations = params.number_of_generations\n",
        "\n",
        "  fitness_function = prob.fitness_function\n",
        "  acceptable_fitness = prob.acceptable_fitness\n",
        "  num_of_child_per_generation = num_of_population * params.birth_rate_per_generation\n",
        "\n",
        "  # 2. Create population\n",
        "  population = []\n",
        "  best_solution = PortfolioIndividual(prob)\n",
        "  best_solution.fitness = -np.inf\n",
        "\n",
        "  for i in range(num_of_population):\n",
        "    new_individual = PortfolioIndividual(prob)\n",
        "    new_individual.fitness = fitness_function(new_individual.chromosomes)\n",
        "\n",
        "    if new_individual.fitness > best_solution.fitness:\n",
        "      best_solution = deepcopy(new_individual)\n",
        "\n",
        "    population.append(new_individual)\n",
        "\n",
        "  print(f\"Initial Population Size: {len(population)}\")\n",
        "\n",
        "  # 3. Start GA Evolution Loop\n",
        "  for gen in range(max_num_of_generations):\n",
        "    children = []\n",
        "\n",
        "    # Generate children through crossover and mutation\n",
        "    while(len(children) < num_of_child_per_generation):\n",
        "      parent1, parent2 = choose_parents(population=population, tournament_size=params.tournament_size)\n",
        "\n",
        "      child1, child2 = parent1.crossover(parent2, explore_crossover)\n",
        "\n",
        "      child1 = child1.mutate(rate_of_gene_mutation, mutation_strength)\n",
        "      child2 = child2.mutate(rate_of_gene_mutation, mutation_strength)\n",
        "\n",
        "      child1.fitness = fitness_function(child1.chromosomes)\n",
        "      child2.fitness = fitness_function(child2.chromosomes)\n",
        "\n",
        "      children.append(child1)\n",
        "      children.append(child2)\n",
        "\n",
        "    # 4. Add children to new population\n",
        "    population += children\n",
        "\n",
        "    # 5. Sort\n",
        "    population = sorted(population, key=lambda x: x.fitness, reverse=True)\n",
        "\n",
        "    # 6. Cull population to fixed size\n",
        "    population = population[:num_of_population]\n",
        "\n",
        "    if population[0].fitness > best_solution.fitness:\n",
        "      best_solution = deepcopy(population[0])\n",
        "      fitness_history.append(best_solution.fitness)\n",
        "      print(f\"Generation {gen + 1}: New Best Sharpe Ratio = {best_solution.fitness}\")\n",
        "\n",
        "    if best_solution.fitness > acceptable_fitness:\n",
        "      print(\"Optimal portfolio found, stopping early.\")\n",
        "      break\n",
        "\n",
        "  return population, best_solution, fitness_history"
      ],
      "metadata": {
        "id": "7GZUmm4gRdVp"
      },
      "execution_count": 182,
      "outputs": []
    },
    {
      "cell_type": "markdown",
      "source": [
        "## Results and conclusions (~10%)"
      ],
      "metadata": {
        "id": "Q0J8Jla8O3nE"
      }
    },
    {
      "cell_type": "markdown",
      "source": [
        "### Testing on GA (Loop 1) with default parameters\n",
        "Stock Data: 5 years, February 11th 2020 - Febraury 11th 2025"
      ],
      "metadata": {
        "id": "F7W8YpPSdT7Y"
      }
    },
    {
      "cell_type": "code",
      "source": [
        "p = Problem()"
      ],
      "metadata": {
        "id": "DQ9aTxuYdTgS"
      },
      "execution_count": 183,
      "outputs": []
    },
    {
      "cell_type": "code",
      "source": [
        "p.number_of_genes"
      ],
      "metadata": {
        "colab": {
          "base_uri": "https://localhost:8080/"
        },
        "id": "BNv9nCnikh8g",
        "outputId": "f891df15-30d5-422a-89c8-e23acf003181"
      },
      "execution_count": 184,
      "outputs": [
        {
          "output_type": "execute_result",
          "data": {
            "text/plain": [
              "5"
            ]
          },
          "metadata": {},
          "execution_count": 184
        }
      ]
    },
    {
      "cell_type": "code",
      "source": [
        "assets = PortfolioIndividual(p)\n",
        "print(assets.chromosomes)\n",
        "print(sum(assets.chromosomes))"
      ],
      "metadata": {
        "colab": {
          "base_uri": "https://localhost:8080/"
        },
        "id": "4EKK94utdik1",
        "outputId": "f5c7bded-18e6-4255-bc42-ac9fec9c3afc"
      },
      "execution_count": 185,
      "outputs": [
        {
          "output_type": "stream",
          "name": "stdout",
          "text": [
            "[0.25736748 0.08171347 0.429022   0.22104945 0.01084759]\n",
            "1.0\n"
          ]
        }
      ]
    },
    {
      "cell_type": "code",
      "source": [
        "params = Parameters()"
      ],
      "metadata": {
        "id": "uIR7s50UeBdT"
      },
      "execution_count": 186,
      "outputs": []
    },
    {
      "cell_type": "code",
      "source": [
        "population, best_solution, fitness_history = run_genetic(p, params=params)\n",
        "best_solution.fitness, best_solution.chromosomes"
      ],
      "metadata": {
        "colab": {
          "base_uri": "https://localhost:8080/"
        },
        "id": "xX2ykaLYdv0O",
        "outputId": "8746cb9d-10ef-4144-ce96-1baa9e0ea8a6"
      },
      "execution_count": 188,
      "outputs": [
        {
          "output_type": "stream",
          "name": "stdout",
          "text": [
            "Initial Population Size: 50\n",
            "Generation 2: New Best Sharpe Ratio = 0.08206581393829661\n",
            "Generation 3: New Best Sharpe Ratio = 0.08217026370523473\n",
            "Generation 5: New Best Sharpe Ratio = 0.08237636696501226\n",
            "Generation 6: New Best Sharpe Ratio = 0.08239233313936184\n",
            "Generation 7: New Best Sharpe Ratio = 0.08239939663154862\n",
            "Generation 8: New Best Sharpe Ratio = 0.08244392304793365\n",
            "Generation 9: New Best Sharpe Ratio = 0.08245514843402389\n",
            "Generation 11: New Best Sharpe Ratio = 0.08245912607058133\n",
            "Generation 12: New Best Sharpe Ratio = 0.08246937263251093\n",
            "Generation 13: New Best Sharpe Ratio = 0.08248086531380494\n",
            "Generation 14: New Best Sharpe Ratio = 0.08250059095009998\n",
            "Generation 16: New Best Sharpe Ratio = 0.0825158796006459\n",
            "Generation 19: New Best Sharpe Ratio = 0.08252523213288089\n",
            "Generation 20: New Best Sharpe Ratio = 0.08253416403301542\n",
            "Generation 21: New Best Sharpe Ratio = 0.08253488239375474\n",
            "Generation 22: New Best Sharpe Ratio = 0.08253717359907477\n",
            "Generation 23: New Best Sharpe Ratio = 0.08253996400088567\n",
            "Generation 25: New Best Sharpe Ratio = 0.08254010110177437\n",
            "Generation 27: New Best Sharpe Ratio = 0.0825433950517014\n",
            "Generation 28: New Best Sharpe Ratio = 0.08254432861212112\n",
            "Generation 29: New Best Sharpe Ratio = 0.08254579250875589\n",
            "Generation 30: New Best Sharpe Ratio = 0.08254593043140927\n",
            "Generation 31: New Best Sharpe Ratio = 0.08255123412567733\n",
            "Generation 33: New Best Sharpe Ratio = 0.08255157018172597\n",
            "Generation 36: New Best Sharpe Ratio = 0.08255161632276717\n",
            "Generation 37: New Best Sharpe Ratio = 0.08255224487558428\n",
            "Generation 38: New Best Sharpe Ratio = 0.08255322523599047\n",
            "Generation 41: New Best Sharpe Ratio = 0.08255329306967278\n",
            "Generation 44: New Best Sharpe Ratio = 0.08255383288608294\n",
            "Generation 45: New Best Sharpe Ratio = 0.08255385655215003\n",
            "Generation 47: New Best Sharpe Ratio = 0.08255397954337179\n",
            "Generation 48: New Best Sharpe Ratio = 0.08255401891300723\n",
            "Generation 49: New Best Sharpe Ratio = 0.08255402735192255\n",
            "Generation 50: New Best Sharpe Ratio = 0.0825550477732303\n",
            "Generation 51: New Best Sharpe Ratio = 0.08255607079249579\n",
            "Generation 53: New Best Sharpe Ratio = 0.08255667415172091\n",
            "Generation 54: New Best Sharpe Ratio = 0.08255673997276519\n",
            "Generation 55: New Best Sharpe Ratio = 0.08255679001636713\n",
            "Generation 56: New Best Sharpe Ratio = 0.08255752885965886\n",
            "Generation 58: New Best Sharpe Ratio = 0.08255757477642969\n",
            "Generation 61: New Best Sharpe Ratio = 0.08255759505297659\n",
            "Generation 62: New Best Sharpe Ratio = 0.08255760902052936\n",
            "Generation 64: New Best Sharpe Ratio = 0.08255761896103651\n",
            "Generation 65: New Best Sharpe Ratio = 0.08255798596424797\n",
            "Generation 66: New Best Sharpe Ratio = 0.08255815633977374\n",
            "Generation 69: New Best Sharpe Ratio = 0.08255819087322554\n",
            "Generation 71: New Best Sharpe Ratio = 0.08255821440429911\n",
            "Generation 72: New Best Sharpe Ratio = 0.08255822921236959\n",
            "Generation 73: New Best Sharpe Ratio = 0.08255826799315988\n",
            "Generation 74: New Best Sharpe Ratio = 0.08255838653282983\n",
            "Generation 76: New Best Sharpe Ratio = 0.08255839839335843\n",
            "Generation 77: New Best Sharpe Ratio = 0.0825584083459588\n",
            "Generation 78: New Best Sharpe Ratio = 0.08255840945434788\n",
            "Generation 79: New Best Sharpe Ratio = 0.08255840966572814\n",
            "Generation 80: New Best Sharpe Ratio = 0.08255844335574528\n",
            "Generation 84: New Best Sharpe Ratio = 0.08255844399413699\n",
            "Generation 85: New Best Sharpe Ratio = 0.08255844581689814\n",
            "Generation 86: New Best Sharpe Ratio = 0.08255844678676699\n",
            "Generation 91: New Best Sharpe Ratio = 0.08255844679090175\n",
            "Generation 92: New Best Sharpe Ratio = 0.08255844681443217\n",
            "Generation 93: New Best Sharpe Ratio = 0.08255844685665154\n",
            "Generation 95: New Best Sharpe Ratio = 0.08255844685786806\n",
            "Generation 97: New Best Sharpe Ratio = 0.08255844685946187\n",
            "Generation 99: New Best Sharpe Ratio = 0.08255844686068667\n"
          ]
        },
        {
          "output_type": "execute_result",
          "data": {
            "text/plain": [
              "(np.float64(0.08255844686068667),\n",
              " array([0.1483181 , 0.05010319, 0.05040617, 0.63687634, 0.11429621]))"
            ]
          },
          "metadata": {},
          "execution_count": 188
        }
      ]
    },
    {
      "cell_type": "markdown",
      "source": [
        "### Observation for First GA Loop (Default Parameters)\n",
        "- Premature convergence occurred, stopping improvement early (~Generation 100-110).  \n",
        "- **Final Sharpe Ratio = 0.089**, which is too low (a good portfolio should have **Sharpe Ratio > 1**). In a real life scenario, a Sharpe Ratio of less than 1 indicates a weak portfolio because returns are not high enough relative to risk.\n",
        "- Highly concentrated portfolio (81% in one asset, 19% in another, 0% elsewhere).  \n",
        "- Needs better parameter tuning (mutation, crossover, population size) to improve diversification and avoid local optima.\n"
      ],
      "metadata": {
        "id": "Pw6KPFgs34R0"
      }
    },
    {
      "cell_type": "markdown",
      "source": [
        "### Testing on GA (Loop 2) with Tuned parameters\n",
        "Stock Data: 10 years, February 11th 2014 - February 11th 2025"
      ],
      "metadata": {
        "id": "9NWo3DGHAucP"
      }
    },
    {
      "cell_type": "code",
      "source": [
        "params_tuned_1 = Parameters()\n",
        "params_tuned_1.population = 200\n",
        "params_tuned_1.explore_crossover_range = 0.1\n",
        "params_tuned_1.mutation_rate = 0.4\n",
        "params_tuned_1.mutation_strength = 0.5\n",
        "params_tuned_1.number_of_generations = 200\n",
        "params_tuned_1.birth_rate_per_generation = 1\n",
        "params_tuned_1.tournament_size = 7"
      ],
      "metadata": {
        "id": "cqoaCgyw5i-R"
      },
      "execution_count": 189,
      "outputs": []
    },
    {
      "cell_type": "code",
      "source": [
        "population2, best_solution_tuned_1, fitness_history = run_genetic(p, params_tuned_1, experiment_name=\"Experiment 2 - Tuned Params\")\n",
        "best_solution_tuned_1.fitness, best_solution_tuned_1.chromosomes"
      ],
      "metadata": {
        "id": "4ms0cfCE6mOv",
        "outputId": "c55494fa-c256-4427-e1fe-9a5cb3b2e0c6",
        "colab": {
          "base_uri": "https://localhost:8080/"
        }
      },
      "execution_count": 190,
      "outputs": [
        {
          "output_type": "stream",
          "name": "stdout",
          "text": [
            "Initial Population Size: 50\n",
            "Generation 1: New Best Sharpe Ratio = 0.0819183913683525\n",
            "Generation 3: New Best Sharpe Ratio = 0.08222216235395677\n",
            "Generation 4: New Best Sharpe Ratio = 0.08224121515657161\n",
            "Generation 5: New Best Sharpe Ratio = 0.08234010175766689\n",
            "Generation 6: New Best Sharpe Ratio = 0.08234618094221534\n",
            "Generation 7: New Best Sharpe Ratio = 0.08235793862941053\n",
            "Generation 8: New Best Sharpe Ratio = 0.08241606045455092\n",
            "Generation 10: New Best Sharpe Ratio = 0.08247834635135123\n",
            "Generation 15: New Best Sharpe Ratio = 0.08248035854299997\n",
            "Generation 18: New Best Sharpe Ratio = 0.08248405802634158\n",
            "Generation 19: New Best Sharpe Ratio = 0.08249849416795375\n",
            "Generation 20: New Best Sharpe Ratio = 0.0825008458525885\n",
            "Generation 21: New Best Sharpe Ratio = 0.08252147390528385\n",
            "Generation 25: New Best Sharpe Ratio = 0.08252231905394782\n",
            "Generation 26: New Best Sharpe Ratio = 0.08252280999217841\n",
            "Generation 31: New Best Sharpe Ratio = 0.08252282041012288\n",
            "Generation 36: New Best Sharpe Ratio = 0.08252282094724847\n",
            "Generation 37: New Best Sharpe Ratio = 0.08252282138693563\n",
            "Generation 44: New Best Sharpe Ratio = 0.08252282139263556\n",
            "Generation 52: New Best Sharpe Ratio = 0.08252283235367248\n",
            "Generation 60: New Best Sharpe Ratio = 0.08254287407095325\n",
            "Generation 66: New Best Sharpe Ratio = 0.08254472779345773\n",
            "Generation 74: New Best Sharpe Ratio = 0.08254493943925702\n",
            "Generation 78: New Best Sharpe Ratio = 0.08254922371838407\n",
            "Generation 89: New Best Sharpe Ratio = 0.08254970030966974\n",
            "Generation 92: New Best Sharpe Ratio = 0.08254970127008979\n",
            "Generation 93: New Best Sharpe Ratio = 0.0825497585599554\n",
            "Generation 95: New Best Sharpe Ratio = 0.08255345188645799\n",
            "Generation 96: New Best Sharpe Ratio = 0.0825535055235804\n",
            "Generation 100: New Best Sharpe Ratio = 0.08255361801088225\n",
            "Generation 101: New Best Sharpe Ratio = 0.08255364351095172\n",
            "Generation 107: New Best Sharpe Ratio = 0.08255366808467637\n",
            "Generation 108: New Best Sharpe Ratio = 0.08255367246930961\n",
            "Generation 109: New Best Sharpe Ratio = 0.08255367320702091\n",
            "Generation 111: New Best Sharpe Ratio = 0.0825536771793146\n",
            "Generation 112: New Best Sharpe Ratio = 0.08255368629265779\n",
            "Generation 123: New Best Sharpe Ratio = 0.08255368629358842\n",
            "Generation 125: New Best Sharpe Ratio = 0.0825536862970504\n",
            "Generation 137: New Best Sharpe Ratio = 0.08255397373526815\n",
            "Generation 140: New Best Sharpe Ratio = 0.08255436344939723\n",
            "Generation 145: New Best Sharpe Ratio = 0.08255437150676742\n",
            "Generation 157: New Best Sharpe Ratio = 0.08255437161478422\n",
            "Generation 172: New Best Sharpe Ratio = 0.08255750050138766\n",
            "Generation 174: New Best Sharpe Ratio = 0.0825576307724899\n",
            "Generation 177: New Best Sharpe Ratio = 0.08255775193385283\n",
            "Generation 181: New Best Sharpe Ratio = 0.08255782162098957\n",
            "Generation 183: New Best Sharpe Ratio = 0.08255782340919161\n",
            "Generation 187: New Best Sharpe Ratio = 0.08255783163878627\n",
            "Generation 196: New Best Sharpe Ratio = 0.082557890953285\n"
          ]
        },
        {
          "output_type": "execute_result",
          "data": {
            "text/plain": [
              "(np.float64(0.082557890953285),\n",
              " array([0.1452856 , 0.05026826, 0.05018445, 0.64105606, 0.11320562]))"
            ]
          },
          "metadata": {},
          "execution_count": 190
        }
      ]
    },
    {
      "cell_type": "code",
      "source": [
        "plt.plot(fitness_history)\n",
        "plt.title(\"Experiment 2 - Sharpe Ratio Evolution\")\n",
        "plt.xlabel(\"Generation\")\n",
        "plt.ylabel(\"Best Sharpe Ratio\")\n",
        "plt.grid(True)\n",
        "plt.show()"
      ],
      "metadata": {
        "id": "JcPGo6ZQRx7c",
        "outputId": "f9cf4952-e006-41e6-c2ca-399c77bfcd38",
        "colab": {
          "base_uri": "https://localhost:8080/",
          "height": 472
        }
      },
      "execution_count": 191,
      "outputs": [
        {
          "output_type": "display_data",
          "data": {
            "text/plain": [
              "<Figure size 640x480 with 1 Axes>"
            ],
            "image/png": "[encoded data removed]"
          },
          "metadata": {}
        }
      ]
    },
    {
      "cell_type": "markdown",
      "source": [
        "### Observation for 2nd GA Loop (Tuned Parameters & 10 years historical data)\n",
        "- Slight improvement in Sharpe Ratio (0.082 → 0.0825), but still far from an ideal portfolio (Sharpe Ratio > 1).\n",
        "- Premature convergence still occurs, with minimal improvements after ~Generation 190-200.\n",
        "- More diversified asset allocation compared to the 5-year GA loop, but still concentrated (53% in one asset).\n",
        "\n",
        "Parameter tuning had some impact, but the dataset itself likely limits further optimization. The issue is no longer GA tuning but rather stock selection and market conditions."
      ],
      "metadata": {
        "id": "H5fJubheVLXu"
      }
    },
    {
      "cell_type": "markdown",
      "source": [
        "### Testing on GA Loop 3: Adding More Diversified Stocks & higher acceptable fitness\n",
        "In the previous GA runs, the selected stocks were **tech-heavy**, which may have limited portfolio optimization.  \n",
        "\n",
        "For this loop, I added 6 new stocks from different sectors to increase diversification:  \n",
        "- **\"JNJ\"** (Healthcare) - Johnson & Johnson\n",
        "- **\"UNH\"** (Healthcare) - UnitedHealth Group Inc\n",
        "- **\"BRK-B\"** (Investment) - Warren Buffett's Berkshire Hathaway\n",
        "- **\"JPM\"** (Financial Services) - JPMorgan Chase & Co\n",
        "- **\"XOM\"** (Energy) - Exxon Mobil Corp\n",
        "- **\"MCD\"** (Retail) - McDonald's\n",
        "\n",
        "The goal is to see if adding diverse sectors helps the GA find a better portfolio allocation with a higher Sharpe Ratio.  \n",
        "\n",
        "The GA parameters and 10-year historical data remain the same as the previous run for consistency.\n"
      ],
      "metadata": {
        "id": "aufyTPcQXxSu"
      }
    },
    {
      "cell_type": "code",
      "source": [
        "daily_returns = np.log(stock_data_10 / stock_data_10.shift(1)).dropna()\n",
        "\n",
        "# multiplying 252 because 1 year have 252 working days\n",
        "expected_returns = daily_returns.mean() * 252\n",
        "\n",
        "covariance_matrix = daily_returns.cov() * 252\n"
      ],
      "metadata": {
        "id": "RRLL8z_yf2_L"
      },
      "execution_count": 192,
      "outputs": []
    },
    {
      "cell_type": "code",
      "source": [
        "p10 = Problem()\n",
        "p10.number_of_genes = 10\n",
        "p.acceptable_fitness = 1.5"
      ],
      "metadata": {
        "id": "v3mIKH4KY2kQ"
      },
      "execution_count": 193,
      "outputs": []
    },
    {
      "cell_type": "code",
      "source": [
        "assets = PortfolioIndividual(p10)\n",
        "print(assets.chromosomes)\n",
        "print(sum(assets.chromosomes))"
      ],
      "metadata": {
        "id": "_PsiC4nsY5-l",
        "outputId": "7c72b9f5-a54a-443d-c426-8e61a674c35f",
        "colab": {
          "base_uri": "https://localhost:8080/"
        }
      },
      "execution_count": 195,
      "outputs": [
        {
          "output_type": "stream",
          "name": "stdout",
          "text": [
            "[0.0516809  0.12447989 0.17421936 0.07452841 0.14671665 0.00508367\n",
            " 0.01121863 0.33233054 0.00413435 0.07560761]\n",
            "1.0\n"
          ]
        }
      ]
    },
    {
      "cell_type": "code",
      "source": [
        "params_tuned_2 = Parameters()\n",
        "params_tuned_2.population = 500\n",
        "params_tuned_2.explore_crossover_range = 0.2\n",
        "params_tuned_2.mutation_rate = 0.2\n",
        "params_tuned_2.mutation_strength = 0.3\n",
        "params_tuned_2.number_of_generations = 500\n",
        "params_tuned_2.birth_rate_per_generation = 1\n",
        "params_tuned_2.tournament_size = 7"
      ],
      "metadata": {
        "id": "HtZp5FGjhhp4"
      },
      "execution_count": 196,
      "outputs": []
    },
    {
      "cell_type": "code",
      "source": [
        "population3, best_solution_tuned_2, fitness_history = run_genetic(p10, params_tuned_2, experiment_name=\"Experiment 3 - Added new Stocks for diversity\")\n",
        "best_solution_tuned_2.fitness, best_solution_tuned_2.chromosomes"
      ],
      "metadata": {
        "id": "V-8-tFJHYOfP",
        "outputId": "e1df62eb-3943-45e9-93a5-9d43baec68f0",
        "colab": {
          "base_uri": "https://localhost:8080/"
        }
      },
      "execution_count": 197,
      "outputs": [
        {
          "output_type": "stream",
          "name": "stdout",
          "text": [
            "Initial Population Size: 50\n",
            "Generation 1: New Best Sharpe Ratio = 0.06607272920400169\n",
            "Generation 2: New Best Sharpe Ratio = 0.06666414845652266\n",
            "Generation 3: New Best Sharpe Ratio = 0.06797684509203003\n",
            "Generation 4: New Best Sharpe Ratio = 0.06809367677363892\n",
            "Generation 5: New Best Sharpe Ratio = 0.06829423940652184\n",
            "Generation 6: New Best Sharpe Ratio = 0.06875690597358713\n",
            "Generation 7: New Best Sharpe Ratio = 0.06877971121078973\n",
            "Generation 10: New Best Sharpe Ratio = 0.06884094915175636\n",
            "Generation 12: New Best Sharpe Ratio = 0.06887526808413684\n",
            "Generation 13: New Best Sharpe Ratio = 0.06889629859777949\n",
            "Generation 14: New Best Sharpe Ratio = 0.06890432256573094\n",
            "Generation 15: New Best Sharpe Ratio = 0.06893189580359368\n",
            "Generation 16: New Best Sharpe Ratio = 0.06902323192381823\n",
            "Generation 18: New Best Sharpe Ratio = 0.06904965918016649\n",
            "Generation 19: New Best Sharpe Ratio = 0.06905064009809653\n",
            "Generation 20: New Best Sharpe Ratio = 0.0690529188500399\n",
            "Generation 22: New Best Sharpe Ratio = 0.0690533891277811\n",
            "Generation 23: New Best Sharpe Ratio = 0.06905363418657733\n",
            "Generation 27: New Best Sharpe Ratio = 0.06905787990102047\n",
            "Generation 28: New Best Sharpe Ratio = 0.0690885710233745\n",
            "Generation 31: New Best Sharpe Ratio = 0.06909068580581085\n",
            "Generation 32: New Best Sharpe Ratio = 0.06909145962939293\n",
            "Generation 35: New Best Sharpe Ratio = 0.06909161984662279\n",
            "Generation 36: New Best Sharpe Ratio = 0.06909174032757184\n",
            "Generation 37: New Best Sharpe Ratio = 0.06909575556450198\n",
            "Generation 39: New Best Sharpe Ratio = 0.06909630409167965\n",
            "Generation 40: New Best Sharpe Ratio = 0.06909826551081866\n",
            "Generation 41: New Best Sharpe Ratio = 0.06909976557093023\n",
            "Generation 42: New Best Sharpe Ratio = 0.06910980978117218\n",
            "Generation 43: New Best Sharpe Ratio = 0.0691100359218524\n",
            "Generation 46: New Best Sharpe Ratio = 0.06911044689928128\n",
            "Generation 47: New Best Sharpe Ratio = 0.06911877840706666\n",
            "Generation 48: New Best Sharpe Ratio = 0.06911989316384189\n",
            "Generation 50: New Best Sharpe Ratio = 0.06912096583198042\n",
            "Generation 51: New Best Sharpe Ratio = 0.06913345158301006\n",
            "Generation 53: New Best Sharpe Ratio = 0.06913513089194208\n",
            "Generation 54: New Best Sharpe Ratio = 0.06913554951381065\n",
            "Generation 58: New Best Sharpe Ratio = 0.06913771991467202\n",
            "Generation 61: New Best Sharpe Ratio = 0.06914043673094629\n",
            "Generation 63: New Best Sharpe Ratio = 0.06914162933041185\n",
            "Generation 64: New Best Sharpe Ratio = 0.06914456141536393\n",
            "Generation 66: New Best Sharpe Ratio = 0.06914643521298654\n",
            "Generation 68: New Best Sharpe Ratio = 0.06914718188935251\n",
            "Generation 71: New Best Sharpe Ratio = 0.06914724186829503\n",
            "Generation 72: New Best Sharpe Ratio = 0.06914725043609574\n",
            "Generation 74: New Best Sharpe Ratio = 0.06914725620414368\n",
            "Generation 77: New Best Sharpe Ratio = 0.06914725668444532\n",
            "Generation 78: New Best Sharpe Ratio = 0.06914725731707852\n",
            "Generation 80: New Best Sharpe Ratio = 0.0691480998040421\n",
            "Generation 82: New Best Sharpe Ratio = 0.06915682779081847\n",
            "Generation 83: New Best Sharpe Ratio = 0.06915859999017744\n",
            "Generation 84: New Best Sharpe Ratio = 0.06916059977801219\n",
            "Generation 86: New Best Sharpe Ratio = 0.06916090810034864\n",
            "Generation 87: New Best Sharpe Ratio = 0.06916113310723004\n",
            "Generation 88: New Best Sharpe Ratio = 0.06916131479684404\n",
            "Generation 89: New Best Sharpe Ratio = 0.06916156117760897\n",
            "Generation 91: New Best Sharpe Ratio = 0.06916821215655042\n",
            "Generation 92: New Best Sharpe Ratio = 0.06916824694406774\n",
            "Generation 95: New Best Sharpe Ratio = 0.06916826024264636\n",
            "Generation 96: New Best Sharpe Ratio = 0.06916830678361022\n",
            "Generation 97: New Best Sharpe Ratio = 0.06916831359619961\n",
            "Generation 102: New Best Sharpe Ratio = 0.06916832000270486\n",
            "Generation 103: New Best Sharpe Ratio = 0.0691683203315794\n",
            "Generation 104: New Best Sharpe Ratio = 0.06917093231998735\n",
            "Generation 105: New Best Sharpe Ratio = 0.06917122274824487\n",
            "Generation 111: New Best Sharpe Ratio = 0.06917124680800382\n",
            "Generation 115: New Best Sharpe Ratio = 0.06917124719630922\n",
            "Generation 116: New Best Sharpe Ratio = 0.06917124828602668\n",
            "Generation 117: New Best Sharpe Ratio = 0.06917124836257296\n",
            "Generation 118: New Best Sharpe Ratio = 0.06917124836730328\n",
            "Generation 119: New Best Sharpe Ratio = 0.06917124843382887\n",
            "Generation 120: New Best Sharpe Ratio = 0.06917124845760375\n",
            "Generation 121: New Best Sharpe Ratio = 0.06917137353072197\n",
            "Generation 124: New Best Sharpe Ratio = 0.06917138087272676\n",
            "Generation 125: New Best Sharpe Ratio = 0.06917138265028638\n",
            "Generation 127: New Best Sharpe Ratio = 0.06917139327891925\n",
            "Generation 128: New Best Sharpe Ratio = 0.06917139572317041\n",
            "Generation 129: New Best Sharpe Ratio = 0.06917140224456775\n",
            "Generation 130: New Best Sharpe Ratio = 0.06917140323091664\n",
            "Generation 135: New Best Sharpe Ratio = 0.06917140335276124\n",
            "Generation 137: New Best Sharpe Ratio = 0.06917140336658291\n",
            "Generation 144: New Best Sharpe Ratio = 0.06917140336911669\n",
            "Generation 145: New Best Sharpe Ratio = 0.06917140336952554\n",
            "Generation 147: New Best Sharpe Ratio = 0.0691714033701709\n",
            "Generation 148: New Best Sharpe Ratio = 0.06917140337024097\n",
            "Generation 149: New Best Sharpe Ratio = 0.06917140337024595\n",
            "Generation 150: New Best Sharpe Ratio = 0.06917140337027416\n",
            "Generation 151: New Best Sharpe Ratio = 0.0691714033703196\n",
            "Generation 152: New Best Sharpe Ratio = 0.06917140337032339\n",
            "Generation 153: New Best Sharpe Ratio = 0.06917156304115595\n",
            "Generation 157: New Best Sharpe Ratio = 0.06917157390481639\n",
            "Generation 158: New Best Sharpe Ratio = 0.06917157915601269\n",
            "Generation 160: New Best Sharpe Ratio = 0.0691715849556414\n",
            "Generation 161: New Best Sharpe Ratio = 0.06917158607722386\n",
            "Generation 165: New Best Sharpe Ratio = 0.06917158616387545\n",
            "Generation 168: New Best Sharpe Ratio = 0.06917158617821922\n",
            "Generation 170: New Best Sharpe Ratio = 0.06917158618039798\n",
            "Generation 171: New Best Sharpe Ratio = 0.06917158619076474\n",
            "Generation 172: New Best Sharpe Ratio = 0.06917158619215974\n",
            "Generation 175: New Best Sharpe Ratio = 0.06917158619243806\n",
            "Generation 179: New Best Sharpe Ratio = 0.0691715861924527\n",
            "Generation 180: New Best Sharpe Ratio = 0.06917158619245463\n",
            "Generation 184: New Best Sharpe Ratio = 0.06917158619245481\n",
            "Generation 186: New Best Sharpe Ratio = 0.06917158619245482\n",
            "Generation 191: New Best Sharpe Ratio = 0.06917158619245484\n",
            "Generation 252: New Best Sharpe Ratio = 0.06917161272051993\n",
            "Generation 254: New Best Sharpe Ratio = 0.06917161382006053\n",
            "Generation 257: New Best Sharpe Ratio = 0.06917161383472908\n",
            "Generation 259: New Best Sharpe Ratio = 0.06917161392432362\n",
            "Generation 268: New Best Sharpe Ratio = 0.06917161392531394\n",
            "Generation 272: New Best Sharpe Ratio = 0.06917161392537972\n",
            "Generation 273: New Best Sharpe Ratio = 0.06917161392541753\n",
            "Generation 279: New Best Sharpe Ratio = 0.06917161392541855\n",
            "Generation 280: New Best Sharpe Ratio = 0.06917161392541861\n",
            "Generation 282: New Best Sharpe Ratio = 0.06917161392541897\n",
            "Generation 284: New Best Sharpe Ratio = 0.06917161392541904\n",
            "Generation 287: New Best Sharpe Ratio = 0.06917161392541907\n",
            "Generation 294: New Best Sharpe Ratio = 0.06917161392541908\n"
          ]
        },
        {
          "output_type": "execute_result",
          "data": {
            "text/plain": [
              "(np.float64(0.06917161392541908),\n",
              " array([0.0782598 , 0.        , 0.        , 0.        , 0.05004454,\n",
              "        0.46570254, 0.        , 0.05067805, 0.35531508, 0.        ]))"
            ]
          },
          "metadata": {},
          "execution_count": 197
        }
      ]
    },
    {
      "cell_type": "code",
      "source": [
        "plt.plot(fitness_history)\n",
        "plt.title(\"Experiment 3 - Sharpe Ratio Evolution\")\n",
        "plt.xlabel(\"Generation\")\n",
        "plt.ylabel(\"Best Sharpe Ratio\")\n",
        "plt.grid(True)\n",
        "plt.show()"
      ],
      "metadata": {
        "id": "NooSZ6NpRouv",
        "outputId": "09bc4ab0-9064-4d1c-8e89-d5c3d121d7a6",
        "colab": {
          "base_uri": "https://localhost:8080/",
          "height": 472
        }
      },
      "execution_count": 198,
      "outputs": [
        {
          "output_type": "display_data",
          "data": {
            "text/plain": [
              "<Figure size 640x480 with 1 Axes>"
            ],
            "image/png": "[encoded data removed]"
          },
          "metadata": {}
        }
      ]
    },
    {
      "cell_type": "markdown",
      "source": [
        "### Observation for 3rd GA Loop (Diversified Stock Selection and higher acceptable fitness)\n",
        "- No improvement in Sharpe Ratio (0.082 → 0.06) after adding more diversified stocks.\n",
        "- More balanced asset allocation, but still concentrated in a few stocks (38% in one, 35% in another).\n",
        "- Premature convergence still present (~Generation 190), indicating limited further optimization.\n",
        "- Diversification had a positive effect, but not enough to achieve a Sharpe Ratio > 1."
      ],
      "metadata": {
        "id": "uS1eBevjZcJH"
      }
    },
    {
      "cell_type": "markdown",
      "source": [
        "### **Future Fine-Tuning & Justification for Stopping**  \n",
        "\n",
        "- Stopped due to time constraints, but successfully demonstrated GA tuning and optimization.  \n",
        "- Fixed major issues (data errors, negative Sharpe Ratios, lack of diversification).  \n",
        "- Showed improvements across multiple GA runs, proving the ability to fine-tune parameters.  \n",
        "- Further improvements require more time and may involve testing bonds, ETFs, or alternative selection methods.  \n",
        "\n",
        "**Conclusion:** GA optimization was successfully demonstrated, and further improvements would require additional time.   \n"
      ],
      "metadata": {
        "id": "XFRFNpIAZufm"
      }
    },
    {
      "cell_type": "markdown",
      "source": [
        "### **Henry's opinion on a low Sharpe Ratio:**<br>\n",
        "After trying out several different parameters and stock options, I found out that a low Sharpe Ratio isn’t necessarily a sign that the Genetic Algorithm failed. Instead, it reflects real-world historical market conditions where even optimized portfolios couldn’t achieve high risk-adjusted returns. This highlighted the importance of realistic expectations when working with financial data, and proved that GA is still a valuable tool for discovering stable and diversified asset allocations.\n",
        "\n",
        "This project helped me better understand how market volatility, asset correlation, and portfolio diversity directly influence investment performance — and how AI techniques like genetic algorithms can be used to explore those relationships at scale.\n"
      ],
      "metadata": {
        "id": "voelwGUpSOPa"
      }
    }
  ]
}