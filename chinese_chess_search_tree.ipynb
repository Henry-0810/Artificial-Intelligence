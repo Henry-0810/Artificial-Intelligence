{
  "nbformat": 4,
  "nbformat_minor": 0,
  "metadata": {
    "colab": {
      "provenance": [],
      "authorship_tag": "ABX9TyPmJU3iK0LbPC9NCfqQGue8",
      "include_colab_link": true
    },
    "kernelspec": {
      "name": "python3",
      "display_name": "Python 3"
    },
    "language_info": {
      "name": "python"
    }
  },
  "cells": [
    {
      "cell_type": "markdown",
      "metadata": {
        "id": "view-in-github",
        "colab_type": "text"
      },
      "source": [
        "<a href=\"https://colab.research.google.com/github/Henry-0810/Artificial-Intelligence/blob/main/chinese_chess_search_tree.ipynb\" target=\"_parent\"><img src=\"https://colab.research.google.com/assets/colab-badge.svg\" alt=\"Open In Colab\"/></a>"
      ]
    },
    {
      "cell_type": "markdown",
      "source": [
        "# Search Tree Algorithm Project\n",
        "## End Game Steps of Chinese Chess (Xiang Qi)\n",
        "Since full-game Chinese Chess is too complex, I plan to only focus on specific endgame scenarios.\n",
        "1. King + Chariot vs. King (Basic but useful)\n",
        "2. King + Cannon vs. King + Soldier (Intermediate)\n",
        "3. King + Horse vs. King (More complex, requires mobility evaluation)\n",
        "\n",
        "These scenarios are chosen because:\n",
        "- The search tree remains manageable.\n",
        "- The AI can calculate winning or drawing strategies.\n",
        "- It demonstrates Minimax’s effectiveness.\n",
        "\n",
        "---\n",
        "\n",
        "**Some extra information about chinese chess:**\n",
        "1. Chariot only can move up, down, left and right. It can capture any chess pieces, acts like a Rook in classic chess.\n",
        "2. Cannon only can move up, down, left and right. A cannon must jump over a chess piece in its path to capture opponent's chess piece.\n",
        "3. Soldier can only move one step forward, but once it moves pass the river, which is the mid line of the chess board, it can then move one step left, right and forward.\n",
        "4. The Horse moves one point horizontally or vertically, and then one point diagonally. It cannot move in a direction where there is a piece blocking it along the path of movement.\n",
        "\n",
        "---\n",
        "\n",
        "**References:**\n",
        "- [XiangQi Guide](https://www.xiangqi.com/how-to-play-xiangqi)"
      ],
      "metadata": {
        "id": "3_xCrC4dMO-r"
      }
    },
    {
      "cell_type": "markdown",
      "source": [
        "### **Implementation**"
      ],
      "metadata": {
        "id": "5u9wM3QkwRp5"
      }
    },
    {
      "cell_type": "code",
      "source": [
        "class Current_Board():\n",
        "  def __init__(self, size=[9,10]):\n",
        "    self.board = [['.']*size[0]]*size[1]\n",
        "\n",
        "  def display(self):\n",
        "    b = self.board\n",
        "    for i in range(len(b)):\n",
        "      for j in range(len(b[i])):\n",
        "        print(b[i, j])"
      ],
      "metadata": {
        "id": "Eoy5_cKTycBL"
      },
      "execution_count": 5,
      "outputs": []
    },
    {
      "cell_type": "code",
      "source": [
        "board = Current_Board()\n",
        "board.display"
      ],
      "metadata": {
        "colab": {
          "base_uri": "https://localhost:8080/",
          "height": 103
        },
        "id": "lEk5GEHJz8f9",
        "outputId": "72204535-ad03-4c21-ff3b-3f75ecea33e8"
      },
      "execution_count": 6,
      "outputs": [
        {
          "output_type": "execute_result",
          "data": {
            "text/plain": [
              "<bound method Current_Board.display of <__main__.Current_Board object at 0x7c34d3a62750>>"
            ],
            "text/html": [
              "<div style=\"max-width:800px; border: 1px solid var(--colab-border-color);\"><style>\n",
              "      pre.function-repr-contents {\n",
              "        overflow-x: auto;\n",
              "        padding: 8px 12px;\n",
              "        max-height: 500px;\n",
              "      }\n",
              "\n",
              "      pre.function-repr-contents.function-repr-contents-collapsed {\n",
              "        cursor: pointer;\n",
              "        max-height: 100px;\n",
              "      }\n",
              "    </style>\n",
              "    <pre style=\"white-space: initial; background:\n",
              "         var(--colab-secondary-surface-color); padding: 8px 12px;\n",
              "         border-bottom: 1px solid var(--colab-border-color);\"><b>Current_Board.display</b><br/>def display()</pre><pre class=\"function-repr-contents function-repr-contents-collapsed\" style=\"\"><a class=\"filepath\" style=\"display:none\" href=\"#\">/content/&lt;ipython-input-5-32a7296bbc25&gt;</a>&lt;no docstring&gt;</pre></div>"
            ]
          },
          "metadata": {},
          "execution_count": 6
        }
      ]
    }
  ]
}