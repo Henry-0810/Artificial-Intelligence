{
  "nbformat": 4,
  "nbformat_minor": 0,
  "metadata": {
    "colab": {
      "provenance": [],
      "authorship_tag": "ABX9TyN2Rbq87x6ZNviaxDgMtZnr",
      "include_colab_link": true
    },
    "kernelspec": {
      "name": "python3",
      "display_name": "Python 3"
    },
    "language_info": {
      "name": "python"
    }
  },
  "cells": [
    {
      "cell_type": "markdown",
      "metadata": {
        "id": "view-in-github",
        "colab_type": "text"
      },
      "source": [
        "<a href=\"https://colab.research.google.com/github/Henry-0810/Artificial-Intelligence/blob/main/chinese_chess_search_tree.ipynb\" target=\"_parent\"><img src=\"https://colab.research.google.com/assets/colab-badge.svg\" alt=\"Open In Colab\"/></a>"
      ]
    },
    {
      "cell_type": "markdown",
      "source": [
        "# Search Tree Algorithm Project\n",
        "## End Game Steps of Chinese Chess (Xiang Qi)\n",
        "Since full-game Chinese Chess is too complex, I plan to only focus on specific endgame scenarios.\n",
        "1. King + Chariot vs. King (Basic but useful)\n",
        "2. King + Cannon vs. King + Soldier (Intermediate)\n",
        "3. King + Horse vs. King (More complex, requires mobility evaluation)\n",
        "\n",
        "These scenarios are chosen because:\n",
        "- The search tree remains manageable.\n",
        "- The AI can calculate winning or drawing strategies.\n",
        "- It demonstrates Minimax’s effectiveness.\n",
        "\n",
        "---\n",
        "\n",
        "**Some extra information about chinese chess:**\n",
        "1. Chariot only can move up, down, left and right. It can capture any chess pieces, acts like a Rook in classic chess.\n",
        "2. Cannon only can move up, down, left and right. A cannon must jump over a chess piece in its path to capture opponent's chess piece.\n",
        "3. Soldier can only move one step forward, but once it moves pass the river, which is the mid line of the chess board, it can then move one step left, right and forward.\n",
        "4. The Horse moves one point horizontally or vertically, and then one point diagonally. It cannot move in a direction where there is a piece blocking it along the path of movement.\n",
        "\n",
        "---\n",
        "\n",
        "**References:**\n",
        "- [XiangQi Guide](https://www.xiangqi.com/how-to-play-xiangqi)"
      ],
      "metadata": {
        "id": "3_xCrC4dMO-r"
      }
    },
    {
      "cell_type": "markdown",
      "source": [
        "### **Implementation**"
      ],
      "metadata": {
        "id": "5u9wM3QkwRp5"
      }
    },
    {
      "cell_type": "code",
      "source": [
        "from copy import deepcopy"
      ],
      "metadata": {
        "id": "Eoy5_cKTycBL"
      },
      "execution_count": 1,
      "outputs": []
    },
    {
      "cell_type": "code",
      "source": [
        "class CurrentBoard:\n",
        "    def __init__(self, board_state=None):\n",
        "        # 9x10 board represented as a list of lists\n",
        "        if board_state:\n",
        "            self.board = deepcopy(board_state)\n",
        "        else:\n",
        "            self.board = self.default_endgame_board()\n",
        "        self.state = self.state_of_board()\n",
        "\n",
        "    def default_endgame_board(self):\n",
        "        # Simple endgame scenario: Red King vs Black King and Black Rook\n",
        "        # Empty cells = '.', Red = 'R', Black = 'B'\n",
        "        board = [['.' for _ in range(9)] for _ in range(10)]\n",
        "        board[0][4] = 'BK'  # Black King\n",
        "        board[0][0] = 'BR'  # Black Rook\n",
        "        board[9][4] = 'RK'  # Red King\n",
        "        return board\n",
        "\n",
        "    def display(self):\n",
        "        for row in self.board:\n",
        "            print(\" \".join(row))\n",
        "        print(\"\\n\")\n",
        "\n",
        "    def other(self, piece):\n",
        "        return 'B' if piece == 'R' else 'R'\n",
        "\n",
        "    def get_piece_owner(self, piece):\n",
        "        return piece[0] if piece != '.' else None\n",
        "\n",
        "    def state_of_board(self):\n",
        "        # Simplified: check if either King is missing\n",
        "        red_king = black_king = False\n",
        "        for row in self.board:\n",
        "            for cell in row:\n",
        "                if cell == 'RK':\n",
        "                    red_king = True\n",
        "                if cell == 'BK':\n",
        "                    black_king = True\n",
        "        if not red_king:\n",
        "            return 'B_WIN'\n",
        "        if not black_king:\n",
        "            return 'R_WIN'\n",
        "        return 'U'\n",
        "\n",
        "    def all_possible_moves(self, player):\n",
        "        # Only implements basic king and rook logic\n",
        "        directions = {\n",
        "            'RK': [(-1, 0), (1, 0), (0, -1), (0, 1)],\n",
        "            'BK': [(-1, 0), (1, 0), (0, -1), (0, 1)],\n",
        "            'BR': [(-1, 0), (1, 0), (0, -1), (0, 1)]\n",
        "        }\n",
        "        moves = []\n",
        "        for r in range(10):\n",
        "            for c in range(9):\n",
        "                piece = self.board[r][c]\n",
        "                if piece != '.' and self.get_piece_owner(piece) == player:\n",
        "                    for dr, dc in directions.get(piece, []):\n",
        "                        nr, nc = r + dr, c + dc\n",
        "                        if 0 <= nr < 10 and 0 <= nc < 9:\n",
        "                            target = self.board[nr][nc]\n",
        "                            if target == '.' or self.get_piece_owner(target) != player:\n",
        "                                new_board = deepcopy(self.board)\n",
        "                                new_board[nr][nc] = piece\n",
        "                                new_board[r][c] = '.'\n",
        "                                moves.append(CurrentBoard(new_board))\n",
        "        return moves"
      ],
      "metadata": {
        "id": "lEk5GEHJz8f9"
      },
      "execution_count": 2,
      "outputs": []
    },
    {
      "cell_type": "code",
      "source": [
        "class SearchTreeNode:\n",
        "    def __init__(self, board_instance, playing_as, ply=0):\n",
        "        self.children = []\n",
        "        self.value_is_assigned = False\n",
        "        self.ply_depth = ply\n",
        "        self.current_board = board_instance\n",
        "        self.move_for = playing_as\n",
        "\n",
        "        if self.current_board.state == 'U':\n",
        "            self.generate_children()\n",
        "        else:\n",
        "            self.value = self.evaluate_terminal_state()\n",
        "            self.value_is_assigned = True\n",
        "\n",
        "    def evaluate_terminal_state(self):\n",
        "        if self.current_board.state == 'D':\n",
        "            return 0\n",
        "        elif self.current_board.state == f'{self.move_for}_WIN':\n",
        "            return 1\n",
        "        else:\n",
        "            return -1\n",
        "\n",
        "    def min_max_value(self):\n",
        "        if self.value_is_assigned:\n",
        "            return self.value\n",
        "\n",
        "        child_values = [child.min_max_value() for child in self.children]\n",
        "        if (self.ply_depth % 2) == 0:\n",
        "            self.value = max(child_values)\n",
        "        else:\n",
        "            self.value = min(child_values)\n",
        "\n",
        "        self.value_is_assigned = True\n",
        "        return self.value\n",
        "\n",
        "    def generate_children(self):\n",
        "        for next_board in self.current_board.all_possible_moves(self.move_for):\n",
        "            self.children.append(SearchTreeNode(next_board, self.current_board.other(self.move_for), self.ply_depth + 1))\n"
      ],
      "metadata": {
        "id": "YMNVXr15jBGk"
      },
      "execution_count": 3,
      "outputs": []
    },
    {
      "cell_type": "code",
      "source": [
        "def play_xiangqi_endgame():\n",
        "    cb = CurrentBoard()\n",
        "    player = 'R'  # You play Red\n",
        "    turn = 0\n",
        "\n",
        "    while cb.state == 'U':\n",
        "        print(f\"Turn {turn}, {player}'s move\")\n",
        "        cb.display()\n",
        "\n",
        "        if player == 'R':\n",
        "            # Let human player select from all possible moves\n",
        "            possible = cb.all_possible_moves(player)\n",
        "            for idx, b in enumerate(possible):\n",
        "                print(f\"Move {idx}:\")\n",
        "                b.display()\n",
        "            move = int(input(\"Choose move: \"))\n",
        "            cb = possible[move]\n",
        "        else:\n",
        "            tree = SearchTreeNode(cb, player)\n",
        "            tree.min_max_value()\n",
        "            best_move = max(tree.children, key=lambda x: x.value)\n",
        "            cb = best_move.current_board\n",
        "\n",
        "        player = cb.other(player)\n",
        "        turn += 1\n",
        "\n",
        "    print(f\"Game Over! Winner: {cb.state}\")\n",
        "    cb.display()\n"
      ],
      "metadata": {
        "id": "uy8EkExZjFRd"
      },
      "execution_count": 4,
      "outputs": []
    }
  ]
}