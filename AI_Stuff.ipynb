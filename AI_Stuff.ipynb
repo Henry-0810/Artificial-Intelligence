{
  "nbformat": 4,
  "nbformat_minor": 0,
  "metadata": {
    "colab": {
      "provenance": [],
      "toc_visible": true,
      "authorship_tag": "ABX9TyNt2LSU1dF3+Y2m54gx6tiy",
      "include_colab_link": true
    },
    "kernelspec": {
      "name": "python3",
      "display_name": "Python 3"
    },
    "language_info": {
      "name": "python"
    }
  },
  "cells": [
    {
      "cell_type": "markdown",
      "metadata": {
        "id": "view-in-github",
        "colab_type": "text"
      },
      "source": [
        "<a href=\"https://colab.research.google.com/github/Henry-0810/Artificial-Intelligence/blob/main/AI_Stuff.ipynb\" target=\"_parent\"><img src=\"https://colab.research.google.com/assets/colab-badge.svg\" alt=\"Open In Colab\"/></a>"
      ]
    },
    {
      "cell_type": "markdown",
      "source": [
        "# Module Content\n",
        "1. 30% Genetic Algorithm\n",
        "2. 30% Search Tree Algorithm\n",
        "3. 40% Data Driven project - 2 datasets"
      ],
      "metadata": {
        "id": "rQdTFgUT-2kb"
      }
    },
    {
      "cell_type": "markdown",
      "source": [
        "# Lecture 1\n",
        "Genetic Algorithm Start"
      ],
      "metadata": {
        "id": "Sed80I6KEHIf"
      }
    },
    {
      "cell_type": "code",
      "source": [
        "import numpy as np\n",
        "from copy import deepcopy\n",
        "\n",
        "x = [1, 2, 5, -4, 6, 8]\n",
        "y = [2, 2, 2, 2, 2, 2]\n",
        "z = [-1, -2, -5, 4, -6, -8]\n"
      ],
      "metadata": {
        "id": "JWC-9hePEOao"
      },
      "execution_count": null,
      "outputs": []
    },
    {
      "cell_type": "code",
      "source": [
        "def sphere(x):\n",
        "  total = 0\n",
        "  for i in x:\n",
        "    total += i*i\n",
        "  return total"
      ],
      "metadata": {
        "id": "cCqFQlm5Eibf"
      },
      "execution_count": null,
      "outputs": []
    },
    {
      "cell_type": "code",
      "source": [
        "sphere(x)"
      ],
      "metadata": {
        "colab": {
          "base_uri": "https://localhost:8080/"
        },
        "id": "qwI5vwjtE_Qu",
        "outputId": "9f0f0b2f-a3f5-4d02-8261-aeb87cb3ed50"
      },
      "execution_count": null,
      "outputs": [
        {
          "output_type": "execute_result",
          "data": {
            "text/plain": [
              "146"
            ]
          },
          "metadata": {},
          "execution_count": 3
        }
      ]
    },
    {
      "cell_type": "code",
      "source": [
        "sphere(z)"
      ],
      "metadata": {
        "colab": {
          "base_uri": "https://localhost:8080/"
        },
        "id": "hVviCdClFCNO",
        "outputId": "885e6171-f02b-489a-f31c-e62d9d2ca72e"
      },
      "execution_count": null,
      "outputs": [
        {
          "output_type": "execute_result",
          "data": {
            "text/plain": [
              "146"
            ]
          },
          "metadata": {},
          "execution_count": 4
        }
      ]
    },
    {
      "cell_type": "code",
      "source": [
        "class problem:\n",
        "  def __init__(self):\n",
        "    self.number_of_genes = 8\n",
        "    self.min_value = -10\n",
        "    self.max_value = 10\n",
        "    self.cost_function = sphere\n",
        "    pass"
      ],
      "metadata": {
        "id": "hRj-SOQmFewF"
      },
      "execution_count": null,
      "outputs": []
    },
    {
      "cell_type": "code",
      "source": [
        "class individual:\n",
        "  def __init__(self, problem):\n",
        "    self.chromosome = np.random.uniform(problem.min_value, problem.max_value, problem.number_of_genes)\n",
        "    self.cost = problem.cost_function(self.chromosome)\n",
        "\n",
        "  def mutate(self, rate_of_gene_mutation, range_of_gene_mutation):\n",
        "    for index in range(len(self.chromosome)):\n",
        "      if np.random.uniform() < rate_of_gene_mutation:\n",
        "        self.chromosome[index] += np.random.rand() * range_of_gene_mutation\n",
        "\n",
        "  def crossover(self, parent2, explore_crossover):\n",
        "    alpha = np.random.uniform(-explore_crossover, 1 + explore_crossover)\n",
        "    child1 = deepcopy(self)\n",
        "    child2 = deepcopy(parent2)\n",
        "    child1.chromosome = alpha*self.chromosome + (1-alpha)*parent2.chromosome\n",
        "    child2.chromosome = alpha*parent2.chromosome + (1-alpha)*self.chromosome\n",
        "    return child1, child2\n"
      ],
      "metadata": {
        "id": "SfWHQvdLFEqH"
      },
      "execution_count": null,
      "outputs": []
    },
    {
      "cell_type": "code",
      "source": [
        "class parameter():\n",
        "  def __init__(self):\n",
        "    self.population = 1000"
      ],
      "metadata": {
        "id": "5c_wUaFsTnjX"
      },
      "execution_count": null,
      "outputs": []
    },
    {
      "cell_type": "code",
      "source": [
        "def run_genetic(problem, parameter):\n",
        "  \"\"\"\n",
        "  1. Read Variables\n",
        "  2. Create Population\n",
        "  3. Training Loop\n",
        "  start loop\n",
        "    4. Create Children\n",
        "    5. Sort Population\n",
        "    6. Cull Population - choose parent, use it to find more children\n",
        "    7. Check Solution\n",
        "  end loop\n",
        "\n",
        "  How to effectively choose parents (roulette, tournament)\n",
        "  \"\"\"\n",
        "  pass\n"
      ],
      "metadata": {
        "id": "SnejwSkNTDkn"
      },
      "execution_count": null,
      "outputs": []
    },
    {
      "cell_type": "code",
      "source": [
        "p = problem()\n",
        "p.number_of_genes"
      ],
      "metadata": {
        "colab": {
          "base_uri": "https://localhost:8080/"
        },
        "id": "NyMKe2s9Ha8-",
        "outputId": "6c703eaf-aee4-4050-fcc3-a6395a3e9679"
      },
      "execution_count": null,
      "outputs": [
        {
          "output_type": "execute_result",
          "data": {
            "text/plain": [
              "8"
            ]
          },
          "metadata": {},
          "execution_count": 37
        }
      ]
    },
    {
      "cell_type": "code",
      "source": [
        "test = individual(p)\n",
        "test.chromosome"
      ],
      "metadata": {
        "colab": {
          "base_uri": "https://localhost:8080/"
        },
        "id": "yJSHVfg0HjXd",
        "outputId": "ddacd04e-959c-46f8-98fd-321d254eb5e3"
      },
      "execution_count": null,
      "outputs": [
        {
          "output_type": "execute_result",
          "data": {
            "text/plain": [
              "array([-7.84714107,  8.47322538, -4.53206043, -5.69098777,  8.90736991,\n",
              "        6.55052822, -9.06295429, -9.68990403])"
            ]
          },
          "metadata": {},
          "execution_count": 38
        }
      ]
    },
    {
      "cell_type": "code",
      "source": [
        "test.cost"
      ],
      "metadata": {
        "colab": {
          "base_uri": "https://localhost:8080/"
        },
        "id": "QZzgnRYnJCAk",
        "outputId": "78e0c51d-b213-4c49-9805-f466e971b0a6"
      },
      "execution_count": null,
      "outputs": [
        {
          "output_type": "execute_result",
          "data": {
            "text/plain": [
              "489.6231642363722"
            ]
          },
          "metadata": {},
          "execution_count": 27
        }
      ]
    },
    {
      "cell_type": "code",
      "source": [
        "population = []\n",
        "for i in range(1000):\n",
        "  population.append(individual(p))"
      ],
      "metadata": {
        "id": "bIbvIotCJmKd"
      },
      "execution_count": null,
      "outputs": []
    },
    {
      "cell_type": "code",
      "source": [
        "population[0:5]"
      ],
      "metadata": {
        "colab": {
          "base_uri": "https://localhost:8080/"
        },
        "id": "HgEqRjbpJswd",
        "outputId": "a584ea6b-6bb5-4efe-a7a6-8cc4f5a4fe85"
      },
      "execution_count": null,
      "outputs": [
        {
          "output_type": "execute_result",
          "data": {
            "text/plain": [
              "[<__main__.individual at 0x7c2b5639c6d0>,\n",
              " <__main__.individual at 0x7c2b0f3cedd0>,\n",
              " <__main__.individual at 0x7c2b0f3cd110>,\n",
              " <__main__.individual at 0x7c2b0f3cdc10>,\n",
              " <__main__.individual at 0x7c2b0f3cc050>]"
            ]
          },
          "metadata": {},
          "execution_count": 29
        }
      ]
    },
    {
      "cell_type": "code",
      "source": [
        "test.mutate(0.5, 2)"
      ],
      "metadata": {
        "id": "RcNuIN76OXgv"
      },
      "execution_count": null,
      "outputs": []
    },
    {
      "cell_type": "code",
      "source": [
        "test.chromosome"
      ],
      "metadata": {
        "colab": {
          "base_uri": "https://localhost:8080/"
        },
        "id": "UovL2BEcOc1X",
        "outputId": "5ad7c10b-8fa2-4dcf-c3c6-a8b7b14d238f"
      },
      "execution_count": null,
      "outputs": [
        {
          "output_type": "execute_result",
          "data": {
            "text/plain": [
              "array([-7.25818831,  9.36003824, -4.53206043, -3.81035617,  8.90736991,\n",
              "        6.55052822, -7.4576743 , -9.68990403])"
            ]
          },
          "metadata": {},
          "execution_count": 41
        }
      ]
    },
    {
      "cell_type": "code",
      "source": [
        "p_test = problem()\n",
        "\n",
        "i1 = individual(p_test)\n",
        "i2 = individual(p_test)\n",
        "\n",
        "print(i1.chromosome)\n",
        "print(i2.chromosome)\n",
        "\n",
        "print(\"\\n\")\n",
        "\n",
        "c1, c2 = i1.crossover(i2, 2)\n",
        "print(c1.chromosome)\n",
        "print(c2.chromosome)"
      ],
      "metadata": {
        "colab": {
          "base_uri": "https://localhost:8080/"
        },
        "id": "Wz8qPYHCST-1",
        "outputId": "16da11c7-683e-4098-ccad-6ba64b27699d"
      },
      "execution_count": null,
      "outputs": [
        {
          "output_type": "stream",
          "name": "stdout",
          "text": [
            "[-0.31422343  7.4342193  -8.19732211  1.72144803  8.80685826 -2.44237543\n",
            " -6.2503369  -3.36991399]\n",
            "[-5.81813753  6.16610711  1.82328391 -4.84141316 -4.47414168  9.17242565\n",
            "  5.76078679  8.72052474]\n",
            "\n",
            "\n",
            "[  8.09156414   9.3709286  -23.50117388  11.7445      29.090108\n",
            " -20.1809427  -24.59418317 -21.83489322]\n",
            "[-14.22392511   4.2293978   17.12713568 -14.86446512 -24.75739141\n",
            "  26.91099292  24.10463306  27.18550397]\n"
          ]
        }
      ]
    }
  ]
}