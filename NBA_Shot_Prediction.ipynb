{
  "cells": [
    {
      "cell_type": "markdown",
      "metadata": {
        "id": "view-in-github",
        "colab_type": "text"
      },
      "source": [
        "<a href=\"https://colab.research.google.com/github/Henry-0810/Artificial-Intelligence/blob/main/NBA_Shot_Prediction.ipynb\" target=\"_parent\"><img src=\"https://colab.research.google.com/assets/colab-badge.svg\" alt=\"Open In Colab\"/></a>"
      ]
    },
    {
      "cell_type": "markdown",
      "source": [
        "## 🏀Introduction\n",
        "Basketball is a fast-paced sport where player decisions and shot-making ability can determine the outcome of a game. In the National Basketball Association (NBA), analyzing player shot tendencies and success rates has become a crucial part of team strategies and player development.\n",
        "Predicting the outcome of a shot attempt based on contextual factors such as location and player attributes could provide valuable insights for coaches, analysts, and players themselves.\n",
        "With advances in data collection and machine learning, it is now possible to model and predict shot outcomes more accurately than ever before."
      ],
      "metadata": {
        "id": "RYug4omlJAd5"
      }
    },
    {
      "cell_type": "markdown",
      "source": [
        "## Problem Description\n",
        "\n",
        "This project focuses on predicting the outcome of NBA shots — specifically, whether a given shot attempt results in a make (`1`) or a miss (`0`).  \n",
        "The prediction task leverages two primary sources of information:\n",
        "\n",
        "- **Shot Location Data**: Includes details about where and when a shot was taken, such as shot distance, court coordinates, and shot type.\n",
        "- **Player Season Statistics**: Includes player attributes such as field goal percentage, three-point percentage, free throw percentage, height, and weight.\n",
        "\n",
        "By combining spatial information (the context of the shot) with player performance metrics (historical season statistics), the objective is to build a machine learning model capable of accurately predicting shot success.\n",
        "\n",
        "Predicting shot outcomes has important applications in sports analytics, particularly in the areas of:\n",
        "\n",
        "- Player performance evaluation\n",
        "- Game strategy optimization\n",
        "- Scouting and training recommendations\n",
        "\n",
        "The dataset will consist of shots taken during the **2017–2018** and **2018–2019** NBA seasons, filtered to focus on **25 selected players** across different roles, including superstars, role players, big men, and defensive specialists, to ensure diversity and generalizability of the model.\n",
        "\n"
      ],
      "metadata": {
        "id": "wsfwsAE-lIci"
      }
    },
    {
      "cell_type": "markdown",
      "source": [
        "## **Allocation of marks**\n",
        "\n",
        "Stages 1,2,3   Total 30%\n",
        "\n",
        "Ideally your dataset will not need a lot of work. Marks going for the choosing,  training, evaluation and refining of model primarily\n",
        "\n",
        "\n",
        "\n",
        "\n",
        "---\n",
        "\n",
        "\n",
        "\n",
        "Stage 4,5       Total 60%\n",
        "\n",
        "Choose your model\n",
        "\n",
        "https://scikit-learn.org/stable/tutorial/machine_learning_map/index.html\n",
        "\n",
        "\n",
        "Train and evaluate your model. Refine the model or choose another estimator or approach?\n",
        "\n",
        "Do not overwrite cells and add commentry between iterations.\n",
        "\n",
        "\n",
        "\n",
        "---\n",
        "\n",
        "\n",
        "\n",
        "\n",
        "Stage 6         Total 10%"
      ],
      "metadata": {
        "id": "sgQZcH7afs47"
      }
    },
    {
      "cell_type": "code",
      "source": [
        "import pandas as pd\n",
        "import numpy as np\n",
        "import matplotlib.pyplot as plt\n",
        "import seaborn as sns\n",
        "from google.colab import drive\n",
        "drive.mount('/content/drive')"
      ],
      "metadata": {
        "id": "0cXaYghPVzEf",
        "outputId": "173cf0ac-17c9-4789-8939-5c2123667d3e",
        "colab": {
          "base_uri": "https://localhost:8080/"
        }
      },
      "execution_count": 3,
      "outputs": [
        {
          "output_type": "stream",
          "name": "stdout",
          "text": [
            "Mounted at /content/drive\n"
          ]
        }
      ]
    },
    {
      "cell_type": "markdown",
      "source": [
        "## Stage 1: Describe Data\n",
        "\n",
        "This project utilizes two main datasets sourced from publicly available NBA data on Kaggle and Basketball Reference:\n",
        "\n",
        "- **NBA Shot Logs Dataset (2017–2019)**  \n",
        "  Contains play-by-play shot-level data from NBA games, including shot distance, X/Y location on the court, shot type, game clock, quarter, and shot result (make/miss).\n",
        "\n",
        "- **NBA Player Season Stats Dataset (2017–2019)**  \n",
        "  Contains player-level season statistics including field goal percentage, three-point percentage, free throw percentage, height, weight, and other aggregated metrics.\n",
        "\n",
        "The two datasets will be linked using a shared `player_name` or `player_id` field to enrich each shot with corresponding player stats. This enables combining both spatial and statistical context for model training.\n",
        "\n",
        "The goal is to extract data from the **2017–2018** and **2018–2019** NBA seasons and filter down to **25 selected players** across different playstyles to ensure diversity.\n",
        "\n",
        "### Dataset Sources:\n",
        "- [Basketball Shots Dataset Link](https://www.kaggle.com/datasets/techbaron13/nba-shots-dataset-2001-present)\n",
        "- [Player Stats Dataset Link](https://www.kaggle.com/datasets/sadeghjalalian/nba-player-stats-19982022/data)\n",
        "\n",
        "---\n",
        "\n",
        "Below is a preview of both datasets with summary statistics and basic visualizations to understand their structure.\n"
      ],
      "metadata": {
        "id": "9f8rIb1E6dQS"
      }
    },
    {
      "cell_type": "code",
      "source": [],
      "metadata": {
        "id": "uY1dExPehLAq"
      },
      "execution_count": null,
      "outputs": []
    },
    {
      "cell_type": "code",
      "source": [],
      "metadata": {
        "id": "j8AX9Mz7MVQ7"
      },
      "execution_count": null,
      "outputs": []
    },
    {
      "cell_type": "markdown",
      "source": [
        "# **Stage 2**\n",
        "\n",
        "Justification for the property that you would like the model to predict."
      ],
      "metadata": {
        "id": "ZYY0zY7l60al"
      }
    },
    {
      "cell_type": "code",
      "source": [],
      "metadata": {
        "id": "xnK73v7R688t"
      },
      "execution_count": null,
      "outputs": []
    },
    {
      "cell_type": "markdown",
      "source": [
        "# **Stage 3**\n",
        "\n",
        "Cleaning the data, linking datasets etc..\n",
        "\n"
      ],
      "metadata": {
        "id": "OeanY09K69Le"
      }
    },
    {
      "cell_type": "code",
      "source": [],
      "metadata": {
        "id": "XMIxIidZhMGl"
      },
      "execution_count": null,
      "outputs": []
    },
    {
      "cell_type": "markdown",
      "source": [
        "# **Stage 4**\n",
        "Choose and train Estimator."
      ],
      "metadata": {
        "id": "QOZ3KnxR7QCs"
      }
    },
    {
      "cell_type": "code",
      "source": [],
      "metadata": {
        "id": "WxOtxpYLhM05"
      },
      "execution_count": null,
      "outputs": []
    },
    {
      "cell_type": "markdown",
      "source": [
        "# **Stage 5**\n",
        "Evaluate your model and revisit 4...repeat.."
      ],
      "metadata": {
        "id": "ZIz-Ez-sgsQe"
      }
    },
    {
      "cell_type": "code",
      "source": [],
      "metadata": {
        "id": "tUJT-BYqhNie"
      },
      "execution_count": null,
      "outputs": []
    },
    {
      "cell_type": "markdown",
      "source": [
        "# **Stage 6**\n",
        "***Present results and Conclusions***\n",
        "\n"
      ],
      "metadata": {
        "id": "4APZXYxS7Yef"
      }
    },
    {
      "cell_type": "markdown",
      "source": [],
      "metadata": {
        "id": "joNaHiMMhO6V"
      }
    }
  ],
  "metadata": {
    "interpreter": {
      "hash": "31f2aee4e71d21fbe5cf8b01ff0e069b9275f58929596ceb00d14d90e3e16cd6"
    },
    "kernelspec": {
      "display_name": "Python 3.6.9 64-bit",
      "language": "python",
      "name": "python3"
    },
    "language_info": {
      "codemirror_mode": {
        "name": "ipython",
        "version": 3
      },
      "file_extension": ".py",
      "mimetype": "text/x-python",
      "name": "python",
      "nbconvert_exporter": "python",
      "pygments_lexer": "ipython3",
      "version": "3.6.9"
    },
    "orig_nbformat": 4,
    "colab": {
      "provenance": [],
      "toc_visible": true,
      "include_colab_link": true
    }
  },
  "nbformat": 4,
  "nbformat_minor": 0
}